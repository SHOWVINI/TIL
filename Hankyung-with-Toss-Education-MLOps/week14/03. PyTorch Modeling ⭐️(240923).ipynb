{
 "cells": [
  {
   "cell_type": "code",
   "execution_count": 1,
   "metadata": {},
   "outputs": [],
   "source": [
    "from torch.utils.data import DataLoader\n",
    "from torchvision import datasets\n",
    "from torchvision.transforms import ToTensor\n",
    "\n",
    "train_data = datasets.FashionMNIST(\n",
    "    root=\"data\", # 데이터를 저장할 root 디렉토리\n",
    "    train=True, # 훈련용 데이터 설정\n",
    "    download=True, # 다운로드\n",
    "    transform=ToTensor() # 이미지 변환. 여기서는 TorchTesnor로 변환시킵니다.\n",
    ")\n",
    "\n",
    "test_data = datasets.FashionMNIST(\n",
    "    root=\"data\",\n",
    "    train=False,\n",
    "    download=True,\n",
    "    transform=ToTensor()\n",
    ")"
   ]
  },
  {
   "cell_type": "code",
   "execution_count": 2,
   "metadata": {},
   "outputs": [],
   "source": [
    "train_dataloader = DataLoader(train_data, batch_size=64, shuffle=True)\n",
    "test_dataloader  = DataLoader(test_data, batch_size=64, shuffle=False)"
   ]
  },
  {
   "cell_type": "markdown",
   "metadata": {},
   "source": [
    "# PyTorch Modeling"
   ]
  },
  {
   "cell_type": "markdown",
   "metadata": {},
   "source": [
    "> PyTorch 모델링 - 클래스 기반 모델 설계\n",
    "\n",
    "PyTorch에서 대부분의 모델은 클래스 기반으로 설계됩니다. \n",
    "\n",
    "이를 위해 torch.nn.Module 클래스를 상속받아 커스텀 모델을 만듭니다. \n",
    "\n",
    "이 클래스는 PyTorch에서 신경망 모델의 기본 구조를 정의하는데 사용됩니다."
   ]
  },
  {
   "cell_type": "markdown",
   "metadata": {},
   "source": [
    "파이토치는 대부분 클래스 기반 모델링을 수행합니다. `torch.nn.Module` 클래스를 상속 받아 만들게 됩니다. 필수적으로 오버라이딩 해야 하는 메소드는 생성자 `__init__`과 순전파를 담당하는 `forward` 입니다."
   ]
  },
  {
   "cell_type": "code",
   "execution_count": 3,
   "metadata": {},
   "outputs": [
    {
     "name": "stdout",
     "output_type": "stream",
     "text": [
      "tensor([[-0.0702],\n",
      "        [ 0.2714],\n",
      "        [ 0.0851],\n",
      "        [ 0.4392],\n",
      "        [-0.0590]], grad_fn=<AddmmBackward0>)\n"
     ]
    }
   ],
   "source": [
    "import torch\n",
    "import torch.nn as nn\n",
    "\n",
    "# 모델 클래스 정의\n",
    "class SimpleModel(nn.Module):\n",
    "    \n",
    "    def __init__(self):\n",
    "        super(SimpleModel, self).__init__()  # 부모 클래스(nn.Module)의 생성자 호출\n",
    "        self.fc1 = nn.Linear(10, 20)  # 첫 번째 선형 레이어 (입력 10, 출력 20)\n",
    "        self.fc2 = nn.Linear(20, 1)   # 두 번째 선형 레이어 (입력 20, 출력 1)\n",
    "    \n",
    "    def forward(self, x):\n",
    "        x = self.fc1(x)  # 첫 번째 레이어를 통과\n",
    "        x = torch.relu(x)  # ReLU 활성화 함수 적용\n",
    "        x = self.fc2(x)  # 두 번째 레이어를 통과\n",
    "        return x  # 결과 반환\n",
    "    \n",
    "# 모델 인스턴스 생성\n",
    "model = SimpleModel()\n",
    "\n",
    "# 가짜 데이터 생성\n",
    "input_data = torch.randn(5, 10)  # 5개의 샘플, 각 샘플은 10차원 벡터\n",
    "\n",
    "# 순전파 실행\n",
    "output = model(input_data)\n",
    "\n",
    "# 결과 출력\n",
    "print(output)\n",
    "\n",
    "\n",
    "# 1. torch.nn.Module 상속\n",
    "\n",
    "    # 모든 PyTorch 모델은 torch.nn.Module 클래스를 상속받아야 합니다. \n",
    "    # 이 클래스는 PyTorch의 신경망 구조의 기본 요소를 제공하며, 사용자 정의 모델을 생성할 때는 이 클래스를 상속받아 레이어와 연산을 정의할 수 있습니다.\n",
    "\n",
    "# 2. __init__() 메서드\n",
    "\n",
    "    # __init__() 메서드는 생성자로서, 모델의 **구성 요소(레이어)**를 정의합니다. \n",
    "    # 예를 들어, 선형 레이어(fully connected layer), 컨볼루션 레이어, 활성화 함수 등을 여기에 정의합니다. \n",
    "    # 이 메서드는 모델을 생성할 때 호출되며, 보통 모델의 구조를 결정하는 파라미터들을 정의합니다.\n",
    "\n",
    "# 3. forward() 메서드\n",
    "\n",
    "    # forward() 메서드는 **순전파(forward pass)**를 정의합니다. \n",
    "    # 입력 데이터를 받아서, 모델이 각 레이어를 어떻게 통과할지를 나타냅니다. \n",
    "    # 즉, 이 메서드는 데이터가 모델을 통과하면서 일어나는 연산을 정의합니다.\n",
    "\n",
    "# 4. 모델 학습 과정\n",
    "\n",
    "    # 모델을 정의한 후, 데이터를 모델에 입력하고 학습할 수 있습니다. \n",
    "    # **순전파(Forward Pass)**를 실행하여 모델이 어떻게 예측하는지를 확인한 후, **역전파(Backward Pass)**를 통해 기울기를 계산하고 모델을 최적화하는 과정이 이어집니다.\n",
    "\n",
    "# 5. 클래스 기반 모델 설계의 장점\n",
    "\n",
    "    # > 구조화: \n",
    "        # 클래스 기반 모델은 각 레이어와 연산을 구조적으로 정의할 수 있어 코드의 가독성과 유지보수성이 높습니다.\n",
    "    # > 확장성: \n",
    "        # torch.nn.Module을 상속받아 모델을 정의함으로써 복잡한 네트워크를 설계하거나, 커스텀 연산을 추가하는 것이 용이합니다.\n",
    "    # > 재사용성: \n",
    "        # __init__()에서 정의한 레이어는 여러 번 사용할 수 있으며, 다양한 재사용 가능한 레이어와 연산을 쉽게 정의할 수 있습니다.\n",
    "\n",
    "\n",
    "# 6. 종합 요약\n",
    "\n",
    "# - torch.nn.Module 상속: \n",
    "    # 모든 모델은 torch.nn.Module을 상속받아야 합니다.\n",
    "# - __init__(): \n",
    "    # 레이어와 연산을 정의하는 생성자입니다. 모델의 구조와 파라미터를 정의합니다.\n",
    "# - forward(): \n",
    "    # 입력 데이터를 받아서 순전파를 정의하는 메서드입니다. \n",
    "    # 데이터가 어떻게 모델을 통과하고 예측되는지를 정의합니다.\n"
   ]
  },
  {
   "cell_type": "markdown",
   "metadata": {},
   "source": [
    "다시 한번 해보자"
   ]
  },
  {
   "cell_type": "code",
   "execution_count": 5,
   "metadata": {},
   "outputs": [],
   "source": [
    "from torch import nn\n",
    "\n",
    "class NeuralNetwork(nn.Module):\n",
    "\n",
    "    def __init__(self):\n",
    "        # Subclass인 NeuralNetwork의 생성자.\n",
    "            # 여기에서 상위 클래스인 nn.Module의 생성에 대한 책임을 져야 한다. \n",
    "                # 책임이란? 부모클래스의 생성자에 필요한 파라미터를 지정하는 것 (nn.Module에 마우스 올리면 생성자 어떻게 생겼는지 볼 수 있음)\n",
    "\n",
    "        # super를 이용하여 상위 클래스의 객체 생성 책임을 진다.\n",
    "        super(NeuralNetwork, self).__init__()\n",
    "\n",
    "        # 생성자에는 항상 레이어의 구성을 정의\n",
    "        self.flatten = nn.Flatten() # 입력되는 데이터를 평탄화 시키는 레이어\n",
    "\n",
    "        # nn.Sequential을 이용해 연속되는 레이어의 구조를 구성\n",
    "        self.linear_relu_stack = nn.Sequential(\n",
    "            # 1층 구성\n",
    "            nn.Linear(28*28, 128),\n",
    "            nn.ReLU(),\n",
    "            # 2층 (출력층) 구성\n",
    "            nn.Linear(128, 10)\n",
    "            # 출력 활성화 함수(Softmax)는 실제 모델 순전파 시에 넣어도 상관 없기 때문!(훈련할 때)\n",
    "            # 꼭 없어야 하는 건 아님!! 상황에 따라서 넣어 줄 수 도 있음\n",
    "        )\n",
    "\n",
    "\n",
    "    def forward(self, x):\n",
    "        # forward에는 입력 데이터 x가 들어온다. 이 때 x의 shape은? (N, 28, 28)\n",
    "        x = self.flatten(x) # 왜 그냥 넣지?: 이미 위에서 입력되는 데이터를 평탄화 시키는 레이어 구성을 정의해두었기 때문\n",
    "        y = self.linear_relu_stack(x)\n",
    "        return y"
   ]
  },
  {
   "cell_type": "markdown",
   "metadata": {},
   "source": [
    "# 모델 생성\n",
    "파이토치를 이용해 모델 객체를 만들고 나서 어떤 장치(device) 환경에서 훈련이나 추론을 수행할지 결정지어줘야 합니다."
   ]
  },
  {
   "cell_type": "code",
   "execution_count": null,
   "metadata": {},
   "outputs": [],
   "source": [
    "# import torch\n",
    "\n",
    "# device = 'cuda' if torch.cuda.is_available() else 'cpu'\n",
    "# device"
   ]
  },
  {
   "cell_type": "markdown",
   "metadata": {},
   "source": [
    "Apple Silicon 기반의 MacBook에서는 CUDA(NVIDIA GPU 기반 가속화) 대신 **MPS(Metal Performance Shaders)**를 사용해야 합니다. CUDA는 NVIDIA GPU에서만 작동하기 때문에, MacBook의 GPU 가속을 사용하려면 MPS를 활용해야 합니다.\n",
    "\n",
    "따라서, torch.cuda.is_available()로 CUDA 지원 여부만 확인하는 대신, MPS 지원 여부도 확인할 수 있도록 코드를 수정해야 합니다. 그리고, MPS가 지원되지 않을 경우에는 CPU에서 실행할 수 있도록 하는 코드를 작성하는 것이 좋습니다."
   ]
  },
  {
   "cell_type": "code",
   "execution_count": 7,
   "metadata": {},
   "outputs": [
    {
     "name": "stdout",
     "output_type": "stream",
     "text": [
      "Using device: mps\n"
     ]
    }
   ],
   "source": [
    "import torch\n",
    "\n",
    "# MPS 지원 여부 확인\n",
    "if torch.backends.mps.is_available():\n",
    "    device = 'mps'  # Apple Silicon에서 MPS 사용\n",
    "elif torch.cuda.is_available():\n",
    "    device = 'cuda'  # CUDA 사용 가능 시\n",
    "else:\n",
    "    device = 'cpu'  # 그 외에는 CPU 사용\n",
    "\n",
    "print(f\"Using device: {device}\")\n"
   ]
  },
  {
   "cell_type": "code",
   "execution_count": 8,
   "metadata": {},
   "outputs": [
    {
     "name": "stdout",
     "output_type": "stream",
     "text": [
      "NeuralNetwork(\n",
      "  (flatten): Flatten(start_dim=1, end_dim=-1)\n",
      "  (linear_relu_stack): Sequential(\n",
      "    (0): Linear(in_features=784, out_features=128, bias=True)\n",
      "    (1): ReLU()\n",
      "    (2): Linear(in_features=128, out_features=10, bias=True)\n",
      "  )\n",
      ")\n"
     ]
    }
   ],
   "source": [
    "# 모델을 설정한 환경(device)으로 옮긴다는 개념\n",
    "model = NeuralNetwork().to(device)\n",
    "print(model)"
   ]
  }
 ],
 "metadata": {
  "kernelspec": {
   "display_name": "ml-env",
   "language": "python",
   "name": "python3"
  },
  "language_info": {
   "codemirror_mode": {
    "name": "ipython",
    "version": 3
   },
   "file_extension": ".py",
   "mimetype": "text/x-python",
   "name": "python",
   "nbconvert_exporter": "python",
   "pygments_lexer": "ipython3",
   "version": "3.8.19"
  }
 },
 "nbformat": 4,
 "nbformat_minor": 2
}
