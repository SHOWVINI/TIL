{
 "cells": [
  {
   "cell_type": "markdown",
   "id": "242f3285-db60-437c-96a0-8ea8f0846d37",
   "metadata": {},
   "source": [
    "# 데이터 수집 방법\n",
    "\n",
    "- 웹 크롤링 방식(강사 추천 X): HTML 방식\n",
    "  : 불법의 소지가 있음(실제 법정 분쟁 사례 다수)\n",
    "\n",
    "- API 활용 (강사 추천 O)\n",
    "  : 불법 소지 X, But 치명적인 단점은 비용\n",
    "          공기관에서 제공해주는 건 이용 제한 없음\n",
    "          사기관(네이버, 쿠팡 등)은 이용제한 있음\n",
    "  : 그렇지만 이용 메뉴얼만 잘 익히면 API 크롤링은 쉬움"
   ]
  },
  {
   "cell_type": "markdown",
   "id": "2c1c7a4f-e1c0-4751-861f-9fad9b53b3ad",
   "metadata": {},
   "source": [
    "### api는 요청과 응답으로 이뤄진다\n",
    "(웹 브라우저의 요청 -> 웹 서버의 웹 데이터 전송)\n",
    "\n",
    "데이터 요청 시 응답할 때 두 가지 컨셉으로 응답(XML, JSON) (-> JSON이 훨씬 쉬움)\n",
    "\n",
    "크롤링의 최종 목표 -> 웹 데이터를 DataFrame으로 변환"
   ]
  },
  {
   "cell_type": "markdown",
   "id": "42365057-dd4b-414e-adf0-808ef8a21262",
   "metadata": {},
   "source": [
    "### 돈을 많이 벌고 싶으면 돈이 있는 곳으로 가라: 금융권 대기업 등\n",
    "\n",
    "나중에 dart 전자 공시 시스템 크롤링 해보세요. 의뢰가 올 수도.\n",
    "\n",
    "### 프로젝트하면서 데이터를 찾을 때 오픈카톡방 이용해 찾아보는 방법도 좋음\n",
    "\n",
    "(추천 강의: https://www.inflearn.com/course/http-%EC%9B%B9-%EB%84%A4%ED%8A%B8%EC%9B%8C%ED%81%AC?gad_source=1&gclid=CjwKCAjwp4m0BhBAEiwAsdc4aE7KNoEhM_2Lp3RrnLpZ9khuw0GFGu-0Q-62hLwObUzyn3uauM9IfRoCI1gQAvD_BwE)\n"
   ]
  },
  {
   "cell_type": "code",
   "execution_count": null,
   "id": "3cddbd13-044e-4580-b8b3-34949a020ca7",
   "metadata": {},
   "outputs": [],
   "source": []
  }
 ],
 "metadata": {
  "kernelspec": {
   "display_name": "Python 3 (ipykernel)",
   "language": "python",
   "name": "python3"
  },
  "language_info": {
   "codemirror_mode": {
    "name": "ipython",
    "version": 3
   },
   "file_extension": ".py",
   "mimetype": "text/x-python",
   "name": "python",
   "nbconvert_exporter": "python",
   "pygments_lexer": "ipython3",
   "version": "3.11.7"
  }
 },
 "nbformat": 4,
 "nbformat_minor": 5
}
