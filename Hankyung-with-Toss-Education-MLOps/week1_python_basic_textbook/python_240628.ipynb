{
 "cells": [
  {
   "cell_type": "code",
   "execution_count": 8,
   "id": "880e9024-7f6d-499c-b0a9-b818f00d485b",
   "metadata": {},
   "outputs": [
    {
     "name": "stdout",
     "output_type": "stream",
     "text": [
      "지금 1번 실행 중 입니다.\n",
      "지금 2번 실행 중 입니다.\n",
      "지금 3번 실행 중 입니다.\n",
      "지금 4번 실행 중 입니다.\n",
      "지금 5번 실행 중 입니다.\n",
      "지금 6번 실행 중 입니다.\n",
      "지금 7번 실행 중 입니다.\n",
      "지금 8번 실행 중 입니다.\n",
      "지금 9번 실행 중 입니다.\n",
      "지금 10번 실행 중 입니다.\n"
     ]
    }
   ],
   "source": [
    "i = 0 \n",
    "\n",
    "while i < 10:\n",
    "    print(f'지금 {i+1}번 실행 중 입니다.')\n",
    "    i = i+1"
   ]
  },
  {
   "cell_type": "code",
   "execution_count": 17,
   "id": "16fadaa1-ad2e-40a6-847a-f96a12092d61",
   "metadata": {},
   "outputs": [
    {
     "name": "stdout",
     "output_type": "stream",
     "text": [
      "5초 동안 68591930번 반복했습니다.\n"
     ]
    }
   ],
   "source": [
    "import time\n",
    "\n",
    "# 변수를 선언합니다.\n",
    "number = 0\n",
    "\n",
    "# 5초 동안 반복합니다.\n",
    "target_tick = time.time() + 5\n",
    "while time.time() < target_tick:\n",
    "    number += 1\n",
    "\n",
    "\n",
    "# 출력합니다.\n",
    "print(f\"5초 동안 {number}번 반복했습니다.\")"
   ]
  },
  {
   "cell_type": "code",
   "execution_count": 2,
   "id": "c3c6cb87-a71b-476e-b3f5-775be4dbe437",
   "metadata": {},
   "outputs": [
    {
     "name": "stdout",
     "output_type": "stream",
     "text": [
      "A. <class 'int'>\n",
      "B. 5050\n",
      "C. 2550\n"
     ]
    }
   ],
   "source": [
    "# 함수를 선언합니다.\n",
    "def sum_all(start=0, end=100, step=1):\n",
    "    # 변수를 선언합니다.\n",
    "    output = 0\n",
    "    # 반복문을 돌려 숫자를 더합니다.\n",
    "    for i in range(start, end + 1, step):\n",
    "        output += i\n",
    "    # 리턴합니다.\n",
    "    return output\n",
    "\n",
    "# 함수를 호출합니다.\n",
    "\n",
    "print(\"A.\", sum_all(0, 100, 10))\n",
    "print(\"B.\", sum_all(end=100))\n",
    "print(\"C.\", sum_all(end=100, step=2))\n"
   ]
  },
  {
   "cell_type": "code",
   "execution_count": null,
   "id": "8b9371be-89ce-4f26-8ea6-c723b0207599",
   "metadata": {},
   "outputs": [],
   "source": [
    "def print_n_times(value, n):\n",
    "    for i in range(n):\n",
    "        print(value)\n",
    "\n",
    "print_n_times(\"안녕하세요\", 5)"
   ]
  },
  {
   "cell_type": "code",
   "execution_count": 9,
   "id": "e735a1c2-8de1-4a40-94b4-e94a75f0ca98",
   "metadata": {},
   "outputs": [
    {
     "name": "stdout",
     "output_type": "stream",
     "text": [
      "3\n",
      "12\n",
      "3.0\n"
     ]
    }
   ],
   "source": [
    "class Calculator:\n",
    "    def __init__(self):\n",
    "        self.result = 0\n",
    "        self.result2 = 1\n",
    "        \n",
    "    def add(self, num):\n",
    "        self.result += num\n",
    "        return self.result\n",
    "\n",
    "    def mul(self, num):\n",
    "        self.result2 *= num\n",
    "        return self.result2\n",
    "\n",
    "    def div(self, num):\n",
    "        self.result2 /= num\n",
    "        return self.result2\n",
    "        \n",
    "# 사용자1\n",
    "cal1 = Calculator()\n",
    "cal2 = Calculator()\n",
    "\n",
    "print(cal1.mul(3))\n",
    "print(cal1.mul(4))\n",
    "print(cal1.div(4))"
   ]
  },
  {
   "cell_type": "code",
   "execution_count": null,
   "id": "17f3efa5-962f-4beb-bce5-817de6adf28c",
   "metadata": {},
   "outputs": [],
   "source": [
    "class Student:\n",
    "    # 상태\n",
    "    def __init__(self, name, korean, math, english, science):\n",
    "        self.name = name\n",
    "        self.korean = korean\n",
    "        self.math = math\n",
    "        self.english = english\n",
    "        self.science = science\n",
    "    # 행동\n",
    "\n",
    "students = [\n",
    "    Student(\"윤인성\", 87, 98, 88, 95), \n",
    "    Student(\"Evan\", 50, 20, 15, 40), \n",
    "]"
   ]
  }
 ],
 "metadata": {
  "kernelspec": {
   "display_name": "Python 3 (ipykernel)",
   "language": "python",
   "name": "python3"
  },
  "language_info": {
   "codemirror_mode": {
    "name": "ipython",
    "version": 3
   },
   "file_extension": ".py",
   "mimetype": "text/x-python",
   "name": "python",
   "nbconvert_exporter": "python",
   "pygments_lexer": "ipython3",
   "version": "3.11.7"
  }
 },
 "nbformat": 4,
 "nbformat_minor": 5
}
