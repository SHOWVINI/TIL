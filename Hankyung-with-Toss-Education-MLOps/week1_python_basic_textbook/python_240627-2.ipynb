{
 "cells": [
  {
   "cell_type": "code",
   "execution_count": 1,
   "id": "a54410dc-5921-4ee5-a843-eded91f873b5",
   "metadata": {},
   "outputs": [
    {
     "name": "stdout",
     "output_type": "stream",
     "text": [
      "[1, 2, 3]\n"
     ]
    }
   ],
   "source": [
    "list_a = [1,2,3]\n",
    "\n",
    "print(list_a)"
   ]
  },
  {
   "cell_type": "code",
   "execution_count": 2,
   "id": "e0e3f471-da6e-47cd-b0e6-08f678228d5c",
   "metadata": {},
   "outputs": [
    {
     "name": "stdout",
     "output_type": "stream",
     "text": [
      "[1, 2, 3, 4]\n"
     ]
    }
   ],
   "source": [
    "list_a = list_a + [4]\n",
    "\n",
    "print(list_a)"
   ]
  },
  {
   "cell_type": "code",
   "execution_count": 6,
   "id": "fb4a2c2c-bc27-48e1-9174-5988a5558f49",
   "metadata": {
    "scrolled": true
   },
   "outputs": [
    {
     "name": "stdout",
     "output_type": "stream",
     "text": [
      "[1, 2, 3, 4, 'a', 'a']\n"
     ]
    }
   ],
   "source": [
    "list_a = list_a\n",
    "\n",
    "print(list_a)\n"
   ]
  },
  {
   "cell_type": "code",
   "execution_count": 10,
   "id": "dfbaa610-b2b1-472e-a518-19714c157b27",
   "metadata": {
    "scrolled": true
   },
   "outputs": [
    {
     "name": "stdout",
     "output_type": "stream",
     "text": [
      "[1, 2, 410, 4, 'a']\n",
      "5\n"
     ]
    }
   ],
   "source": [
    "list_a = [1, 2, 3, 4, 'a']\n",
    "# list_a [인덱스번호] = 새로운 값\n",
    "\n",
    "list_a[2] = 410\n",
    "\n",
    "print(list_a)\n",
    "print(len(list_a))\n",
    "\n",
    "\n"
   ]
  },
  {
   "cell_type": "code",
   "execution_count": 14,
   "id": "22b73c2c-8c6c-4993-89af-f9048635c688",
   "metadata": {},
   "outputs": [
    {
     "name": "stdout",
     "output_type": "stream",
     "text": [
      "[111, 1, 2, 3, 4, 'a', 5, 'b']\n"
     ]
    }
   ],
   "source": [
    "list_a = [1, 2, 3, 4, 'a']\n",
    "\n",
    "list_a.append(5)\n",
    "\n",
    "list_a.append('b')\n",
    "\n",
    "list_a.insert(0, 111)\n",
    "\n",
    "print(list_a)"
   ]
  },
  {
   "cell_type": "markdown",
   "id": "1b79fd0f-6930-483b-b7d8-3cb9a3e7e736",
   "metadata": {},
   "source": [
    "extend() 함수는 매개변수로 리스트를 입력"
   ]
  },
  {
   "cell_type": "code",
   "execution_count": 27,
   "id": "4310eb42-7e26-4cd7-8add-ce759bb74ce9",
   "metadata": {},
   "outputs": [
    {
     "name": "stdout",
     "output_type": "stream",
     "text": [
      "['b', 'c', 'd']\n",
      "['b', 'c']\n"
     ]
    }
   ],
   "source": [
    "list_a = [\"a\", \"b\", \"c\",\"d\"]\n",
    "\n",
    "del list_a[0]\n",
    "\n",
    "print(list_a)\n",
    "\n",
    "list_a.pop()\n",
    "\n",
    "print(list_a)"
   ]
  },
  {
   "cell_type": "code",
   "execution_count": 29,
   "id": "3054129f-717e-44d3-9f06-7a4a42a57327",
   "metadata": {},
   "outputs": [
    {
     "data": {
      "text/plain": [
       "['b', 'a', 'c', 'd']"
      ]
     },
     "execution_count": 29,
     "metadata": {},
     "output_type": "execute_result"
    }
   ],
   "source": [
    "list_a = [\"a\", \"b\", \"a\", \"c\",\"d\"]\n",
    "list_a.remove(\"a\")\n",
    "list_a"
   ]
  },
  {
   "cell_type": "code",
   "execution_count": 34,
   "id": "c156b655-0ba8-474d-b049-00393bd3da30",
   "metadata": {},
   "outputs": [
    {
     "name": "stdout",
     "output_type": "stream",
     "text": [
      "6\n"
     ]
    },
    {
     "ename": "TypeError",
     "evalue": "'tuple' object does not support item assignment",
     "output_type": "error",
     "traceback": [
      "\u001b[0;31m---------------------------------------------------------------------------\u001b[0m",
      "\u001b[0;31mTypeError\u001b[0m                                 Traceback (most recent call last)",
      "Cell \u001b[0;32mIn[34], line 3\u001b[0m\n\u001b[1;32m      1\u001b[0m tt \u001b[38;5;241m=\u001b[39m (\u001b[38;5;241m10\u001b[39m,\u001b[38;5;241m20\u001b[39m,\u001b[38;5;241m30\u001b[39m,\u001b[38;5;241m40\u001b[39m,\u001b[38;5;241m50\u001b[39m,\u001b[38;5;241m60\u001b[39m)\n\u001b[1;32m      2\u001b[0m \u001b[38;5;28mprint\u001b[39m(\u001b[38;5;28mlen\u001b[39m(tt))\n\u001b[0;32m----> 3\u001b[0m \u001b[43mtt\u001b[49m\u001b[43m[\u001b[49m\u001b[38;5;241;43m0\u001b[39;49m\u001b[43m]\u001b[49m \u001b[38;5;241m=\u001b[39m \u001b[38;5;241m100\u001b[39m\n",
      "\u001b[0;31mTypeError\u001b[0m: 'tuple' object does not support item assignment"
     ]
    }
   ],
   "source": [
    "tt = (10,20,30,40,50,60)\n",
    "print(len(tt))\n",
    "tt[0] = 100"
   ]
  },
  {
   "cell_type": "code",
   "execution_count": 58,
   "id": "9adac934-67d3-4f82-8bff-5efd64ba7e76",
   "metadata": {},
   "outputs": [
    {
     "name": "stdout",
     "output_type": "stream",
     "text": [
      "name - 어벤져스 엔드게임\n",
      "type - 히어로 무비\n",
      "director - 김현빈\n",
      "year - 2019\n",
      "타노스 - 주인공\n",
      "토니스타크 - 사망\n",
      "<class 'dict_keys'>\n"
     ]
    }
   ],
   "source": [
    "dict_a = {\n",
    "    \"name\" : \"어벤져스 엔드게임\", \n",
    "    \"type\" : \"히어로 무비\", \n",
    "    \"director\" : [\"안소니 루소\", \"조 루소\"], \n",
    "    \"year\" : 2019\n",
    "}\n",
    "\n",
    "dict_a[\"director\"] = \"김현빈\"\n",
    "dict_a[\"타노스\"] = \"주인공\"\n",
    "dict_a[\"토니스타크\"] = \"사망\"\n",
    "\n",
    "for i in dict_a:\n",
    "    print(i, \"-\" ,dict_a[i])\n",
    "\n",
    "del dict_a[\"타노스\"]\n",
    "\n",
    "dict_a.keys()\n",
    "print(type(dict_a.keys()))\n"
   ]
  },
  {
   "cell_type": "code",
   "execution_count": 5,
   "id": "889884d5-8666-4995-acf3-2faed634aefb",
   "metadata": {},
   "outputs": [
    {
     "name": "stdout",
     "output_type": "stream",
     "text": [
      "돈 얼마 있으세요? 33\n"
     ]
    },
    {
     "name": "stdout",
     "output_type": "stream",
     "text": [
      "꺼져주세요\n"
     ]
    }
   ],
   "source": [
    "question = input(\"돈 얼마 있으세요?\")\n",
    "my_money = int(question)\n",
    "\n",
    "if my_money == 35000:\n",
    "    print(\"지금 해드리겠습니다\")\n",
    "elif my_money >= 35000:\n",
    "    print(\"더 필요한 것 있으면 말씀해주세요\")\n",
    "elif my_money < 35000:\n",
    "    print(\"꺼져주세요\")\n",
    "elif my_money < 35000 and my_money < 0:\n",
    "    print(\"마이너스 값을 입력하셨습니다\")\n",
    "else:\n",
    "    print(\"ERROR\")"
   ]
  },
  {
   "cell_type": "code",
   "execution_count": 27,
   "id": "8fb29180-fb87-4f79-97e2-22c2b512c353",
   "metadata": {},
   "outputs": [
    {
     "name": "stdout",
     "output_type": "stream",
     "text": [
      "2024 년\n",
      "6 월\n",
      "27 일\n",
      "15 시\n",
      "11 분\n",
      "29 초\n",
      "114470 마이크로초\n",
      "\n",
      "\n",
      "현재 시간: 2024년-6월-27일-27일-15시-11분-29초-114470마이크로초 "
     ]
    }
   ],
   "source": [
    "# 날짜/시간과 관련된 기능을 가져옵니다.\n",
    "import datetime\n",
    "\n",
    "# 현재 날짜/시간을 구합니다.\n",
    "now = datetime.datetime.now()\n",
    "\n",
    "# 출력합니다.\n",
    "print(now.year, \"년\")\n",
    "print(now.month, \"월\")\n",
    "print(now.day, \"일\")\n",
    "print(now.hour, \"시\")\n",
    "print(now.minute, \"분\")\n",
    "print(now.second, \"초\")\n",
    "print(now.microsecond, \"마이크로초\")\n",
    "\n",
    "print(\"\\n\")\n",
    "\n",
    "print(f'현재 시간: {now.year}년-{now.month}월-{now.day}일-{now.day}일-{now.hour}시-{now.minute}분-{now.second}초-{now.microsecond}마이크로초', end=\" \")\n"
   ]
  },
  {
   "cell_type": "code",
   "execution_count": 43,
   "id": "7009b805-f40e-4c48-ae2f-bcb03d90acf8",
   "metadata": {},
   "outputs": [
    {
     "name": "stdout",
     "output_type": "stream",
     "text": [
      "3 \n",
      "\n",
      "1\n",
      "[1, 2, 3]\n",
      "2\n",
      "[1, 2, 3]\n",
      "3\n",
      "[1, 2, 3]\n",
      "4\n",
      "[4, 5, 6, 7]\n",
      "5\n",
      "[4, 5, 6, 7]\n",
      "6\n",
      "[4, 5, 6, 7]\n",
      "7\n",
      "[4, 5, 6, 7]\n",
      "8\n",
      "[8, 9]\n",
      "9\n",
      "[8, 9]\n"
     ]
    }
   ],
   "source": [
    "list_of_list = [\n",
    "    [1, 2, 3],\n",
    "    [4, 5, 6, 7],\n",
    "    [8, 9]\n",
    "]\n",
    "\n",
    "print(len(list_of_list), \"\\n\")\n",
    "\n",
    "for items in list_of_list:\n",
    "    for item in items:\n",
    "        print(item)\n",
    "        print(items)"
   ]
  },
  {
   "cell_type": "code",
   "execution_count": 41,
   "id": "7cd69e2b-5b19-490d-bdca-f03f81d185e8",
   "metadata": {},
   "outputs": [
    {
     "name": "stdout",
     "output_type": "stream",
     "text": [
      "d\n",
      "d\n"
     ]
    }
   ],
   "source": [
    "array = ('d','d')\n",
    "\n",
    "# 리스트에 반복문을 적용합니다.\n",
    "for element in array:\n",
    "    # 출력합니다.\n",
    "    print(element)"
   ]
  },
  {
   "cell_type": "code",
   "execution_count": 46,
   "id": "1970379b-7ed6-46a1-99d1-241695ca577a",
   "metadata": {},
   "outputs": [
    {
     "name": "stdout",
     "output_type": "stream",
     "text": [
      "0\n",
      "[1, 2, 3]\n",
      "1\n",
      "[4, 5, 6, 7]\n",
      "2\n",
      "[8, 9]\n"
     ]
    }
   ],
   "source": [
    "list_of_list = [[1, 2, 3], [4, 5, 6, 7], [8, 9]]\n",
    "list_of_list\n",
    "\n",
    "for i in range(len(list_of_list)):\n",
    "    print(i)\n",
    "    print(list_of_list[i])"
   ]
  },
  {
   "cell_type": "code",
   "execution_count": 51,
   "id": "b795e5cd-8d7e-4fb6-98a1-75bbecafb43f",
   "metadata": {},
   "outputs": [
    {
     "name": "stdout",
     "output_type": "stream",
     "text": [
      "\n",
      "\n",
      "2 단\n",
      "2 X 1 = 2\n",
      "2 X 2 = 4\n",
      "2 X 3 = 6\n",
      "2 X 4 = 8\n",
      "2 X 5 = 10\n",
      "2 X 6 = 12\n",
      "2 X 7 = 14\n",
      "2 X 8 = 16\n",
      "2 X 9 = 18\n",
      "\n",
      "\n",
      "3 단\n",
      "3 X 1 = 3\n",
      "3 X 2 = 6\n",
      "3 X 3 = 9\n",
      "3 X 4 = 12\n",
      "3 X 5 = 15\n",
      "3 X 6 = 18\n",
      "3 X 7 = 21\n",
      "3 X 8 = 24\n",
      "3 X 9 = 27\n",
      "\n",
      "\n",
      "4 단\n",
      "4 X 1 = 4\n",
      "4 X 2 = 8\n",
      "4 X 3 = 12\n",
      "4 X 4 = 16\n",
      "4 X 5 = 20\n",
      "4 X 6 = 24\n",
      "4 X 7 = 28\n",
      "4 X 8 = 32\n",
      "4 X 9 = 36\n",
      "\n",
      "\n",
      "5 단\n",
      "5 X 1 = 5\n",
      "5 X 2 = 10\n",
      "5 X 3 = 15\n",
      "5 X 4 = 20\n",
      "5 X 5 = 25\n",
      "5 X 6 = 30\n",
      "5 X 7 = 35\n",
      "5 X 8 = 40\n",
      "5 X 9 = 45\n",
      "\n",
      "\n",
      "6 단\n",
      "6 X 1 = 6\n",
      "6 X 2 = 12\n",
      "6 X 3 = 18\n",
      "6 X 4 = 24\n",
      "6 X 5 = 30\n",
      "6 X 6 = 36\n",
      "6 X 7 = 42\n",
      "6 X 8 = 48\n",
      "6 X 9 = 54\n",
      "\n",
      "\n",
      "7 단\n",
      "7 X 1 = 7\n",
      "7 X 2 = 14\n",
      "7 X 3 = 21\n",
      "7 X 4 = 28\n",
      "7 X 5 = 35\n",
      "7 X 6 = 42\n",
      "7 X 7 = 49\n",
      "7 X 8 = 56\n",
      "7 X 9 = 63\n",
      "\n",
      "\n",
      "8 단\n",
      "8 X 1 = 8\n",
      "8 X 2 = 16\n",
      "8 X 3 = 24\n",
      "8 X 4 = 32\n",
      "8 X 5 = 40\n",
      "8 X 6 = 48\n",
      "8 X 7 = 56\n",
      "8 X 8 = 64\n",
      "8 X 9 = 72\n",
      "\n",
      "\n",
      "9 단\n",
      "9 X 1 = 9\n",
      "9 X 2 = 18\n",
      "9 X 3 = 27\n",
      "9 X 4 = 36\n",
      "9 X 5 = 45\n",
      "9 X 6 = 54\n",
      "9 X 7 = 63\n",
      "9 X 8 = 72\n",
      "9 X 9 = 81\n"
     ]
    }
   ],
   "source": [
    "num1= [2,3,4,5,6,7,8,9]\n",
    "\n",
    "num2=[1,2,3,4,5,6,7,8,9]\n",
    "\n",
    "for tntwk in num1:\n",
    "    print('\\n')\n",
    "    print(tntwk,\"단\")\n",
    "    for tntwk2 in num2:\n",
    "        print(tntwk,\"X\", tntwk2,\"=\",tntwk*tntwk2)"
   ]
  },
  {
   "cell_type": "code",
   "execution_count": 57,
   "id": "173ee5a2-3e45-4d97-91ac-f17d8342e058",
   "metadata": {},
   "outputs": [
    {
     "name": "stdout",
     "output_type": "stream",
     "text": [
      "True\n",
      "False\n"
     ]
    }
   ],
   "source": [
    "from collections.abc import Sequence, Iterable\n",
    "\n",
    "def is_iterable(obj):\n",
    "    return isinstance(obj, Iterable)\n",
    "\n",
    "\n",
    "print(is_iterable(\"123\"))\n",
    "print(is_iterable(1111111111))"
   ]
  },
  {
   "cell_type": "code",
   "execution_count": 59,
   "id": "58d10229-c66e-4837-82ad-537861d25835",
   "metadata": {},
   "outputs": [
    {
     "name": "stdout",
     "output_type": "stream",
     "text": [
      "[3, 6, 9, 12]\n",
      "[3, 6, 9, 12]\n"
     ]
    }
   ],
   "source": [
    "#리스트 컴프리헨션\n",
    "\n",
    "a = [1,2,3,4]\n",
    "result = []\n",
    "\n",
    "for i in a:\n",
    "    result.append(i*3)\n",
    "\n",
    "print(result)\n",
    "\n",
    "#----------------아래의 방식이 리스트 컴프리헨션\n",
    "\n",
    "b = [1,2,3,4]\n",
    "result = [num * 3 for num in b]\n",
    "print(result)"
   ]
  },
  {
   "cell_type": "code",
   "execution_count": 62,
   "id": "1c60a9e0-5310-45da-9d7b-ce1a9c3636d4",
   "metadata": {},
   "outputs": [
    {
     "name": "stdout",
     "output_type": "stream",
     "text": [
      "1 10 10\n",
      "2 20 40\n",
      "3 30 90\n",
      "4 40 160\n"
     ]
    },
    {
     "data": {
      "text/plain": [
       "[10, 40, 90, 160]"
      ]
     },
     "execution_count": 62,
     "metadata": {},
     "output_type": "execute_result"
    }
   ],
   "source": [
    "num1 = [1,2,3,4]\n",
    "num2 = [10,20,30,40]\n",
    "result = []\n",
    "\n",
    "for n1, n2 in zip(num1, num2):\n",
    "    print(n1,n2, n1*n2)\n",
    "    result.append(n1*n2)\n",
    "\n",
    "result\n",
    "\n",
    "#리스트컴프리헨션 방식으로\n",
    "\n",
    "result2 = [n1*n2 for n1, n2 in zip(num1, num2)]\n",
    "\n",
    "result2"
   ]
  },
  {
   "cell_type": "code",
   "execution_count": null,
   "id": "b444df1f-36d8-4b3f-b07e-0e1167846377",
   "metadata": {},
   "outputs": [],
   "source": []
  }
 ],
 "metadata": {
  "kernelspec": {
   "display_name": "Python 3 (ipykernel)",
   "language": "python",
   "name": "python3"
  },
  "language_info": {
   "codemirror_mode": {
    "name": "ipython",
    "version": 3
   },
   "file_extension": ".py",
   "mimetype": "text/x-python",
   "name": "python",
   "nbconvert_exporter": "python",
   "pygments_lexer": "ipython3",
   "version": "3.11.7"
  }
 },
 "nbformat": 4,
 "nbformat_minor": 5
}
