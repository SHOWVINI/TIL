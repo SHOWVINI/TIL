{
 "cells": [
  {
   "cell_type": "markdown",
   "id": "79fe7a98-a727-4cd1-8524-fd93df1d8078",
   "metadata": {},
   "source": [
    "## 리스트와 튜플\n",
    "- 리스트 선언 후, 인덱싱 & 슬라이싱"
   ]
  },
  {
   "cell_type": "code",
   "execution_count": 2,
   "id": "301776d0-7916-409b-adbe-23a74c954daa",
   "metadata": {},
   "outputs": [
    {
     "data": {
      "text/plain": [
       "273"
      ]
     },
     "execution_count": 2,
     "metadata": {},
     "output_type": "execute_result"
    }
   ],
   "source": [
    "list_a = [273, 32, 'A', True, [1, 2, 3]]\n",
    "list_a[0]"
   ]
  },
  {
   "cell_type": "code",
   "execution_count": 3,
   "id": "b7a45307-6a9e-45b9-9a5c-6b5708adbaa1",
   "metadata": {},
   "outputs": [
    {
     "data": {
      "text/plain": [
       "32"
      ]
     },
     "execution_count": 3,
     "metadata": {},
     "output_type": "execute_result"
    }
   ],
   "source": [
    "list_a[1]"
   ]
  },
  {
   "cell_type": "code",
   "execution_count": 4,
   "id": "6d5725c1-b442-4579-b7ad-b9e35a652cc2",
   "metadata": {},
   "outputs": [
    {
     "data": {
      "text/plain": [
       "'A'"
      ]
     },
     "execution_count": 4,
     "metadata": {},
     "output_type": "execute_result"
    }
   ],
   "source": [
    "list_a[2] # 인덱싱"
   ]
  },
  {
   "cell_type": "code",
   "execution_count": 5,
   "id": "7ef63b40-3ab8-4034-8f95-06390cd7a30b",
   "metadata": {},
   "outputs": [
    {
     "data": {
      "text/plain": [
       "[273, 32, 'A']"
      ]
     },
     "execution_count": 5,
     "metadata": {},
     "output_type": "execute_result"
    }
   ],
   "source": [
    "list_a[0:3] # 슬라이싱"
   ]
  },
  {
   "cell_type": "code",
   "execution_count": 8,
   "id": "73203556-0248-4adb-a95a-fd681c93870f",
   "metadata": {},
   "outputs": [
    {
     "data": {
      "text/plain": [
       "2"
      ]
     },
     "execution_count": 8,
     "metadata": {},
     "output_type": "execute_result"
    }
   ],
   "source": [
    "list_a = [273, 32, 'A', True, [1, 2, 3]]\n",
    "list_a[4][1]"
   ]
  },
  {
   "cell_type": "code",
   "execution_count": 11,
   "id": "d6183e5e-53f6-4d8d-a189-ce6f3838cd47",
   "metadata": {},
   "outputs": [
    {
     "data": {
      "text/plain": [
       "1"
      ]
     },
     "execution_count": 11,
     "metadata": {},
     "output_type": "execute_result"
    }
   ],
   "source": [
    "list_a[-1][0]"
   ]
  },
  {
   "cell_type": "code",
   "execution_count": 13,
   "id": "b63ea090-84c7-4c90-939c-9889ddfd8516",
   "metadata": {},
   "outputs": [
    {
     "ename": "IndexError",
     "evalue": "list index out of range",
     "output_type": "error",
     "traceback": [
      "\u001b[1;31m---------------------------------------------------------------------------\u001b[0m",
      "\u001b[1;31mIndexError\u001b[0m                                Traceback (most recent call last)",
      "Cell \u001b[1;32mIn[13], line 2\u001b[0m\n\u001b[0;32m      1\u001b[0m list_a \u001b[38;5;241m=\u001b[39m [\u001b[38;5;241m273\u001b[39m, \u001b[38;5;241m32\u001b[39m, \u001b[38;5;124m'\u001b[39m\u001b[38;5;124mA\u001b[39m\u001b[38;5;124m'\u001b[39m, \u001b[38;5;28;01mTrue\u001b[39;00m, [\u001b[38;5;241m1\u001b[39m, \u001b[38;5;241m2\u001b[39m, \u001b[38;5;241m3\u001b[39m]]\n\u001b[1;32m----> 2\u001b[0m \u001b[43mlist_a\u001b[49m\u001b[43m[\u001b[49m\u001b[38;5;241;43m5\u001b[39;49m\u001b[43m]\u001b[49m\n",
      "\u001b[1;31mIndexError\u001b[0m: list index out of range"
     ]
    }
   ],
   "source": [
    "list_a = [273, 32, 'A', True, [1, 2, 3]]\n",
    "list_a[5]"
   ]
  },
  {
   "cell_type": "code",
   "execution_count": 14,
   "id": "0b48963e-c7a7-4a0f-9aa2-b078ceffacc4",
   "metadata": {},
   "outputs": [
    {
     "data": {
      "text/plain": [
       "[1, 2, 3, 4, 5, 6]"
      ]
     },
     "execution_count": 14,
     "metadata": {},
     "output_type": "execute_result"
    }
   ],
   "source": [
    "# p.196\n",
    "list_a = [1, 2, 3]\n",
    "list_b = [4, 5, 6]\n",
    "list_a + list_b"
   ]
  },
  {
   "cell_type": "code",
   "execution_count": 15,
   "id": "7261a3a1-fc6f-4b26-82b1-dafa03825cda",
   "metadata": {},
   "outputs": [
    {
     "data": {
      "text/plain": [
       "[1, 2, 3, 1, 2, 3, 1, 2, 3]"
      ]
     },
     "execution_count": 15,
     "metadata": {},
     "output_type": "execute_result"
    }
   ],
   "source": [
    "list_a * 3"
   ]
  },
  {
   "cell_type": "code",
   "execution_count": 18,
   "id": "0a4560b5-ff50-4a86-9ab6-6931690bbf97",
   "metadata": {},
   "outputs": [
    {
     "ename": "TypeError",
     "evalue": "can only concatenate list (not \"int\") to list",
     "output_type": "error",
     "traceback": [
      "\u001b[1;31m---------------------------------------------------------------------------\u001b[0m",
      "\u001b[1;31mTypeError\u001b[0m                                 Traceback (most recent call last)",
      "Cell \u001b[1;32mIn[18], line 1\u001b[0m\n\u001b[1;32m----> 1\u001b[0m \u001b[43mlist_a\u001b[49m\u001b[43m \u001b[49m\u001b[38;5;241;43m+\u001b[39;49m\u001b[43m \u001b[49m\u001b[38;5;241;43m4\u001b[39;49m\n",
      "\u001b[1;31mTypeError\u001b[0m: can only concatenate list (not \"int\") to list"
     ]
    }
   ],
   "source": [
    "list_a + 4"
   ]
  },
  {
   "cell_type": "code",
   "execution_count": 19,
   "id": "7d2ad84f-5bf2-4efe-b2e2-ecd2181f8f7a",
   "metadata": {},
   "outputs": [
    {
     "data": {
      "text/plain": [
       "[1, 2, 3, 4]"
      ]
     },
     "execution_count": 19,
     "metadata": {},
     "output_type": "execute_result"
    }
   ],
   "source": [
    "list_a + [4]"
   ]
  },
  {
   "cell_type": "code",
   "execution_count": 22,
   "id": "d5b01926-066f-4820-ae98-627ee85577b8",
   "metadata": {},
   "outputs": [
    {
     "data": {
      "text/plain": [
       "[1, 2, 3, 'a']"
      ]
     },
     "execution_count": 22,
     "metadata": {},
     "output_type": "execute_result"
    }
   ],
   "source": [
    "list_a + list('a')"
   ]
  },
  {
   "cell_type": "code",
   "execution_count": 23,
   "id": "f9610fb4-e301-4642-88e5-d70657c0be77",
   "metadata": {},
   "outputs": [
    {
     "ename": "TypeError",
     "evalue": "'int' object is not iterable",
     "output_type": "error",
     "traceback": [
      "\u001b[1;31m---------------------------------------------------------------------------\u001b[0m",
      "\u001b[1;31mTypeError\u001b[0m                                 Traceback (most recent call last)",
      "Cell \u001b[1;32mIn[23], line 1\u001b[0m\n\u001b[1;32m----> 1\u001b[0m list_a \u001b[38;5;241m+\u001b[39m \u001b[38;5;28;43mlist\u001b[39;49m\u001b[43m(\u001b[49m\u001b[38;5;241;43m4\u001b[39;49m\u001b[43m)\u001b[49m\n",
      "\u001b[1;31mTypeError\u001b[0m: 'int' object is not iterable"
     ]
    }
   ],
   "source": [
    "list_a + list(4)"
   ]
  },
  {
   "cell_type": "markdown",
   "id": "dd5355b9-534a-47f2-8ea9-a7ec0b637cea",
   "metadata": {},
   "source": [
    "- 숫자는 scalar 자료형\n",
    "- 문자는 sequence 자료형 (List도 sequence 자료형)"
   ]
  },
  {
   "cell_type": "code",
   "execution_count": 26,
   "id": "085ae9ea-cac8-4b4f-95b7-5fa68482c21d",
   "metadata": {},
   "outputs": [
    {
     "data": {
      "text/plain": [
       "[273, 32, 410, True, [1, 2, 3]]"
      ]
     },
     "execution_count": 26,
     "metadata": {},
     "output_type": "execute_result"
    }
   ],
   "source": [
    "list_a = [273, 32, 'A', True, [1, 2, 3]]\n",
    "# list_a[인덱스번호] = 새로운 값\n",
    "list_a[2] = 410\n",
    "list_a"
   ]
  },
  {
   "cell_type": "code",
   "execution_count": 27,
   "id": "a0b2c2f6-51ca-4949-be9e-48c3419525c0",
   "metadata": {},
   "outputs": [
    {
     "data": {
      "text/plain": [
       "5"
      ]
     },
     "execution_count": 27,
     "metadata": {},
     "output_type": "execute_result"
    }
   ],
   "source": [
    "len(list_a)"
   ]
  },
  {
   "cell_type": "markdown",
   "id": "8b28b8f4-21a6-44d8-abcd-33093042282b",
   "metadata": {},
   "source": [
    "## append()와 insert()"
   ]
  },
  {
   "cell_type": "code",
   "execution_count": 32,
   "id": "1ca9e8c7-6da0-440a-856a-a31ccfd26275",
   "metadata": {},
   "outputs": [
    {
     "data": {
      "text/plain": [
       "[1, 2, 3, 4, 'A']"
      ]
     },
     "execution_count": 32,
     "metadata": {},
     "output_type": "execute_result"
    }
   ],
   "source": [
    "list_a = [1, 2, 3]\n",
    "list_a.append(4)\n",
    "list_a.append(\"A\")\n",
    "list_a"
   ]
  },
  {
   "cell_type": "code",
   "execution_count": 33,
   "id": "7fa1f70f-60d4-4332-891d-1769c54b0e6f",
   "metadata": {},
   "outputs": [
    {
     "data": {
      "text/plain": [
       "[1, 100, 2, 3, 4, 'A']"
      ]
     },
     "execution_count": 33,
     "metadata": {},
     "output_type": "execute_result"
    }
   ],
   "source": [
    "list_a.insert(1, 100)\n",
    "list_a"
   ]
  },
  {
   "cell_type": "code",
   "execution_count": 37,
   "id": "0bf8b015-f66f-48a1-bf23-5e9bff1ddc98",
   "metadata": {},
   "outputs": [
    {
     "data": {
      "text/plain": [
       "[1, 2, 3, 4, 100, 'A']"
      ]
     },
     "execution_count": 37,
     "metadata": {},
     "output_type": "execute_result"
    }
   ],
   "source": [
    "list_a = [1, 2, 3]\n",
    "list_a.append(4)\n",
    "list_a.append(\"A\")\n",
    "list_a.insert(4, 100)\n",
    "list_a"
   ]
  },
  {
   "cell_type": "code",
   "execution_count": 41,
   "id": "b7ef6d3f-fe86-4444-aa30-5fce05ee11ac",
   "metadata": {},
   "outputs": [],
   "source": [
    "list_a = [1, 2, 3]\n",
    "list_a.append(4)"
   ]
  },
  {
   "cell_type": "markdown",
   "id": "5c3567b2-4061-482a-a6e0-bac646e198dc",
   "metadata": {},
   "source": [
    "## extend()\n",
    "- extend() 함수는 매개변수로 리스트를 입력"
   ]
  },
  {
   "cell_type": "code",
   "execution_count": 45,
   "id": "e689cd85-39d4-406d-b6a7-ccdbb5ef4fe1",
   "metadata": {},
   "outputs": [
    {
     "data": {
      "text/plain": [
       "[1, 2, 3, 'a']"
      ]
     },
     "execution_count": 45,
     "metadata": {},
     "output_type": "execute_result"
    }
   ],
   "source": [
    "list_a = [1, 2, 3]\n",
    "list_a.extend(\"a\")\n",
    "list_a"
   ]
  },
  {
   "cell_type": "code",
   "execution_count": 47,
   "id": "768ea2d1-3728-454f-af30-cadbfbbfe3b2",
   "metadata": {},
   "outputs": [
    {
     "data": {
      "text/plain": [
       "[1, 2, 3, 4, 5, 6]"
      ]
     },
     "execution_count": 47,
     "metadata": {},
     "output_type": "execute_result"
    }
   ],
   "source": [
    "list_a = [1, 2, 3]\n",
    "list_a.extend([4, 5, 6])\n",
    "list_a"
   ]
  },
  {
   "cell_type": "code",
   "execution_count": 46,
   "id": "a2c082fc-aa62-4def-ba6e-d496ba9692ee",
   "metadata": {},
   "outputs": [
    {
     "ename": "TypeError",
     "evalue": "'int' object is not iterable",
     "output_type": "error",
     "traceback": [
      "\u001b[1;31m---------------------------------------------------------------------------\u001b[0m",
      "\u001b[1;31mTypeError\u001b[0m                                 Traceback (most recent call last)",
      "Cell \u001b[1;32mIn[46], line 2\u001b[0m\n\u001b[0;32m      1\u001b[0m list_a \u001b[38;5;241m=\u001b[39m [\u001b[38;5;241m1\u001b[39m, \u001b[38;5;241m2\u001b[39m, \u001b[38;5;241m3\u001b[39m]\n\u001b[1;32m----> 2\u001b[0m \u001b[43mlist_a\u001b[49m\u001b[38;5;241;43m.\u001b[39;49m\u001b[43mextend\u001b[49m\u001b[43m(\u001b[49m\u001b[38;5;241;43m5\u001b[39;49m\u001b[43m)\u001b[49m\n\u001b[0;32m      3\u001b[0m list_a\n",
      "\u001b[1;31mTypeError\u001b[0m: 'int' object is not iterable"
     ]
    }
   ],
   "source": [
    "list_a = [1, 2, 3]\n",
    "list_a.extend(5)\n",
    "list_a"
   ]
  },
  {
   "cell_type": "markdown",
   "id": "efcfbe52-3862-4d2d-a5e0-c84e5665c758",
   "metadata": {},
   "source": [
    "## 인덱스로 제거하기: del 키워드, pop() 키워드"
   ]
  },
  {
   "cell_type": "code",
   "execution_count": 48,
   "id": "a9fc81ba-701a-483d-b8cf-563fdb5ab0ae",
   "metadata": {},
   "outputs": [
    {
     "data": {
      "text/plain": [
       "['b', 'c', 'd']"
      ]
     },
     "execution_count": 48,
     "metadata": {},
     "output_type": "execute_result"
    }
   ],
   "source": [
    "list_a = [\"a\", \"b\", \"c\", \"d\"]\n",
    "del list_a[0]\n",
    "list_a"
   ]
  },
  {
   "cell_type": "code",
   "execution_count": 56,
   "id": "2cca959a-40c3-4d70-aa03-cf4e7bd3f4cc",
   "metadata": {},
   "outputs": [
    {
     "data": {
      "text/plain": [
       "['a', 'b', 'c']"
      ]
     },
     "execution_count": 56,
     "metadata": {},
     "output_type": "execute_result"
    }
   ],
   "source": [
    "list_a = [\"a\", \"b\", \"c\", \"d\"]\n",
    "list_a.pop(3)\n",
    "list_a"
   ]
  },
  {
   "cell_type": "code",
   "execution_count": 57,
   "id": "37c17f19-49a5-468e-8760-a3236804b7fe",
   "metadata": {},
   "outputs": [
    {
     "data": {
      "text/plain": [
       "['c', 'd']"
      ]
     },
     "execution_count": 57,
     "metadata": {},
     "output_type": "execute_result"
    }
   ],
   "source": [
    "list_a = [\"a\", \"b\", \"c\", \"d\"]\n",
    "del list_a[0:2]\n",
    "list_a"
   ]
  },
  {
   "cell_type": "markdown",
   "id": "1e9e9a94-76e6-4c0f-878f-b0719eaa6625",
   "metadata": {},
   "source": [
    "## 값으로 제거하기: remove() \n",
    "- 인덱스 번호가 아닌 실제 값을 의미한다. "
   ]
  },
  {
   "cell_type": "code",
   "execution_count": 59,
   "id": "9a0286da-e5c5-4de6-9489-2cd4d3cbca29",
   "metadata": {},
   "outputs": [
    {
     "data": {
      "text/plain": [
       "['b', 'c', 'd']"
      ]
     },
     "execution_count": 59,
     "metadata": {},
     "output_type": "execute_result"
    }
   ],
   "source": [
    "list_a = [\"a\", \"b\", \"c\", \"d\"]\n",
    "list_a.remove(\"a\")\n",
    "list_a"
   ]
  },
  {
   "cell_type": "code",
   "execution_count": 60,
   "id": "02ad7a7c-4268-4712-a149-c87e011dfb48",
   "metadata": {},
   "outputs": [
    {
     "ename": "ValueError",
     "evalue": "list.remove(x): x not in list",
     "output_type": "error",
     "traceback": [
      "\u001b[1;31m---------------------------------------------------------------------------\u001b[0m",
      "\u001b[1;31mValueError\u001b[0m                                Traceback (most recent call last)",
      "Cell \u001b[1;32mIn[60], line 2\u001b[0m\n\u001b[0;32m      1\u001b[0m list_a \u001b[38;5;241m=\u001b[39m [\u001b[38;5;124m\"\u001b[39m\u001b[38;5;124ma\u001b[39m\u001b[38;5;124m\"\u001b[39m, \u001b[38;5;124m\"\u001b[39m\u001b[38;5;124mb\u001b[39m\u001b[38;5;124m\"\u001b[39m, \u001b[38;5;124m\"\u001b[39m\u001b[38;5;124mc\u001b[39m\u001b[38;5;124m\"\u001b[39m, \u001b[38;5;124m\"\u001b[39m\u001b[38;5;124md\u001b[39m\u001b[38;5;124m\"\u001b[39m]\n\u001b[1;32m----> 2\u001b[0m \u001b[43mlist_a\u001b[49m\u001b[38;5;241;43m.\u001b[39;49m\u001b[43mremove\u001b[49m\u001b[43m(\u001b[49m\u001b[38;5;241;43m1\u001b[39;49m\u001b[43m)\u001b[49m\n\u001b[0;32m      3\u001b[0m list_a\n",
      "\u001b[1;31mValueError\u001b[0m: list.remove(x): x not in list"
     ]
    }
   ],
   "source": [
    "list_a = [\"a\", \"b\", \"c\", \"d\"]\n",
    "list_a.remove(1)\n",
    "list_a"
   ]
  },
  {
   "cell_type": "code",
   "execution_count": 62,
   "id": "b5d90549-efe5-4817-a351-cf0a056560d0",
   "metadata": {},
   "outputs": [
    {
     "data": {
      "text/plain": [
       "['b', 'c', 'd']"
      ]
     },
     "execution_count": 62,
     "metadata": {},
     "output_type": "execute_result"
    }
   ],
   "source": [
    "list_a = [\"a\", \"b\", \"a\", \"c\", \"d\"]\n",
    "list_a.remove(\"a\")\n",
    "list_a.remove(\"a\")\n",
    "list_a"
   ]
  },
  {
   "cell_type": "markdown",
   "id": "0597891b-8aa4-489b-8366-63ae212d6226",
   "metadata": {},
   "source": [
    "## 모두 제거하기"
   ]
  },
  {
   "cell_type": "code",
   "execution_count": 63,
   "id": "071b7c0d-e730-4d6b-9023-e81e3f122c87",
   "metadata": {},
   "outputs": [
    {
     "data": {
      "text/plain": [
       "[]"
      ]
     },
     "execution_count": 63,
     "metadata": {},
     "output_type": "execute_result"
    }
   ],
   "source": [
    "list_a = [\"a\", \"b\", \"a\", \"c\", \"d\"]\n",
    "list_a.clear()\n",
    "list_a"
   ]
  },
  {
   "cell_type": "markdown",
   "id": "9fd187aa-5d5a-428e-a51c-5b0ec93da40a",
   "metadata": {},
   "source": [
    "## 리스트 정렬하기 : sort()"
   ]
  },
  {
   "cell_type": "code",
   "execution_count": 66,
   "id": "ea351f97-352f-4cb7-a28d-4a1299af418a",
   "metadata": {},
   "outputs": [
    {
     "data": {
      "text/plain": [
       "[32, 52, 103, 273]"
      ]
     },
     "execution_count": 66,
     "metadata": {},
     "output_type": "execute_result"
    }
   ],
   "source": [
    "list_a = [52, 273, 103, 32]\n",
    "list_a.sort()\n",
    "list_a"
   ]
  },
  {
   "cell_type": "code",
   "execution_count": 68,
   "id": "c9f7c71a-3428-4fae-beb2-5103ceb067ae",
   "metadata": {},
   "outputs": [
    {
     "data": {
      "text/plain": [
       "[273, 103, 52, 32]"
      ]
     },
     "execution_count": 68,
     "metadata": {},
     "output_type": "execute_result"
    }
   ],
   "source": [
    "list_a.sort(reverse=True)\n",
    "list_a"
   ]
  },
  {
   "cell_type": "markdown",
   "id": "e8cb3c57-c62c-4f5a-b215-a6d3d71a7940",
   "metadata": {},
   "source": [
    "## 리스트 내부에 있는지 확인하기 : in/not in 연산자\n",
    "- 문자열과 비슷"
   ]
  },
  {
   "cell_type": "code",
   "execution_count": 69,
   "id": "8c6d26ab-bbf5-4ef9-a670-61bcbb3e45a5",
   "metadata": {},
   "outputs": [
    {
     "data": {
      "text/plain": [
       "True"
      ]
     },
     "execution_count": 69,
     "metadata": {},
     "output_type": "execute_result"
    }
   ],
   "source": [
    "\"a\" in \"abc\""
   ]
  },
  {
   "cell_type": "code",
   "execution_count": 72,
   "id": "d6397288-62b6-4fbd-a8a6-f15a40fad0f8",
   "metadata": {},
   "outputs": [
    {
     "data": {
      "text/plain": [
       "True"
      ]
     },
     "execution_count": 72,
     "metadata": {},
     "output_type": "execute_result"
    }
   ],
   "source": [
    "273 in [52, 273, 103, 32]"
   ]
  },
  {
   "cell_type": "markdown",
   "id": "a4a9fb53-652b-4abb-be86-6d00da40447c",
   "metadata": {},
   "source": [
    "## 튜플 (p.317)\n",
    "- 리스트와 비슷한 자료형\n",
    "- 인덱싱, 슬라이싱 모두 가능"
   ]
  },
  {
   "cell_type": "code",
   "execution_count": 74,
   "id": "3da7f1d5-1978-4f73-a3db-5f815628035d",
   "metadata": {},
   "outputs": [
    {
     "data": {
      "text/plain": [
       "(10, 20, 30, 40, 50, 60)"
      ]
     },
     "execution_count": 74,
     "metadata": {},
     "output_type": "execute_result"
    }
   ],
   "source": [
    "tuple_test = (10, 20, 30, 40, 50, 60)\n",
    "tuple_test"
   ]
  },
  {
   "cell_type": "code",
   "execution_count": 75,
   "id": "16c327c5-6e2e-44da-a94f-e877bd720cb2",
   "metadata": {},
   "outputs": [
    {
     "data": {
      "text/plain": [
       "10"
      ]
     },
     "execution_count": 75,
     "metadata": {},
     "output_type": "execute_result"
    }
   ],
   "source": [
    "tuple_test[0]"
   ]
  },
  {
   "cell_type": "code",
   "execution_count": 77,
   "id": "558ad440-a74b-4d07-97c0-cb82553bffd2",
   "metadata": {},
   "outputs": [
    {
     "data": {
      "text/plain": [
       "20"
      ]
     },
     "execution_count": 77,
     "metadata": {},
     "output_type": "execute_result"
    }
   ],
   "source": [
    "tuple_test[1]"
   ]
  },
  {
   "cell_type": "code",
   "execution_count": 78,
   "id": "1f300c6a-9863-436d-a64c-b68232a62d37",
   "metadata": {},
   "outputs": [
    {
     "data": {
      "text/plain": [
       "30"
      ]
     },
     "execution_count": 78,
     "metadata": {},
     "output_type": "execute_result"
    }
   ],
   "source": [
    "tuple_test[2]"
   ]
  },
  {
   "cell_type": "code",
   "execution_count": 80,
   "id": "3de9a7c2-7528-4862-9049-e64b7a27ed47",
   "metadata": {},
   "outputs": [
    {
     "data": {
      "text/plain": [
       "[100, 103, 52, 32]"
      ]
     },
     "execution_count": 80,
     "metadata": {},
     "output_type": "execute_result"
    }
   ],
   "source": [
    "list_a[0] = 100"
   ]
  },
  {
   "cell_type": "code",
   "execution_count": 82,
   "id": "2cb0f69c-f7d6-4638-9327-a280a7b0a5f7",
   "metadata": {},
   "outputs": [
    {
     "ename": "TypeError",
     "evalue": "'tuple' object does not support item assignment",
     "output_type": "error",
     "traceback": [
      "\u001b[1;31m---------------------------------------------------------------------------\u001b[0m",
      "\u001b[1;31mTypeError\u001b[0m                                 Traceback (most recent call last)",
      "Cell \u001b[1;32mIn[82], line 1\u001b[0m\n\u001b[1;32m----> 1\u001b[0m \u001b[43mtuple_test\u001b[49m\u001b[43m[\u001b[49m\u001b[38;5;241;43m0\u001b[39;49m\u001b[43m]\u001b[49m \u001b[38;5;241m=\u001b[39m \u001b[38;5;241m100\u001b[39m\n",
      "\u001b[1;31mTypeError\u001b[0m: 'tuple' object does not support item assignment"
     ]
    }
   ],
   "source": [
    "tuple_test[0] = 100"
   ]
  },
  {
   "cell_type": "code",
   "execution_count": 83,
   "id": "beb14430-dc56-4674-a739-2d904d44b308",
   "metadata": {},
   "outputs": [
    {
     "data": {
      "text/plain": [
       "[103, 52, 32]"
      ]
     },
     "execution_count": 83,
     "metadata": {},
     "output_type": "execute_result"
    }
   ],
   "source": [
    "del list_a[0]\n",
    "list_a"
   ]
  },
  {
   "cell_type": "code",
   "execution_count": 84,
   "id": "315515ef-846a-4a5a-95d6-23b989b7c624",
   "metadata": {},
   "outputs": [
    {
     "ename": "TypeError",
     "evalue": "'tuple' object doesn't support item deletion",
     "output_type": "error",
     "traceback": [
      "\u001b[1;31m---------------------------------------------------------------------------\u001b[0m",
      "\u001b[1;31mTypeError\u001b[0m                                 Traceback (most recent call last)",
      "Cell \u001b[1;32mIn[84], line 1\u001b[0m\n\u001b[1;32m----> 1\u001b[0m \u001b[38;5;28;01mdel\u001b[39;00m \u001b[43mtuple_test\u001b[49m\u001b[43m[\u001b[49m\u001b[38;5;241;43m0\u001b[39;49m\u001b[43m]\u001b[49m\n",
      "\u001b[1;31mTypeError\u001b[0m: 'tuple' object doesn't support item deletion"
     ]
    }
   ],
   "source": [
    "del tuple_test[0]"
   ]
  },
  {
   "cell_type": "markdown",
   "id": "292ccfcd-5c40-41cc-9d20-ec0667db6bf1",
   "metadata": {},
   "source": [
    "## 딕셔너리 \n",
    "- Web관련 자료형 중에서 JSON 형태와 유사\n",
    "- pandas 데이터프레임을 만들 때도 매우 자주 사용\n",
    "- 사전식 구성 연상\n",
    "    + 키워드 입력 ==> 다양한 의미\n",
    "    + Love, 동사, 명사 등등등"
   ]
  },
  {
   "cell_type": "code",
   "execution_count": 85,
   "id": "042d5667-ade9-4cac-8eea-0fe39e31e6b2",
   "metadata": {},
   "outputs": [
    {
     "data": {
      "text/plain": [
       "{'name': '어벤져스 엔드게임',\n",
       " 'type': '히어로 무비',\n",
       " 'director': ['안소니 루소', '조 루소'],\n",
       " 'year': 2019}"
      ]
     },
     "execution_count": 85,
     "metadata": {},
     "output_type": "execute_result"
    }
   ],
   "source": [
    "dict_a = {\n",
    "    \"name\" : \"어벤져스 엔드게임\", \n",
    "    \"type\" : \"히어로 무비\", \n",
    "    \"director\" : [\"안소니 루소\", \"조 루소\"], \n",
    "    \"year\" : 2019\n",
    "}\n",
    "\n",
    "dict_a"
   ]
  },
  {
   "cell_type": "code",
   "execution_count": 90,
   "id": "43e67b44-2a17-416e-ba58-fcf25861b6df",
   "metadata": {},
   "outputs": [
    {
     "data": {
      "text/plain": [
       "'안소니'"
      ]
     },
     "execution_count": 90,
     "metadata": {},
     "output_type": "execute_result"
    }
   ],
   "source": [
    "# 딕셔너리 ==> 리스트 ==> 문자열로 자료형이 막 바뀌더라!! \n",
    "dict_a['director'][0][0:3]"
   ]
  },
  {
   "cell_type": "code",
   "execution_count": 99,
   "id": "c6fa5f0f-8c0b-4e00-81ad-81c4d9dca65c",
   "metadata": {},
   "outputs": [
    {
     "data": {
      "text/plain": [
       "['안소니 루소', '조 루소', 'a', 'a', 'a']"
      ]
     },
     "execution_count": 99,
     "metadata": {},
     "output_type": "execute_result"
    }
   ],
   "source": [
    "a = dict_a['director']\n",
    "a.append(\"a\")\n",
    "a"
   ]
  },
  {
   "cell_type": "code",
   "execution_count": 101,
   "id": "a12bc5a6-323f-42d5-a1cf-dbea35113090",
   "metadata": {},
   "outputs": [
    {
     "data": {
      "text/plain": [
       "['안소니 루소', '조 루소', 'a', 'a', 'a', 'a', 'a', 'a']"
      ]
     },
     "execution_count": 101,
     "metadata": {},
     "output_type": "execute_result"
    }
   ],
   "source": [
    "dict_a['director'].append(\"a\")\n",
    "dict_a['director']"
   ]
  },
  {
   "cell_type": "code",
   "execution_count": 104,
   "id": "af6dd64c-d8bd-4802-b2d4-5eaa3bc67cec",
   "metadata": {},
   "outputs": [
    {
     "data": {
      "text/plain": [
       "['안소니 루소', '조 루소', 'a', 'a', 'a', 'a', 'a', 'a']"
      ]
     },
     "execution_count": 104,
     "metadata": {},
     "output_type": "execute_result"
    }
   ],
   "source": [
    "dict_a[\"director\"]"
   ]
  },
  {
   "cell_type": "code",
   "execution_count": 105,
   "id": "8fb22db7-df7e-4d58-a9be-76f63bf36b7d",
   "metadata": {},
   "outputs": [
    {
     "ename": "NameError",
     "evalue": "name 'name' is not defined",
     "output_type": "error",
     "traceback": [
      "\u001b[1;31m---------------------------------------------------------------------------\u001b[0m",
      "\u001b[1;31mNameError\u001b[0m                                 Traceback (most recent call last)",
      "Cell \u001b[1;32mIn[105], line 2\u001b[0m\n\u001b[0;32m      1\u001b[0m dict_key \u001b[38;5;241m=\u001b[39m {\n\u001b[1;32m----> 2\u001b[0m     \u001b[43mname\u001b[49m : \u001b[38;5;124m\"\u001b[39m\u001b[38;5;124m7D 건조 망고\u001b[39m\u001b[38;5;124m\"\u001b[39m, \n\u001b[0;32m      3\u001b[0m }\n",
      "\u001b[1;31mNameError\u001b[0m: name 'name' is not defined"
     ]
    }
   ],
   "source": [
    "# key 설정 시, 무조건 따옴표 사용\n",
    "dict_key = {\n",
    "    name : \"7D 건조 망고\", \n",
    "}"
   ]
  },
  {
   "cell_type": "code",
   "execution_count": 107,
   "id": "9d1d6bd6-a3db-4d4c-90f3-07ff0388283a",
   "metadata": {},
   "outputs": [
    {
     "data": {
      "text/plain": [
       "{'name': '7D 건조 망고'}"
      ]
     },
     "execution_count": 107,
     "metadata": {},
     "output_type": "execute_result"
    }
   ],
   "source": [
    "# key 설정 시, 무조건 따옴표 사용\n",
    "dict_key = {\n",
    "    'name' : \"7D 건조 망고\", \n",
    "}\n",
    "dict_key"
   ]
  },
  {
   "cell_type": "code",
   "execution_count": 111,
   "id": "a0b89853-144a-4777-a9bd-39d8cad5cee5",
   "metadata": {},
   "outputs": [
    {
     "data": {
      "text/plain": [
       "{'name': '7D 건조 망고',\n",
       " '새로운키': '새로운값',\n",
       " 'price': [1, 2, 3, 4, 5],\n",
       " '새로운딕셔너리': {'a': 1, 'b': [1, 2, 3]}}"
      ]
     },
     "execution_count": 111,
     "metadata": {},
     "output_type": "execute_result"
    }
   ],
   "source": [
    "dict_key['새로운키'] = \"새로운값\"\n",
    "dict_key['price'] = [1, 2, 3, 4, 5]\n",
    "dict_key['새로운딕셔너리'] = {'a': 1, 'b':[1, 2, 3]}\n",
    "dict_key"
   ]
  },
  {
   "cell_type": "code",
   "execution_count": 112,
   "id": "edb634af-99a2-4c47-9f7c-4f8e25ebd532",
   "metadata": {},
   "outputs": [
    {
     "data": {
      "text/plain": [
       "{'name': '7D 건조 망고', '새로운키': '새로운값', 'price': [1, 2, 3, 4, 5]}"
      ]
     },
     "execution_count": 112,
     "metadata": {},
     "output_type": "execute_result"
    }
   ],
   "source": [
    "del dict_key['새로운딕셔너리']\n",
    "dict_key"
   ]
  },
  {
   "cell_type": "code",
   "execution_count": 119,
   "id": "26a291c1-df25-49d8-b203-8c1bfa107468",
   "metadata": {},
   "outputs": [
    {
     "data": {
      "text/plain": [
       "['name', '새로운키', 'price', '가격']"
      ]
     },
     "execution_count": 119,
     "metadata": {},
     "output_type": "execute_result"
    }
   ],
   "source": [
    "temp = list(dict_key.keys())\n",
    "temp.append('가격')\n",
    "temp"
   ]
  },
  {
   "cell_type": "code",
   "execution_count": 120,
   "id": "f1d7d57d-07c6-466f-9eab-6cd8956c8a6c",
   "metadata": {},
   "outputs": [
    {
     "ename": "AttributeError",
     "evalue": "'dict_values' object has no attribute 'append'",
     "output_type": "error",
     "traceback": [
      "\u001b[1;31m---------------------------------------------------------------------------\u001b[0m",
      "\u001b[1;31mAttributeError\u001b[0m                            Traceback (most recent call last)",
      "Cell \u001b[1;32mIn[120], line 1\u001b[0m\n\u001b[1;32m----> 1\u001b[0m \u001b[43mdict_key\u001b[49m\u001b[38;5;241;43m.\u001b[39;49m\u001b[43mvalues\u001b[49m\u001b[43m(\u001b[49m\u001b[43m)\u001b[49m\u001b[38;5;241;43m.\u001b[39;49m\u001b[43mappend\u001b[49m(\u001b[38;5;124m'\u001b[39m\u001b[38;5;124maaa\u001b[39m\u001b[38;5;124m'\u001b[39m)\n",
      "\u001b[1;31mAttributeError\u001b[0m: 'dict_values' object has no attribute 'append'"
     ]
    }
   ],
   "source": [
    "dict_key.values().append('aaa')"
   ]
  },
  {
   "cell_type": "code",
   "execution_count": 115,
   "id": "34a3321d-14d2-410e-bfe1-81ebb5b5ec2d",
   "metadata": {},
   "outputs": [
    {
     "data": {
      "text/plain": [
       "dict_items([('name', '7D 건조 망고'), ('새로운키', '새로운값'), ('price', [1, 2, 3, 4, 5])])"
      ]
     },
     "execution_count": 115,
     "metadata": {},
     "output_type": "execute_result"
    }
   ],
   "source": [
    "dict_key.items()"
   ]
  }
 ],
 "metadata": {
  "kernelspec": {
   "display_name": "Python 3 (ipykernel)",
   "language": "python",
   "name": "python3"
  },
  "language_info": {
   "codemirror_mode": {
    "name": "ipython",
    "version": 3
   },
   "file_extension": ".py",
   "mimetype": "text/x-python",
   "name": "python",
   "nbconvert_exporter": "python",
   "pygments_lexer": "ipython3",
   "version": "3.11.7"
  }
 },
 "nbformat": 4,
 "nbformat_minor": 5
}
