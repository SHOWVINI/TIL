{
  "cells": [
    {
      "cell_type": "markdown",
      "id": "2149819b-b29b-41f0-ac56-aee3cde2cbbe",
      "metadata": {
        "id": "2149819b-b29b-41f0-ac56-aee3cde2cbbe"
      },
      "source": [
        "# Selenium\n",
        "* 브라우저를 직접 실행하여 자동화하고 브라우저 상에 있는 데이터를 수집\n",
        "* 웹 테스트 자동화"
      ]
    },
    {
      "cell_type": "markdown",
      "id": "aebf9bbb",
      "metadata": {},
      "source": [
        "Selenium은 웹 브라우저를 자동화하기 위한 도구입니다. 주로 웹 애플리케이션을 테스트하기 위해 사용되지만, 데이터를 수집하거나 반복적인 작업을 자동화하는 데에도 유용합니다. Selenium을 사용하면 코드로 브라우저를 제어하여, 사용자가 직접 브라우저에서 클릭하거나 입력하는 등의 행동을 자동으로 수행할 수 있습니다.\n",
        "\n",
        "\n",
        "\n",
        "Selenium의 주요 사용 용도는 다음과 같습니다:\n",
        "\n",
        "\n",
        "\n",
        "- 웹 테스트 자동화: 웹 애플리케이션이 예상대로 작동하는지 확인하기 위해 자동화된 테스트를 실행.\n",
        "- 데이터 수집: 웹에서 데이터를 스크래핑하여 자동으로 수집.\n",
        "- 반복 작업 자동화: 반복적으로 해야 하는 웹 상의 작업을 자동으로 처리.\n"
      ]
    },
    {
      "cell_type": "markdown",
      "id": "aaad9878",
      "metadata": {},
      "source": [
        "> 전반적인 코드의 흐름\n",
        "\n",
        "\n",
        "1. ChromeDriver 설치 및 설정: Selenium이 Chrome 브라우저를 제어할 수 있도록 ChromeDriver를 설치하고 설정합니다.\n",
        "2. 웹 페이지 열기: 지정된 URL의 웹 페이지를 브라우저에서 엽니다.\n",
        "3. 웹 요소 조작: 웹 페이지에서 특정 요소를 찾아 클릭하거나, 텍스트를 입력하는 등 다양한 작업을 수행합니다.\n",
        "4. 데이터 수집: 특정 요소들을 찾아내어 데이터를 수집하고, 이를 리스트에 저장합니다.\n",
        "5. 반복 작업 수행: 여러 해에 걸쳐 데이터를 다운로드하는 작업을 자동화합니다.\n"
      ]
    },
    {
      "cell_type": "code",
      "execution_count": 79,
      "id": "c19ea222-92a1-4bfc-aaf8-976a0bfcc043",
      "metadata": {
        "id": "c19ea222-92a1-4bfc-aaf8-976a0bfcc043"
      },
      "outputs": [],
      "source": [
        "from selenium import webdriver  # Selenium의 WebDriver 모듈을 가져옴 (브라우저를 제어하기 위해 사용)\n",
        "from selenium.webdriver.chrome.service import Service  # ChromeDriver의 서비스 관리 모듈을 가져옴\n",
        "from webdriver_manager.chrome import ChromeDriverManager  # ChromeDriver를 자동으로 관리해주는 모듈을 가져옴"
      ]
    },
    {
      "cell_type": "markdown",
      "id": "9ba288b6-82fe-40a9-8bae-179dd9bc966e",
      "metadata": {
        "id": "9ba288b6-82fe-40a9-8bae-179dd9bc966e"
      },
      "source": [
        "* `webdriver` : 파이썬과 브라우저를 연결하기위한 객체\n",
        "* `Service` : [최신 버전] 어떤 브라우저를 사용하게 할건지 선택\n",
        "* `ChromeDriverManager` : [최신 버전] Chrome을 사용하기 위한 드라이버 설정"
      ]
    },
    {
      "cell_type": "markdown",
      "id": "d40d00e2",
      "metadata": {},
      "source": [
        "> 터미널에 chromedriver 입력 후 아래와 같이 나오는지 확인 후 진행\n",
        "\n",
        "(ml-env) khb43@gimhyeonbin-ui-MacBook-Pro-M1-Max HANKYUNG_WITH_TOSS_BANK(2) % chromedriver\n",
        "\n",
        "\n",
        "\n",
        "Starting ChromeDriver 127.0.6533.119 (bdef6783a05f0b3f885591e7d2c7b2aec1a89dea-refs/branch-heads/6533@{#1999}) on port 9515\n",
        "Only local connections are allowed.\n",
        "Please see https://chromedriver.chromium.org/security-considerations for suggestions on keeping ChromeDriver safe.\n",
        "ChromeDriver was started successfully.\n"
      ]
    },
    {
      "cell_type": "code",
      "execution_count": 80,
      "id": "1c7a61c9-fc62-46b2-ad03-65b5431991ff",
      "metadata": {
        "id": "1c7a61c9-fc62-46b2-ad03-65b5431991ff"
      },
      "outputs": [],
      "source": [
        "# ChromeDriver를 설치하고 설정하는 함수 정의\n",
        "def get_chrome_driver():\n",
        "    # 1. 크롬 옵션 세팅\n",
        "    chrome_options = webdriver.ChromeOptions()  # Chrome에 대한 추가 옵션을 설정하기 위한 객체 생성\n",
        "\n",
        "    # 2. ChromeDriver 생성 (설치된 최신 버전 사용)\n",
        "    driver = webdriver.Chrome(\n",
        "        service=Service(ChromeDriverManager().install()),  # ChromeDriver를 설치하고 이를 서비스로 설정\n",
        "        options=chrome_options  # 위에서 정의한 Chrome 옵션을 적용\n",
        "    )\n",
        "    return driver  # 설정이 완료된 ChromeDriver 객체를 반환"
      ]
    },
    {
      "cell_type": "code",
      "execution_count": 81,
      "id": "f2c710cf-434a-4d18-9853-d6ef83abea19",
      "metadata": {
        "id": "f2c710cf-434a-4d18-9853-d6ef83abea19"
      },
      "outputs": [],
      "source": [
        "# ChromeDriver 실행\n",
        "driver = get_chrome_driver()  # 위에서 정의한 함수로 ChromeDriver 객체를 생성하고 이를 실행"
      ]
    },
    {
      "cell_type": "code",
      "execution_count": 82,
      "id": "a15f8218-18b4-4f4c-8020-480d2baee6c0",
      "metadata": {
        "id": "a15f8218-18b4-4f4c-8020-480d2baee6c0"
      },
      "outputs": [],
      "source": [
        "# 특정 웹 페이지(Naver) 열기\n",
        "driver.get(\"https://www.naver.com\")  # ChromeDriver를 사용하여 네이버 웹사이트를 염"
      ]
    },
    {
      "cell_type": "code",
      "execution_count": 83,
      "id": "6fd3c417-f661-4783-8c76-41a7608e1d61",
      "metadata": {
        "id": "6fd3c417-f661-4783-8c76-41a7608e1d61"
      },
      "outputs": [],
      "source": [
        "# By : 어떤 것을 기준으로 선택을 할지 지정~\n",
        "#  - CSS_SELECTOR, XPATH, ...\n",
        "from selenium.webdriver.common.by import By # 요소를 찾을 때 사용할 위치 선택자(By)를 가져옴\n",
        "\n",
        "# 검색창에 텍스트 입력\n",
        "driver.find_element(By.CSS_SELECTOR, \"#query\").send_keys(\"집에가고싶다\")  \n",
        "# 네이버 페이지의 검색창 요소(검색창의 CSS 선택자는 '#query')를 찾아서 '집에가고싶다'라는 텍스트를 입력\n"
      ]
    },
    {
      "cell_type": "code",
      "execution_count": 84,
      "id": "8f1c4f84-a71b-4ce8-b013-5ad745c3efdb",
      "metadata": {
        "id": "8f1c4f84-a71b-4ce8-b013-5ad745c3efdb"
      },
      "outputs": [],
      "source": [
        "# 검색창 내용 지우기 후 다시 텍스트 입력\n",
        "driver.find_element(By.CSS_SELECTOR, \"#query\").clear()  # 검색창 요소를 찾아 기존의 입력된 텍스트를 모두 지움\n",
        "# 검색창 요소에 '바보야'라는 텍스트를 다시 입력\n",
        "driver.find_element(By.CSS_SELECTOR, \"#query\").send_keys(\"바보야\")  \n",
        "\n"
      ]
    },
    {
      "cell_type": "markdown",
      "id": "30e205ec-a29d-4321-b1c1-4c81de58aa53",
      "metadata": {
        "id": "30e205ec-a29d-4321-b1c1-4c81de58aa53"
      },
      "source": [
        "셀레니움은 기본적으로 FrontEnd를 테스팅하기 위한 도구. 따라서 눈에 보이지 않으면 element가 안잡혀요"
      ]
    },
    {
      "cell_type": "code",
      "execution_count": 85,
      "id": "12aba763-d639-4ed9-b94f-8147826a0633",
      "metadata": {
        "id": "12aba763-d639-4ed9-b94f-8147826a0633"
      },
      "outputs": [],
      "source": [
        "# 브라우저 윈도우 사이즈 조절\n",
        "driver.set_window_size(500, 500)  \n",
        "# 브라우저 창의 크기를 가로 500픽셀, 세로 500픽셀로 조정"
      ]
    },
    {
      "cell_type": "code",
      "execution_count": 86,
      "id": "6f83bb7e-faf8-47f5-901b-083e1b6588a4",
      "metadata": {
        "id": "6f83bb7e-faf8-47f5-901b-083e1b6588a4"
      },
      "outputs": [],
      "source": [
        "# 스크롤 위치 조정 (JavaScript 코드 사용)\n",
        "\n",
        "# 브라우저 창의 스크롤을 수직으로 600픽셀, 수평으로 50픽셀만큼 이동\n",
        "driver.execute_script(\"window.scrollTo(50, 600)\")  "
      ]
    },
    {
      "cell_type": "code",
      "execution_count": 87,
      "id": "dae5392f-d801-49db-ba34-a1d612da3ee2",
      "metadata": {
        "id": "dae5392f-d801-49db-ba34-a1d612da3ee2"
      },
      "outputs": [],
      "source": [
        "# 브라우저 창의 스크롤을 가장 아래로 이동 (99999999이라는 큰 값 사용)\n",
        "driver.execute_script(\"window.scrollTo(50, 99999999)\")  "
      ]
    },
    {
      "cell_type": "code",
      "execution_count": 88,
      "id": "ad4d47b5",
      "metadata": {},
      "outputs": [],
      "source": [
        "# 웹 페이지 닫기\n",
        "driver.quit() # ChromeDriver와 열려있는 브라우저 창을 닫아 메모리를 해제하고 세션을 종료"
      ]
    },
    {
      "cell_type": "markdown",
      "id": "ba00a82f-7174-4fcc-912f-3c37a0cdec42",
      "metadata": {
        "id": "ba00a82f-7174-4fcc-912f-3c37a0cdec42"
      },
      "source": [
        "# 셀레니움으로 네이버 뉴스 기사 크롤링"
      ]
    },
    {
      "cell_type": "code",
      "execution_count": 89,
      "id": "2c6af3bb-310f-47df-8723-358ef427b2d3",
      "metadata": {
        "id": "2c6af3bb-310f-47df-8723-358ef427b2d3"
      },
      "outputs": [],
      "source": [
        "# 뉴스 페이지에서 특정 기사 목록 가져오기\n",
        "URL = \"https://news.naver.com/section/105\"  \n",
        "\n",
        "# 네이버 뉴스의 IT/과학 섹션 URL 저장\n",
        "CSS_SELECTOR = \".section_latest .section_component .section_latest_article .section_article ul li\" # 기사 목록을 나타내는 CSS 선택자 정의 (이 선택자를 사용해 해당 요소들을 찾음)"
      ]
    },
    {
      "cell_type": "code",
      "execution_count": 90,
      "id": "ab52b2ee-dd06-4d02-acd2-6562994b4246",
      "metadata": {
        "id": "ab52b2ee-dd06-4d02-acd2-6562994b4246"
      },
      "outputs": [],
      "source": [
        "driver = get_chrome_driver() # 새롭게 ChromeDriver 객체를 생성"
      ]
    },
    {
      "cell_type": "code",
      "execution_count": 91,
      "id": "03f38663-39be-4d32-afaf-321098038968",
      "metadata": {
        "id": "03f38663-39be-4d32-afaf-321098038968"
      },
      "outputs": [],
      "source": [
        "driver.get(URL) # 정의된 URL의 네이버 뉴스 페이지를 염"
      ]
    },
    {
      "cell_type": "code",
      "execution_count": 92,
      "id": "7a886f15",
      "metadata": {},
      "outputs": [],
      "source": [
        "# CSS 셀렉터를 통해 기사 목록을 가져옴\n",
        "\n",
        "articles = driver.find_elements(\n",
        "    By.CSS_SELECTOR, CSS_SELECTOR\n",
        ") # 기사 목록에 해당하는 모든 요소들을 CSS 선택자를 사용해 가져와 리스트로 저장"
      ]
    },
    {
      "cell_type": "code",
      "execution_count": 93,
      "id": "e5fed59f-bb7b-4d1c-9637-264684128fcf",
      "metadata": {
        "id": "e5fed59f-bb7b-4d1c-9637-264684128fcf",
        "outputId": "b78642ef-9262-4740-b9e7-64c108ad2b16"
      },
      "outputs": [
        {
          "data": {
            "text/plain": [
              "36"
            ]
          },
          "execution_count": 93,
          "metadata": {},
          "output_type": "execute_result"
        }
      ],
      "source": [
        "# 기사 개수 확인\n",
        "len(articles)  \n",
        "# 가져온 기사 목록 요소들의 개수를 확인"
      ]
    },
    {
      "cell_type": "code",
      "execution_count": 94,
      "id": "445cb1a1-8d46-44d5-a0d7-94a997675c3c",
      "metadata": {
        "id": "445cb1a1-8d46-44d5-a0d7-94a997675c3c",
        "outputId": "49ee24f1-d911-4e1f-b29a-a6d60063d47b"
      },
      "outputs": [
        {
          "name": "stdout",
          "output_type": "stream",
          "text": [
            "소프트뱅크, 인텔과 AI 반도체 생산 논의 결렬...TSMC 접촉\n",
            "일본 소프트뱅크가 엔비디아에 대항할 인공지능(AI) 칩을 생산하기 위해 인텔 파운드리와 협력하는 방안을 논의했지만 협상이 결렬된 것으로 알려졌다. 15일(현지시간) 영국 파이낸셜타임스(FT)는 소식통을 인용해 소프트\n",
            "지디넷코리아\n",
            "17분전\n"
          ]
        }
      ],
      "source": [
        "# 첫 번째 기사의 텍스트 출력\n",
        "print(articles[0].text)  \n",
        "# 첫 번째 기사 요소의 텍스트 내용을 출력 (기사의 전체 내용)"
      ]
    },
    {
      "cell_type": "code",
      "execution_count": 95,
      "id": "61f19db0-92c2-46a9-ab20-c47f982c099b",
      "metadata": {
        "id": "61f19db0-92c2-46a9-ab20-c47f982c099b",
        "outputId": "07ceb262-36ed-4a13-bb62-251ca93ed28c"
      },
      "outputs": [
        {
          "name": "stdout",
          "output_type": "stream",
          "text": [
            "소프트뱅크, 인텔과 AI 반도체 생산 논의 결렬...TSMC 접촉\n"
          ]
        }
      ],
      "source": [
        "# 첫 번째 기사의 제목만 추출\n",
        "print(articles[0].find_element(By.CSS_SELECTOR, \"strong.sa_text_strong\").text)  \n",
        "# 첫 번째 기사 요소 내의 제목만을 추출해 출력 (제목의 CSS 선택자는 'strong.sa_text_strong')"
      ]
    },
    {
      "cell_type": "code",
      "execution_count": 96,
      "id": "e284a348-cf4b-42b9-ac7a-1dcd52455215",
      "metadata": {
        "id": "e284a348-cf4b-42b9-ac7a-1dcd52455215",
        "outputId": "a7e75826-9bac-4fd3-d4ab-bcf3a3b19eda"
      },
      "outputs": [
        {
          "data": {
            "text/plain": [
              "['소프트뱅크, 인텔과 AI 반도체 생산 논의 결렬...TSMC 접촉',\n",
              " '\"10년 같았던 2년3개월…관사 짐빼기 전날 처음 TV 켰다\"',\n",
              " '질병청, 코로나 치료제 품귀 \\'사과\\'…\"이달 말 26만명분 공급\"(종합)',\n",
              " \"미래 먹거리 '투명 디스플레이'가 뜬다…버스·상업시설 공략\",\n",
              " '국내 계열사 138→125…몸집 줄여가는 카카오',\n",
              " '2조원 투자했는데… 삼성전기, 기판 사업 수익성 악화 고심',\n",
              " '\"급격하게 늙는 나이 있었다\"…44세, 60세가 노화의 두 변곡점',\n",
              " \"韓 OLED 경쟁력 믿는다…고객사 확보 나선 디스플레이 '소부장' [K-디스플레이 24]\",\n",
              " '‘블아·퍼디 흥행 겹경사’… 넥슨게임즈, 동서양서 K-게임 신드롬',\n",
              " '두 개의 로터를 탑재한 초대형 부유식 풍력 발전기 오션 X [고든 정의 TECH+]',\n",
              " '2분기 OLED 태블릿 패널 출하량 최고치…\"아이패드 프로 때문\"',\n",
              " \"'IT서비스' 아이티센의 변신…크립토뱅크 꿈꾸는 '디지털자산 기업'으로\",\n",
              " '체이널리시스 \"거래소로 몰리는 해커…피해액 84% 급증\"',\n",
              " '인텔 소프트웨어 정의車용 칩, 미국 내 첫 고객사 확보',\n",
              " 'IT셧다운 공포가 멀티 벤더 수요로…국내 클라우드 기업 반사이익 얻을까?',\n",
              " \"'사이버 레커 수익 몰수' '국회 차원 제재'…청원 잇따라\",\n",
              " \"'빗장 푼 애플' 아이폰서 삼성·구글페이 결제 가능…한국은 대상국서 제외\",\n",
              " \"SK하이닉스, 2분기 D램 시장 점유율↑… 삼성전자는 'D램 매출' 1위 수성\",\n",
              " \"전공의 추가모집 오늘 마감인데 지원자 '미미'…병원들 각자 도생\",\n",
              " '루게릭병이 뺏어간 목소리, 뇌전극과 AI로 되찾았다',\n",
              " '고임금 시대 음식점의 미래는 … 푸드테크와 스마트 기술 [똑똑한 장사]',\n",
              " '엔씨소프트, 비용·사채 줄였는데…효과는',\n",
              " \"'자동차 보험료 20% 깎는 꿀팁' 인기 끌더니…대박 터졌다\",\n",
              " '\"DX로 불황 극복\"...IT서비스기업 상반기 호실적 달성',\n",
              " '비트코인, 6만 달러 못 넘고 또 급락…\"당분간 약세\"',\n",
              " '업비트, 자동적립식 ‘코인 모으기’ 출시',\n",
              " '접거나 긁혀도 고장안나는 폴더블 회로 나왔다',\n",
              " '한국시장 노리는 중국...삼성과 ‘중저가 스마트폰’ 격돌',\n",
              " '전신마비 앓으면서 OTT 기업 창업자, 강남세브란스에 3000만원 기부',\n",
              " '\"공룡 멸종시킨 충돌체 정체는 목성 너머에서 온 탄소질 소행성\"',\n",
              " 'HBM 덕? 작년 4분기 글로벌 D램 매출 25% 성장',\n",
              " \"[생성 AI 갈라잡이] 대화형 검색 서비스 '퍼플렉시티'\",\n",
              " 'HK이노엔, 공동개발 자가면역질환 신약 중국사에 기술이전',\n",
              " '전공의 이탈 속 ‘뺑뺑이’ 환자 17.2% 늘었다',\n",
              " \"美 증시 상승에도…비트코인, 5만7000달러 '하락세'\",\n",
              " \"갤럭시도 디자인 통일?…갤S25 울트라 '각' 없어질 듯\"]"
            ]
          },
          "execution_count": 96,
          "metadata": {},
          "output_type": "execute_result"
        }
      ],
      "source": [
        "# 전체 기사 제목을 리스트에 저장\n",
        "article_list = []  # 제목을 저장할 빈 리스트 생성\n",
        "for article in articles:  # 기사 목록에서 하나씩 반복\n",
        "    title = article.find_element(By.CSS_SELECTOR, \"strong.sa_text_strong\")  # 각 기사에서 제목 요소를 찾음\n",
        "    if title:  # 제목 요소가 존재하면\n",
        "        article_list.append(title.text)  # 해당 제목의 텍스트를 리스트에 추가\n",
        "\n",
        "article_list # 모든 기사 제목들이 저장된 리스트를 출력"
      ]
    },
    {
      "cell_type": "markdown",
      "id": "131c930f-fab0-4a71-9b3e-b8b36c285632",
      "metadata": {
        "id": "131c930f-fab0-4a71-9b3e-b8b36c285632"
      },
      "source": [
        "# COFIX 공시 지표 파일 다운로드"
      ]
    },
    {
      "cell_type": "code",
      "execution_count": 97,
      "id": "bfa4b0b8-2d03-46f8-989b-ddc581d8cf59",
      "metadata": {
        "id": "bfa4b0b8-2d03-46f8-989b-ddc581d8cf59"
      },
      "outputs": [],
      "source": [
        "# COFIX 공시 지표 파일 다운로드 자동화\n",
        "\n",
        "urls = \"https://portal.kfb.or.kr/fingoods/cofix.php?BasicYear_W=&BasicYear={}\"  \n",
        "# COFIX 공시 지표를 다운로드할 수 있는 URL 패턴 정의 (연도별 데이터 수집을 위해)\n",
        "\n",
        "driver.get(urls.format(2019))  # 정의된 URL에 2019년을 입력해 해당 페이지를 염"
      ]
    },
    {
      "cell_type": "code",
      "execution_count": 98,
      "id": "7c58570e-89e4-4268-b6a8-98068ff39e7a",
      "metadata": {
        "id": "7c58570e-89e4-4268-b6a8-98068ff39e7a"
      },
      "outputs": [],
      "source": [
        "# 버튼을 찾아서 클릭\n",
        "button_elem = driver.find_element(\n",
        "    By.CSS_SELECTOR, \n",
        "    \"li.leftArea span.btnArea a.btn01\"\n",
        ")\n",
        "\n",
        "# 파일 다운로드를 위한 버튼 요소를 CSS 선택자로 찾아 저장\n",
        "button_elem.click()  # 해당 버튼을 클릭하여 파일 다운로드를 시작\n"
      ]
    },
    {
      "cell_type": "code",
      "execution_count": 99,
      "id": "0f603e61-072d-43d7-a004-9018d242d79b",
      "metadata": {
        "id": "0f603e61-072d-43d7-a004-9018d242d79b",
        "outputId": "9f8d5585-4afb-4a8e-a3d4-0bdd6c62c678"
      },
      "outputs": [
        {
          "data": {
            "text/plain": [
              "15"
            ]
          },
          "execution_count": 99,
          "metadata": {},
          "output_type": "execute_result"
        }
      ],
      "source": [
        "# 드롭다운 리스트에서 연도별 옵션 가져오기\n",
        "year_dropdown_list = driver.find_elements(\n",
        "    By.CSS_SELECTOR,\n",
        "    \"#BasicYear option\"\n",
        ")\n",
        "\n",
        "# 연도 선택 드롭다운에서 모든 연도 옵션 요소를 가져옴\n",
        "\n",
        "len(year_dropdown_list)"
      ]
    },
    {
      "cell_type": "code",
      "execution_count": 100,
      "id": "b06a8ffa-2a42-40f1-8410-77c27c954510",
      "metadata": {
        "id": "b06a8ffa-2a42-40f1-8410-77c27c954510",
        "outputId": "9389d377-ee9e-4f04-a13e-95b55e85160e"
      },
      "outputs": [
        {
          "data": {
            "text/plain": [
              "['2024',\n",
              " '2023',\n",
              " '2022',\n",
              " '2021',\n",
              " '2020',\n",
              " '2019',\n",
              " '2018',\n",
              " '2017',\n",
              " '2016',\n",
              " '2015',\n",
              " '2014',\n",
              " '2013',\n",
              " '2012',\n",
              " '2011',\n",
              " '2010']"
            ]
          },
          "execution_count": 100,
          "metadata": {},
          "output_type": "execute_result"
        }
      ],
      "source": [
        "# 연도 리스트 생성\n",
        "year_list = [year_option.text for year_option in year_dropdown_list]  \n",
        "# 각 연도 옵션 요소에서 텍스트를 추출해 리스트로 저장\n",
        "year_list"
      ]
    },
    {
      "cell_type": "code",
      "execution_count": 101,
      "id": "c5f28ff3-e5b1-4e98-a98d-909259578118",
      "metadata": {
        "id": "c5f28ff3-e5b1-4e98-a98d-909259578118"
      },
      "outputs": [],
      "source": [
        "# 각 연도별로 파일 다운로드 자동화\n",
        "for year in year_list:  # 연도 리스트에서 하나씩 반복\n",
        "    driver.get(urls.format(year))  # 해당 연도의 페이지를 염\n",
        "\n",
        "    button_elem = driver.find_element(By.CSS_SELECTOR, \"li.leftArea span.btnArea a.btn01\")  \n",
        "    # 파일 다운로드 버튼을 찾아 저장\n",
        "    button_elem.click()  # 다운로드 버튼 클릭\n",
        "\n",
        "    download_btn_elem = driver.find_element(By.CSS_SELECTOR, \"li.rightArea  span.btnArea a.btn01\")  \n",
        "    # 실제 다운로드를 위한 버튼 요소를 찾아 저장\n",
        "    download_btn_elem.click()  # 해당 버튼 클릭해 파일 다운로드"
      ]
    },
    {
      "cell_type": "code",
      "execution_count": 102,
      "id": "9a01d8a3",
      "metadata": {},
      "outputs": [],
      "source": [
        "driver.quit()"
      ]
    }
  ],
  "metadata": {
    "colab": {
      "provenance": []
    },
    "kernelspec": {
      "display_name": "Python 3 (ipykernel)",
      "language": "python",
      "name": "python3"
    },
    "language_info": {
      "codemirror_mode": {
        "name": "ipython",
        "version": 3
      },
      "file_extension": ".py",
      "mimetype": "text/x-python",
      "name": "python",
      "nbconvert_exporter": "python",
      "pygments_lexer": "ipython3",
      "version": "3.8.19"
    }
  },
  "nbformat": 4,
  "nbformat_minor": 5
}
