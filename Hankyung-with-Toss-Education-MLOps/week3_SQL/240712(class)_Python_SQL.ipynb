{
 "cells": [
  {
   "cell_type": "code",
   "execution_count": 13,
   "metadata": {},
   "outputs": [
    {
     "name": "stdout",
     "output_type": "stream",
     "text": [
      "결과확인 :  10.0\n",
      "결과 생성 완료\n"
     ]
    }
   ],
   "source": [
    "# 파이썬 예외처리 방법\n",
    "# SQL 연동 시 필수적으로 쓰인다\n",
    "try:\n",
    "    numerator = 10\n",
    "    denominator = int(input(\"숫자를 입력하세요: \"))\n",
    "    result = numerator / denominator\n",
    "except ZeroDivisionError: # 장애가 났을 경우를 대비\n",
    "    print (\"ERROR: 0으로 나눌 수 없음\")\n",
    "else:\n",
    "    print(\"결과확인 : \", result)\n",
    "finally:\n",
    "    print(\"결과 생성 완료\")\n",
    "\n",
    "# 코드는 try, except, else, 그리고 finally 블록을 사용하여 예외를 처리하고 있습니다. \n",
    "\n",
    "# 코드 설명\n",
    "        # try 블록\n",
    "    # try 블록 내에서 실행하려는 코드를 포함합니다.\n",
    "    # numerator = 10과 denominator = 0을 설정하고 result = numerator / denominator를 시도합니다.\n",
    "    # 여기서 denominator가 0이므로, result = numerator / denominator는 ZeroDivisionError 예외를 발생시킵니다.\n",
    "    \n",
    "        # except 블록\n",
    "    # try 블록에서 예외가 발생하면, 해당 예외를 처리하기 위해 except 블록이 실행됩니다.\n",
    "    # 이 경우 ZeroDivisionError 예외가 발생하므로, except ZeroDivisionError 블록이 실행되고 \"ERROR: 0으로 나눌 수 없음\" 메시지가 출력됩니다.\n",
    "    \n",
    "        # else 블록\n",
    "    # try 블록에서 예외가 발생하지 않으면 else 블록이 실행됩니다.\n",
    "    \n",
    "        # finally 블록\n",
    "    # finally 블록은 try, except, else 블록에서 어떤 일이 발생하더라도 항상 실행됩니다.\n"
   ]
  },
  {
   "cell_type": "markdown",
   "metadata": {},
   "source": [
    "# SQL 연결하기\n",
    "\n",
    "## Step 1. Connect to Server\n",
    "\n",
    "\n",
    "\n"
   ]
  },
  {
   "cell_type": "code",
   "execution_count": 9,
   "metadata": {},
   "outputs": [],
   "source": [
    "import os\n",
    "from mysql import connector\n",
    "\n",
    "PASSWORD= '@@Id94609460'"
   ]
  },
  {
   "cell_type": "code",
   "execution_count": 15,
   "metadata": {},
   "outputs": [
    {
     "name": "stdout",
     "output_type": "stream",
     "text": [
      "Database 객체 : <mysql.connector.connection_cext.CMySQLConnection object at 0x121b07c50>\n"
     ]
    }
   ],
   "source": [
    "try:\n",
    "    with connector.connect( #with 쓰는 이유: 보안 문제 때문에\n",
    "        host = '127.0.0.1', \n",
    "        user = 'root', \n",
    "        password = PASSWORD\n",
    "    ) as database:\n",
    "        print(f\"Database 객체 : {database}\")\n",
    "except connector.Error as e:\n",
    "    print(e)\n",
    "\n",
    "\n",
    "    # connector.connect\n",
    "# : MySQL 데이터베이스에 연결을 시도합니다. host, user, password를 인자로 받습니다.\n",
    "    # with 구문\n",
    "# : 연결 객체를 자동으로 닫아주는 역할을 합니다. 데이터베이스 연결이 database 객체에 저장됩니다.\n",
    "    # print(f\"Database 객체 : {database}\")\n",
    "# : 연결이 성공하면 데이터베이스 객체를 출력합니다.\n",
    "    # except connector.Error as e: \n",
    "#  연결 중 에러가 발생하면 에러 메시지를 출력합니다."
   ]
  },
  {
   "cell_type": "markdown",
   "metadata": {},
   "source": [
    "## Step 2. Creating New DB"
   ]
  },
  {
   "cell_type": "code",
   "execution_count": 1,
   "metadata": {},
   "outputs": [
    {
     "ename": "NameError",
     "evalue": "name 'connector' is not defined",
     "output_type": "error",
     "traceback": [
      "\u001b[0;31m---------------------------------------------------------------------------\u001b[0m",
      "\u001b[0;31mNameError\u001b[0m                                 Traceback (most recent call last)",
      "Cell \u001b[0;32mIn[1], line 4\u001b[0m\n\u001b[1;32m      3\u001b[0m \u001b[38;5;28;01mtry\u001b[39;00m:\n\u001b[0;32m----> 4\u001b[0m     \u001b[38;5;28;01mwith\u001b[39;00m \u001b[43mconnector\u001b[49m\u001b[38;5;241m.\u001b[39mconnect(\n\u001b[1;32m      5\u001b[0m         host \u001b[38;5;241m=\u001b[39m \u001b[38;5;124m'\u001b[39m\u001b[38;5;124mlocalhost\u001b[39m\u001b[38;5;124m'\u001b[39m, \n\u001b[1;32m      6\u001b[0m         user \u001b[38;5;241m=\u001b[39m \u001b[38;5;124m'\u001b[39m\u001b[38;5;124mroot\u001b[39m\u001b[38;5;124m'\u001b[39m, \n\u001b[1;32m      7\u001b[0m         password \u001b[38;5;241m=\u001b[39m PASSWORD\n\u001b[1;32m      8\u001b[0m     ) \u001b[38;5;28;01mas\u001b[39;00m database:\n\u001b[1;32m      9\u001b[0m         \u001b[38;5;28mprint\u001b[39m(\u001b[38;5;124mf\u001b[39m\u001b[38;5;124m\"\u001b[39m\u001b[38;5;124mDatabase 객체 : \u001b[39m\u001b[38;5;132;01m{\u001b[39;00mdatabase\u001b[38;5;132;01m}\u001b[39;00m\u001b[38;5;124m\"\u001b[39m)\n",
      "\u001b[0;31mNameError\u001b[0m: name 'connector' is not defined",
      "\nDuring handling of the above exception, another exception occurred:\n",
      "\u001b[0;31mNameError\u001b[0m                                 Traceback (most recent call last)",
      "Cell \u001b[0;32mIn[1], line 26\u001b[0m\n\u001b[1;32m     21\u001b[0m             \u001b[38;5;28;01mfor\u001b[39;00m db \u001b[38;5;129;01min\u001b[39;00m cursor:\n\u001b[1;32m     22\u001b[0m                 \u001b[38;5;28mprint\u001b[39m(db)\n\u001b[0;32m---> 26\u001b[0m \u001b[38;5;28;01mexcept\u001b[39;00m \u001b[43mconnector\u001b[49m\u001b[38;5;241m.\u001b[39mError \u001b[38;5;28;01mas\u001b[39;00m e:\n\u001b[1;32m     27\u001b[0m     \u001b[38;5;28mprint\u001b[39m(e)\n\u001b[1;32m     32\u001b[0m \u001b[38;5;66;03m# 코드 설명\u001b[39;00m\n\u001b[1;32m     33\u001b[0m \n\u001b[1;32m     34\u001b[0m         \u001b[38;5;66;03m# 데이터베이스 연결\u001b[39;00m\n\u001b[0;32m   (...)\u001b[0m\n\u001b[1;32m     88\u001b[0m \u001b[38;5;66;03m# 실행 결과 예시\u001b[39;00m\n\u001b[1;32m     89\u001b[0m \u001b[38;5;66;03m# MySQL 서버에 기본적으로 생성된 데이터베이스와 새로 생성된 book_ratings 데이터베이스가 출력될 것입니다.\u001b[39;00m\n",
      "\u001b[0;31mNameError\u001b[0m: name 'connector' is not defined"
     ]
    }
   ],
   "source": [
    "# 위 코드 그대로 가져온 후 가운데에 쿼리문 작성\n",
    "\n",
    "try:\n",
    "    with connector.connect(\n",
    "        host = 'localhost', \n",
    "        user = 'root', \n",
    "        password = PASSWORD\n",
    "    ) as database:\n",
    "        print(f\"Database 객체 : {database}\")\n",
    "\n",
    "\n",
    "\n",
    "        with database.cursor() as cursor:\n",
    "            # 쿼리문 작성\n",
    "            # create_db = \"CREATE DATABASE book_ratings;\"\n",
    "            # cursor.execute(create_db)\n",
    "\n",
    "            # 생성된 DB 확인 쿼리문 쓰기\n",
    "            show_existing_db = \"SHOW DATABASES;\"\n",
    "            cursor.execute(show_existing_db)\n",
    "            for db in cursor:\n",
    "                print(db)\n",
    "\n",
    "\n",
    "\n",
    "except connector.Error as e:\n",
    "    print(e)\n",
    "\n",
    "\n",
    "\n",
    "# 코드 설명\n",
    "\n",
    "        # 데이터베이스 연결\n",
    "\n",
    "# try:\n",
    "#     with connector.connect(\n",
    "#         host='localhost', \n",
    "#         user='root', \n",
    "#         password=PASSWORD\n",
    "#     ) as database:\n",
    "#         print(f\"Database 객체 : {database}\")\n",
    "\n",
    "# connector.connect: MySQL 데이터베이스에 연결을 시도합니다.\n",
    "# host, user, password: MySQL 서버의 호스트 주소, 사용자 이름, 비밀번호를 지정합니다.\n",
    "# as database: 연결 객체를 database로 참조합니다.\n",
    "\n",
    "\n",
    "\n",
    "        # 커서 생성 및 쿼리 실행\n",
    "\n",
    "# with database.cursor() as cursor: \n",
    "#     # 생성된 DB 확인 쿼리문 쓰기\n",
    "#     show_existing_db = \"SHOW DATABASES;\"\n",
    "#     cursor.execute(show_existing_db)\n",
    "#     for db in cursor:\n",
    "#         print(db)\n",
    "\n",
    "# database.cursor() as cursor: 데이터베이스와 상호작용하기 위해 커서를 생성합니다.\n",
    "# cursor.execute(query): SQL 쿼리를 실행합니다.\n",
    "# SHOW DATABASES: 현재 MySQL 서버에 존재하는 모든 데이터베이스를 보여주는 쿼리입니다.\n",
    "# for db in cursor: 커서에서 반환된 데이터베이스 목록을 반복하며 출력합니다.\n",
    "\n",
    "        # 에러 처리\n",
    "# except connector.Error as e:\n",
    "#     print(e)\n",
    "\n",
    "# except connector.Error as e: MySQL 연결이나 쿼리 실행 중에 발생하는 에러를 처리합니다.\n",
    "# print(e): 에러 메시지를 출력합니다.\n",
    "\n",
    "\n",
    "# 해설\n",
    "\n",
    "    # 데이터베이스 연결\n",
    "\n",
    "# localhost에 있는 MySQL 서버에 root 사용자로 비밀번호 PASSWORD를 사용하여 연결을 시도합니다. 성공적으로 연결되면 database 객체가 생성됩니다.\n",
    "\n",
    "    # 커서 생성 및 쿼리 실행\n",
    "\n",
    "# 연결된 데이터베이스 객체에서 커서를 생성하여 SQL 쿼리를 실행할 수 있습니다.\n",
    "# 주석 처리된 CREATE DATABASE book_ratings; 쿼리는 새 데이터베이스를 생성하는 명령어입니다. 이 부분의 주석을 해제하면 데이터베이스가 생성됩니다.\n",
    "# SHOW DATABASES; 쿼리를 실행하여 현재 서버에 존재하는 데이터베이스 목록을 가져옵니다.\n",
    "# for db in cursor 루프를 통해 각 데이터베이스 이름을 출력합니다.\n",
    "\n",
    "    # 에러 처리\n",
    "\n",
    "# 데이터베이스 연결이나 쿼리 실행 중에 에러가 발생하면, 에러 메시지가 출력됩니다. 이는 디버깅에 유용합니다.\n",
    "# 실행 결과 예시\n",
    "# MySQL 서버에 기본적으로 생성된 데이터베이스와 새로 생성된 book_ratings 데이터베이스가 출력될 것입니다."
   ]
  },
  {
   "cell_type": "markdown",
   "metadata": {},
   "source": [
    "- 특정 DB에 직접 연결하기\n",
    "\n",
    "database = \"book_ratings\"\n",
    "\n",
    "host, user, password 코드 다음에 위 코드처럼 DB 이름 적어주면 됨"
   ]
  },
  {
   "cell_type": "markdown",
   "metadata": {},
   "source": [
    "## STEP 3. Creating Tables"
   ]
  },
  {
   "cell_type": "code",
   "execution_count": 19,
   "metadata": {},
   "outputs": [
    {
     "name": "stdout",
     "output_type": "stream",
     "text": [
      "Database 객체 : <mysql.connector.connection_cext.CMySQLConnection object at 0x1203c5ed0>\n",
      "1050 (42S01): Table 'books' already exists\n"
     ]
    }
   ],
   "source": [
    "# 테이블 생성 쿼리\n",
    "# SQL에서 작성한 쿼리문  create_book_table 변수 안에 복붙\n",
    "\n",
    "create_books_table = \"\"\"\n",
    "    CREATE TABLE books(\n",
    "        id INT NOT NULL AUTO_INCREMENT PRIMARY KEY,\n",
    "        title VARCHAR(100),\n",
    "        author VARCHAR(100),\n",
    "        genre VARCHAR(100),\n",
    "        release_year YEAR(4)\n",
    "    );\n",
    "\"\"\"\n",
    "\n",
    "\n",
    "# 데이터베이스 연결 및 테이블 생성\n",
    "try:\n",
    "    with connector.connect(\n",
    "        host = 'localhost', \n",
    "        user = 'root', \n",
    "        password = PASSWORD, \n",
    "        database = \"book_ratings\" # 특정 DB에 연결하기 -> 이것이 기존 코드와의 차이점\n",
    "    ) as database:\n",
    "        print(f\"Database 객체 : {database}\")\n",
    "\n",
    "        # cursor object 접근 후, 위 쿼리 실행\n",
    "        with database.cursor() as cursor:\n",
    "            # 테이블 생성\n",
    "            cursor.execute(create_books_table)\n",
    "            database.commit()\n",
    "\n",
    "            # 테이블 확인 DESCRIBE\n",
    "            describe_books = \"DESCRIBE books;\"\n",
    "            cursor.execute(describe_books)\n",
    "            book_schema = cursor.fetchall()\n",
    "            for column in book_schema:\n",
    "                print(column)\n",
    "\n",
    "\n",
    "except connector.Error as e:\n",
    "    print(e)    \n",
    "\n",
    "    # 데이터베이스 연결\n",
    "\n",
    "# connector.connect를 사용하여 MySQL 데이터베이스에 연결합니다. \n",
    "# host, user, password, database 매개변수를 통해 데이터베이스 연결 정보를 설정합니다.\n",
    "# with 문을 사용하여 데이터베이스 연결을 관리합니다. with 블록이 종료되면 연결이 자동으로 닫힙니다.\n",
    "# 연결 객체는 database로 참조됩니다.\n",
    "\n",
    "    # 테이블 생성\n",
    "\n",
    "# with database.cursor() as cursor: 데이터베이스와 상호작용하기 위해 커서를 생성합니다. with 문을 사용하여 커서를 관리합니다.\n",
    "# cursor.execute(create_books_table): create_books_table 쿼리를 실행하여 books 테이블을 생성합니다.\n",
    "# database.commit(): 트랜잭션을 커밋하여 테이블 생성 작업을 영구적으로 반영합니다.\n",
    "\n",
    "    # 테이블 구조 확인\n",
    "\n",
    "# describe_books = \"DESCRIBE books;\": books 테이블의 구조를 확인하기 위한 SQL 쿼리입니다.\n",
    "# cursor.execute(describe_books): describe_books 쿼리를 실행하여 테이블의 구조를 가져옵니다.\n",
    "# book_schema = cursor.fetchall(): 쿼리 결과를 모두 가져와서 book_schema에 저장합니다.\n",
    "# for column in book_schema: 가져온 테이블 구조를 반복하면서 각 컬럼 정보를 출력합니다.\n",
    "\n",
    "    # 에러 처리\n",
    "\n",
    "# except connector.Error as e: 데이터베이스 연결이나 쿼리 실행 중에 발생하는 예외를 처리합니다.\n",
    "# print(e): 예외 메시지를 출력합니다.\n",
    "\n",
    "        # 실행 흐름 요약\n",
    "    # MySQL 데이터베이스에 연결을 시도합니다.\n",
    "    # 연결에 성공하면 books 테이블을 생성합니다.\n",
    "    # books 테이블의 구조를 확인하여 출력합니다.\n",
    "    # 과정 중 에러가 발생하면 에러 메시지를 출력합니다.\n"
   ]
  },
  {
   "cell_type": "markdown",
   "metadata": {},
   "source": [
    "## Step 4. DATA Insertion\n",
    "\n",
    "- 하나의 레코드 추가할 때와 다중 레코드 추가할 때 사용하는 메서드 다름"
   ]
  },
  {
   "cell_type": "code",
   "execution_count": 35,
   "metadata": {},
   "outputs": [],
   "source": [
    "insert_single_record = \"INSERT INTO books (id, title, author, genre, release_year)\\\n",
    "    VALUES (%s, %s, %s, %s, %s)\"\n",
    "\n",
    "single_record = (\n",
    "    \"1\", \"Choose Yourself! Be Happy, Make Millions, Live the Dream\", \"James Altucher\", \"self-help\", \"2013\"\n",
    "    )"
   ]
  },
  {
   "cell_type": "code",
   "execution_count": 36,
   "metadata": {},
   "outputs": [
    {
     "name": "stdout",
     "output_type": "stream",
     "text": [
      "Database 객체 : <mysql.connector.connection_cext.CMySQLConnection object at 0x121a5bb90>\n"
     ]
    }
   ],
   "source": [
    "try:\n",
    "    with connector.connect(\n",
    "        host = 'localhost', \n",
    "        user = 'root', \n",
    "        password = PASSWORD, \n",
    "        database = \"book_ratings\" # 이것이 기존 코드와의 차이점\n",
    "    ) as database:\n",
    "        print(f\"Database 객체 : {database}\")\n",
    "\n",
    "\n",
    "        # 커서 생성 후, 쿼리 실행\n",
    "        with database.cursor() as cursor:\n",
    "            cursor.execute(insert_single_record, single_record)\n",
    "            database.commit()\n",
    "\n",
    "except connector.Error as e:\n",
    "    print(e)\n",
    "\n",
    "\n",
    "    # 이후 MySQL workbench에 들어가서 테이블 확인해보면 위 레코드가 들어간 것을 확인할 수 있음"
   ]
  },
  {
   "cell_type": "markdown",
   "metadata": {},
   "source": [
    "- 다중 레코드 추가하기"
   ]
  },
  {
   "cell_type": "code",
   "execution_count": 7,
   "metadata": {},
   "outputs": [],
   "source": [
    "insert_multiple_records = \"INSERT INTO books (id, title, author, genre, release_year)\\\n",
    "    VALUES (%s, %s, %s, %s, %s)\"\n",
    "\n",
    "multiple_records = [\n",
    "    (\n",
    "        \"2\", \n",
    "        \"Skip the Line: The 10,000 Experiments Rule and Other Surprising Advice for Reaching Your Goals\",\n",
    "        \"James Altucher\",\n",
    "        \"self-help\",\n",
    "        \"2021\"        \n",
    "    ),\n",
    "    (\n",
    "        \"3\",\n",
    "        \"The Power of No: Because One Little Word Can Bring Health, Abundance, and Happiness\",\n",
    "        \"James Altucher\",\n",
    "        \"self-help\",\n",
    "        \"2014\"\n",
    "    ),\n",
    "    (\n",
    "        \"4\",\n",
    "        \"The 48 Laws of Power\",\n",
    "        \"Robert Greene\",\n",
    "        \"self-help\",\n",
    "        \"1998\"\n",
    "    ),\n",
    "    (\n",
    "        \"5\",\n",
    "        \"Mastery\",\n",
    "        \"Robert Greene\",\n",
    "        \"self-help\",\n",
    "        \"2012\"\n",
    "    ),\n",
    "    (\n",
    "        \"6\",\n",
    "        \"The Art of Seduction\",\n",
    "        \"Robert Greene\",\n",
    "        \"self-help\",\n",
    "        \"2001\"\n",
    "    ),\n",
    "]"
   ]
  },
  {
   "cell_type": "code",
   "execution_count": 10,
   "metadata": {},
   "outputs": [
    {
     "name": "stdout",
     "output_type": "stream",
     "text": [
      "Database 객체 : <mysql.connector.connection_cext.CMySQLConnection object at 0x11012b510>\n"
     ]
    }
   ],
   "source": [
    "try:\n",
    "    with connector.connect(\n",
    "        host = 'localhost', \n",
    "        user = 'root', \n",
    "        password = PASSWORD, \n",
    "        database = \"book_ratings\" # 이것이 기존 코드와의 차이점\n",
    "    ) as database:\n",
    "        print(f\"Database 객체 : {database}\")\n",
    "\n",
    "        # 커서 생성 후, 쿼리 실행\n",
    "        with database.cursor() as cursor:\n",
    "            # cursor.execute(insert_single_record, single_record) -> 다중 쿼리 시 전과는 다르게 사용 -> 아래 코드처럼\n",
    "            cursor.executemany(insert_multiple_records, multiple_records)\n",
    "            database.commit()\n",
    "\n",
    "except connector.Error as e:\n",
    "    print(e)\n",
    "\n",
    "\n",
    "    # MySQL workbench에 들어가서 테이블 확인해보면 위 레코드들이 들어간 것을 확인할 수 있음"
   ]
  },
  {
   "cell_type": "markdown",
   "metadata": {},
   "source": [
    "## Step 5. Selecting Data\n",
    "\n"
   ]
  },
  {
   "cell_type": "code",
   "execution_count": 15,
   "metadata": {},
   "outputs": [
    {
     "name": "stdout",
     "output_type": "stream",
     "text": [
      "Database 객체 : <mysql.connector.connection_cext.CMySQLConnection object at 0x1100f6950>\n",
      "('James Altucher', 2013)\n",
      "('James Altucher', 2021)\n",
      "('James Altucher', 2014)\n",
      "('Robert Greene', 1998)\n",
      "('Robert Greene', 2012)\n",
      "('Robert Greene', 2001)\n"
     ]
    }
   ],
   "source": [
    "try:\n",
    "    with connector.connect(\n",
    "        host = 'localhost', \n",
    "        user = 'root', \n",
    "        password = PASSWORD, \n",
    "        database = \"book_ratings\" # 이것이 기존 코드와의 차이점\n",
    "    ) as database:\n",
    "        print(f\"Database 객체 : {database}\")\n",
    "\n",
    "        # 커서 생성 후, 쿼리 실행\n",
    "        with database.cursor() as cursor:\n",
    "            \n",
    "            # 쿼리문 작성\n",
    "            select_cols = \"SELECT author, release_year From books;\" # MySQL에서 쓰는 쿼리문과 같이 쓰면 됨\n",
    "            cursor.execute(select_cols)\n",
    "            \n",
    "            # 데이터 확인 \n",
    "            df = cursor.fetchall()\n",
    "            for result in df:\n",
    "                print(result)\n",
    "\n",
    "except connector.Error as e:\n",
    "    print(e)\n",
    "\n",
    "\n",
    "# 여기서는 전에 썼던 코드들처럼  database.commit()을 쓰지 않는 이유\n",
    "\n",
    "        # 데이터 삽입/변경 작업 (INSERT, UPDATE, DELETE 등):\n",
    "    # 트랜잭션이 필요합니다.\n",
    "    # 변경 사항을 영구적으로 반영하기 위해 commit()을 호출해야 합니다.\n",
    "\n",
    "        # 데이터 조회 작업 (SELECT):\n",
    "    # 데이터베이스의 데이터를 변경하지 않습니다.\n",
    "    # 트랜잭션 커밋이 필요 없습니다.\n",
    "\n",
    "\n"
   ]
  },
  {
   "cell_type": "markdown",
   "metadata": {},
   "source": [
    "### 퀴즈: select 사용자 정의 함수 만들기\n",
    "\n",
    "- 어떤 테이블을 조회해도 깔끔하게 데이터프레임으로 만드는 함수를 만들고 테스트해보기"
   ]
  },
  {
   "cell_type": "code",
   "execution_count": 16,
   "metadata": {},
   "outputs": [],
   "source": [
    "import pandas as pd\n",
    "from mysql import connector"
   ]
  },
  {
   "cell_type": "code",
   "execution_count": 32,
   "metadata": {},
   "outputs": [
    {
     "name": "stdout",
     "output_type": "stream",
     "text": [
      "-  ---  --------------------------  ----------  ------  ------------  ----------------------------  -------  ---------  --------  -----  ---------  ----  ------\n",
      "0  103  Atelier graphique           Schmitt     Carine  40.32.2555    54, rue Royale                         Nantes               44000  France     1370   21000\n",
      "1  112  Signal Gift Stores          King        Jean    7025551838    8489 Strong St.                        Las Vegas  NV        83030  USA        1166   71800\n",
      "2  114  Australian Collectors, Co.  Ferguson    Peter   03 9520 4555  636 St Kilda Road             Level 3  Melbourne  Victoria   3004  Australia  1611  117300\n",
      "3  119  La Rochelle Gifts           Labrune     Janine  40.67.8555    67, rue des Cinquante Otages           Nantes               44000  France     1370  118200\n",
      "4  121  Baane Mini Imports          Bergulfsen  Jonas   07-98 9555    Erling Skakkes gate 78                 Stavern               4110  Norway     1504   81700\n",
      "-  ---  --------------------------  ----------  ------  ------------  ----------------------------  -------  ---------  --------  -----  ---------  ----  ------\n"
     ]
    },
    {
     "name": "stderr",
     "output_type": "stream",
     "text": [
      "/var/folders/zk/p59k4t_16mlgf68b5hxclv6m0000gn/T/ipykernel_60494/3075362997.py:24: UserWarning: pandas only supports SQLAlchemy connectable (engine/connection) or database string URI or sqlite3 DBAPI2 connection. Other DBAPI2 objects are not tested. Please consider using SQLAlchemy.\n",
      "  df = pd.read_sql(query, conn)\n"
     ]
    }
   ],
   "source": [
    "from tabulate import tabulate\n",
    "\n",
    "def fetch_table_to_dataframe(password, database, query, host='localhost', user='root'):\n",
    "    \"\"\"\n",
    "    MySQL 데이터베이스에서 데이터를 조회하여 Pandas DataFrame으로 반환하는 함수\n",
    "    \n",
    "    :password: MySQL 데이터베이스 비밀번호\n",
    "    :database: 조회할 데이터베이스 이름\n",
    "    :query: 실행할 SQL 쿼리\n",
    "    :host: MySQL 서버 호스트명 (기본값: 'localhost')\n",
    "    :user: MySQL 사용자명 (기본값: 'root')\n",
    "    :return: 조회된 결과를 포함하는 Pandas DataFrame\n",
    "    \"\"\"\n",
    "    try:\n",
    "        # 데이터베이스 연결\n",
    "        conn = connector.connect(\n",
    "            host=host,\n",
    "            user=user,\n",
    "            password=password,\n",
    "            database=database\n",
    "        )\n",
    "        \n",
    "        # 쿼리 실행 및 데이터프레임으로 변환\n",
    "        df = pd.read_sql(query, conn) \n",
    "        \n",
    "        # 연결 종료\n",
    "        conn.close()\n",
    "        \n",
    "        return df\n",
    "    except connector.Error as e:\n",
    "        print(f\"Error: {e}\")\n",
    "        return None\n",
    "\n",
    "# 사용 예시\n",
    "PASSWORD = '@@Id94609460'\n",
    "DATABASE = 'classicmodels'\n",
    "QUERY = 'SELECT * FROM CUSTOMERS;'\n",
    "\n",
    "# 함수 호출\n",
    "df = fetch_table_to_dataframe(PASSWORD, DATABASE, QUERY)\n",
    "\n",
    "# 데이터프레임 출력\n",
    "print(tabulate(df.head()))\n"
   ]
  },
  {
   "cell_type": "markdown",
   "metadata": {},
   "source": [
    "## STEP.6 update and delete"
   ]
  },
  {
   "cell_type": "code",
   "execution_count": 22,
   "metadata": {},
   "outputs": [
    {
     "name": "stdout",
     "output_type": "stream",
     "text": [
      "Database 객체 : <mysql.connector.connection_cext.CMySQLConnection object at 0x1173a1f10>\n",
      "('Big J',)\n",
      "('Robert Greene',)\n"
     ]
    }
   ],
   "source": [
    "update_query = \"\"\"\n",
    "    UPDATE \n",
    "        books\n",
    "    SET \n",
    "        author = 'Big J'\n",
    "    WHERE \n",
    "        author = 'James Altucher'\n",
    "\"\"\"\n",
    "\n",
    "try:\n",
    "    with connector.connect(\n",
    "        host = 'localhost', \n",
    "        user = 'root', \n",
    "        password = PASSWORD, \n",
    "        database = \"book_ratings\" # 이것이 기존 코드와의 차이점\n",
    "    ) as database:\n",
    "        print(f\"Database 객체 : {database}\")\n",
    "\n",
    "        # 커서 생성 후, 쿼리 실행\n",
    "        with database.cursor() as cursor:\n",
    "            \n",
    "            # 쿼리문 작성   \n",
    "            cursor.execute(update_query)\n",
    "            database.commit()\n",
    "            \n",
    "            # 데이터 확인 \n",
    "            check_query = \"SELECT DISTINCT author FROM books\"\n",
    "            cursor.execute(check_query)\n",
    "\n",
    "            for result in cursor.fetchall():\n",
    "                print(result)\n",
    "\n",
    "except connector.Error as e:\n",
    "    print(e)\n",
    "\n"
   ]
  },
  {
   "cell_type": "code",
   "execution_count": 24,
   "metadata": {},
   "outputs": [
    {
     "name": "stdout",
     "output_type": "stream",
     "text": [
      "Database 객체 : <mysql.connector.connection_cext.CMySQLConnection object at 0x1203fbc10>\n",
      "(2013,)\n",
      "(2021,)\n",
      "(2014,)\n",
      "(2012,)\n"
     ]
    }
   ],
   "source": [
    "try:\n",
    "    with connector.connect(\n",
    "        host = 'localhost', \n",
    "        user = 'root', \n",
    "        password = PASSWORD, \n",
    "        database = \"book_ratings\" # 이것이 기존 코드와의 차이점\n",
    "    ) as database:\n",
    "        print(f\"Database 객체 : {database}\")\n",
    "\n",
    "        # 커서 생성 후, 쿼리 실행\n",
    "        with database.cursor() as cursor:\n",
    "            \n",
    "            # 쿼리문 작성   \n",
    "            delete_query = 'DELETE FROM books WHERE release_year <= 2010;' # 2010년 전 레코드 삭제\n",
    "            cursor.execute(delete_query)\n",
    "            database.commit()\n",
    "            \n",
    "            # 데이터 확인 \n",
    "            check_query = \"SELECT DISTINCT release_year FROM books\"\n",
    "            cursor.execute(check_query)\n",
    "\n",
    "            for result in cursor.fetchall():\n",
    "                print(result)\n",
    "\n",
    "except connector.Error as e:\n",
    "    print(e)"
   ]
  }
 ],
 "metadata": {
  "kernelspec": {
   "display_name": "base",
   "language": "python",
   "name": "python3"
  },
  "language_info": {
   "codemirror_mode": {
    "name": "ipython",
    "version": 3
   },
   "file_extension": ".py",
   "mimetype": "text/x-python",
   "name": "python",
   "nbconvert_exporter": "python",
   "pygments_lexer": "ipython3",
   "version": "3.11.7"
  }
 },
 "nbformat": 4,
 "nbformat_minor": 2
}
