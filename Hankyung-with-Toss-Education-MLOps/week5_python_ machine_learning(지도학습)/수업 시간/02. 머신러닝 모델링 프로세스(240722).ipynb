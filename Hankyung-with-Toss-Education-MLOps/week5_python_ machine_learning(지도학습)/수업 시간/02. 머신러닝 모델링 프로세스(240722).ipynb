{
 "cells": [
  {
   "cell_type": "code",
   "execution_count": 1,
   "id": "2ad24492-0ed6-4104-ba11-50330d3a8fb8",
   "metadata": {},
   "outputs": [
    {
     "name": "stderr",
     "output_type": "stream",
     "text": [
      "/opt/anaconda3/envs/ml-env/lib/python3.8/site-packages/scipy/__init__.py:146: UserWarning: A NumPy version >=1.16.5 and <1.23.0 is required for this version of SciPy (detected version 1.24.4\n",
      "  warnings.warn(f\"A NumPy version >={np_minversion} and <{np_maxversion}\"\n"
     ]
    },
    {
     "name": "stdout",
     "output_type": "stream",
     "text": [
      "feature shape : (150, 4)\n",
      "target shape :(150,)\n"
     ]
    }
   ],
   "source": [
    "from sklearn.datasets import load_iris\n",
    "\n",
    "iris = load_iris()\n",
    "\n",
    "iris_feature = iris.data\n",
    "iris_target  = iris.target\n",
    "\n",
    "# 데이터를 불러 왔으면 반드시 shape을 확인\n",
    "print(\"feature shape : {}\".format(iris_feature.shape))\n",
    "print(\"target shape :{}\".format(iris_target.shape))\n"
   ]
  },
  {
   "cell_type": "code",
   "execution_count": 2,
   "id": "7706bdff-35eb-433a-9ed6-5d1ab424ca2b",
   "metadata": {},
   "outputs": [
    {
     "data": {
      "text/html": [
       "<div>\n",
       "<style scoped>\n",
       "    .dataframe tbody tr th:only-of-type {\n",
       "        vertical-align: middle;\n",
       "    }\n",
       "\n",
       "    .dataframe tbody tr th {\n",
       "        vertical-align: top;\n",
       "    }\n",
       "\n",
       "    .dataframe thead th {\n",
       "        text-align: right;\n",
       "    }\n",
       "</style>\n",
       "<table border=\"1\" class=\"dataframe\">\n",
       "  <thead>\n",
       "    <tr style=\"text-align: right;\">\n",
       "      <th></th>\n",
       "      <th>sepal length (cm)</th>\n",
       "      <th>sepal width (cm)</th>\n",
       "      <th>petal length (cm)</th>\n",
       "      <th>petal width (cm)</th>\n",
       "      <th>target</th>\n",
       "    </tr>\n",
       "  </thead>\n",
       "  <tbody>\n",
       "    <tr>\n",
       "      <th>0</th>\n",
       "      <td>5.1</td>\n",
       "      <td>3.5</td>\n",
       "      <td>1.4</td>\n",
       "      <td>0.2</td>\n",
       "      <td>0</td>\n",
       "    </tr>\n",
       "    <tr>\n",
       "      <th>1</th>\n",
       "      <td>4.9</td>\n",
       "      <td>3.0</td>\n",
       "      <td>1.4</td>\n",
       "      <td>0.2</td>\n",
       "      <td>0</td>\n",
       "    </tr>\n",
       "    <tr>\n",
       "      <th>2</th>\n",
       "      <td>4.7</td>\n",
       "      <td>3.2</td>\n",
       "      <td>1.3</td>\n",
       "      <td>0.2</td>\n",
       "      <td>0</td>\n",
       "    </tr>\n",
       "    <tr>\n",
       "      <th>3</th>\n",
       "      <td>4.6</td>\n",
       "      <td>3.1</td>\n",
       "      <td>1.5</td>\n",
       "      <td>0.2</td>\n",
       "      <td>0</td>\n",
       "    </tr>\n",
       "    <tr>\n",
       "      <th>4</th>\n",
       "      <td>5.0</td>\n",
       "      <td>3.6</td>\n",
       "      <td>1.4</td>\n",
       "      <td>0.2</td>\n",
       "      <td>0</td>\n",
       "    </tr>\n",
       "  </tbody>\n",
       "</table>\n",
       "</div>"
      ],
      "text/plain": [
       "   sepal length (cm)  sepal width (cm)  petal length (cm)  petal width (cm)  \\\n",
       "0                5.1               3.5                1.4               0.2   \n",
       "1                4.9               3.0                1.4               0.2   \n",
       "2                4.7               3.2                1.3               0.2   \n",
       "3                4.6               3.1                1.5               0.2   \n",
       "4                5.0               3.6                1.4               0.2   \n",
       "\n",
       "   target  \n",
       "0       0  \n",
       "1       0  \n",
       "2       0  \n",
       "3       0  \n",
       "4       0  "
      ]
     },
     "execution_count": 2,
     "metadata": {},
     "output_type": "execute_result"
    }
   ],
   "source": [
    "import pandas as pd\n",
    "\n",
    "feature_names = iris.feature_names\n",
    "\n",
    "iris_df = pd.DataFrame(\n",
    "    data=iris_feature,\n",
    "    columns=feature_names\n",
    ")\n",
    "\n",
    "iris_df['target'] = iris_target\n",
    "iris_df.head()"
   ]
  },
  {
   "cell_type": "code",
   "execution_count": 3,
   "id": "ae8be2a1-18d6-4678-9c18-1cbeb258b44c",
   "metadata": {},
   "outputs": [
    {
     "data": {
      "text/plain": [
       "0    50\n",
       "1    50\n",
       "2    50\n",
       "Name: target, dtype: int64"
      ]
     },
     "execution_count": 3,
     "metadata": {},
     "output_type": "execute_result"
    }
   ],
   "source": [
    "# 분류 문제에서 가장 중요하게 확인할 내용: 타겟의 갯수 확인 (비율 확인)\n",
    "# + 회귀에서는 분포가 가장 중요하게 확인할 내용\n",
    "\n",
    "\n",
    "iris_df['target'].value_counts()"
   ]
  },
  {
   "cell_type": "markdown",
   "id": "831c916d-56e2-44ba-908a-fa8bf0f5f4b2",
   "metadata": {},
   "source": [
    "# 학습 데이터 / 테스트 데이터 분리"
   ]
  },
  {
   "cell_type": "code",
   "execution_count": 4,
   "id": "64fbaec1-13a8-4f55-9634-80b0c3bdfcb5",
   "metadata": {},
   "outputs": [
    {
     "name": "stdout",
     "output_type": "stream",
     "text": [
      "훈련 데이터의 shape : (120, 4)\n",
      "테스트 데이터의 shape : (30, 4)\n"
     ]
    }
   ],
   "source": [
    "from sklearn.model_selection import train_test_split\n",
    "\n",
    "X_train, X_test, y_train, y_test = train_test_split(\n",
    "    iris_df.drop('target', axis=1), # feature Matrix\n",
    "    iris_df['target'], # Target Vector\n",
    "    test_size = 0.2, # 테스트 세트의 비율. 통상적으로 0.2~0.3\n",
    "    random_state=11 #랜덤 시드 고정값\n",
    "    )\n",
    "\n",
    "print(\"훈련 데이터의 shape : {}\".format(X_train.shape))\n",
    "print(\"테스트 데이터의 shape : {}\".format(X_test.shape))\n",
    "\n",
    "\n",
    "# 이 코드는 scikit-learn의 train_test_split 함수를 사용하여 아이리스 데이터셋을 훈련 세트와 테스트 세트로 분할합니다. \n",
    "# 분할 후, 훈련 데이터와 테스트 데이터의 형태를 출력합니다.\n",
    "\n",
    "# 좀 더 구체적으로 설명드리자면:\n",
    "# train_test_split 함수는 데이터를 훈련 세트와 테스트 세트로 분할합니다.\n",
    "# iris_df.drop('target', axis=1)은 타겟 열을 제외한 특징 데이터를 선택합니다.\n",
    "# iris_df['target']은 타겟 열 데이터를 선택합니다.\n",
    "# test_size=0.2는 데이터의 20%를 테스트 세트로 사용함을 나타냅니다.\n",
    "# random_state=11은 랜덤 시드를 고정하여 결과의 재현성을 보장합니다.\n"
   ]
  },
  {
   "cell_type": "markdown",
   "id": "a3be8a32",
   "metadata": {},
   "source": [
    "# 모델 훈련"
   ]
  },
  {
   "cell_type": "code",
   "execution_count": 5,
   "id": "059e1a7b",
   "metadata": {},
   "outputs": [
    {
     "data": {
      "text/html": [
       "<style>#sk-container-id-1 {color: black;}#sk-container-id-1 pre{padding: 0;}#sk-container-id-1 div.sk-toggleable {background-color: white;}#sk-container-id-1 label.sk-toggleable__label {cursor: pointer;display: block;width: 100%;margin-bottom: 0;padding: 0.3em;box-sizing: border-box;text-align: center;}#sk-container-id-1 label.sk-toggleable__label-arrow:before {content: \"▸\";float: left;margin-right: 0.25em;color: #696969;}#sk-container-id-1 label.sk-toggleable__label-arrow:hover:before {color: black;}#sk-container-id-1 div.sk-estimator:hover label.sk-toggleable__label-arrow:before {color: black;}#sk-container-id-1 div.sk-toggleable__content {max-height: 0;max-width: 0;overflow: hidden;text-align: left;background-color: #f0f8ff;}#sk-container-id-1 div.sk-toggleable__content pre {margin: 0.2em;color: black;border-radius: 0.25em;background-color: #f0f8ff;}#sk-container-id-1 input.sk-toggleable__control:checked~div.sk-toggleable__content {max-height: 200px;max-width: 100%;overflow: auto;}#sk-container-id-1 input.sk-toggleable__control:checked~label.sk-toggleable__label-arrow:before {content: \"▾\";}#sk-container-id-1 div.sk-estimator input.sk-toggleable__control:checked~label.sk-toggleable__label {background-color: #d4ebff;}#sk-container-id-1 div.sk-label input.sk-toggleable__control:checked~label.sk-toggleable__label {background-color: #d4ebff;}#sk-container-id-1 input.sk-hidden--visually {border: 0;clip: rect(1px 1px 1px 1px);clip: rect(1px, 1px, 1px, 1px);height: 1px;margin: -1px;overflow: hidden;padding: 0;position: absolute;width: 1px;}#sk-container-id-1 div.sk-estimator {font-family: monospace;background-color: #f0f8ff;border: 1px dotted black;border-radius: 0.25em;box-sizing: border-box;margin-bottom: 0.5em;}#sk-container-id-1 div.sk-estimator:hover {background-color: #d4ebff;}#sk-container-id-1 div.sk-parallel-item::after {content: \"\";width: 100%;border-bottom: 1px solid gray;flex-grow: 1;}#sk-container-id-1 div.sk-label:hover label.sk-toggleable__label {background-color: #d4ebff;}#sk-container-id-1 div.sk-serial::before {content: \"\";position: absolute;border-left: 1px solid gray;box-sizing: border-box;top: 0;bottom: 0;left: 50%;z-index: 0;}#sk-container-id-1 div.sk-serial {display: flex;flex-direction: column;align-items: center;background-color: white;padding-right: 0.2em;padding-left: 0.2em;position: relative;}#sk-container-id-1 div.sk-item {position: relative;z-index: 1;}#sk-container-id-1 div.sk-parallel {display: flex;align-items: stretch;justify-content: center;background-color: white;position: relative;}#sk-container-id-1 div.sk-item::before, #sk-container-id-1 div.sk-parallel-item::before {content: \"\";position: absolute;border-left: 1px solid gray;box-sizing: border-box;top: 0;bottom: 0;left: 50%;z-index: -1;}#sk-container-id-1 div.sk-parallel-item {display: flex;flex-direction: column;z-index: 1;position: relative;background-color: white;}#sk-container-id-1 div.sk-parallel-item:first-child::after {align-self: flex-end;width: 50%;}#sk-container-id-1 div.sk-parallel-item:last-child::after {align-self: flex-start;width: 50%;}#sk-container-id-1 div.sk-parallel-item:only-child::after {width: 0;}#sk-container-id-1 div.sk-dashed-wrapped {border: 1px dashed gray;margin: 0 0.4em 0.5em 0.4em;box-sizing: border-box;padding-bottom: 0.4em;background-color: white;}#sk-container-id-1 div.sk-label label {font-family: monospace;font-weight: bold;display: inline-block;line-height: 1.2em;}#sk-container-id-1 div.sk-label-container {text-align: center;}#sk-container-id-1 div.sk-container {/* jupyter's `normalize.less` sets `[hidden] { display: none; }` but bootstrap.min.css set `[hidden] { display: none !important; }` so we also need the `!important` here to be able to override the default hidden behavior on the sphinx rendered scikit-learn.org. See: https://github.com/scikit-learn/scikit-learn/issues/21755 */display: inline-block !important;position: relative;}#sk-container-id-1 div.sk-text-repr-fallback {display: none;}</style><div id=\"sk-container-id-1\" class=\"sk-top-container\"><div class=\"sk-text-repr-fallback\"><pre>DecisionTreeClassifier()</pre><b>In a Jupyter environment, please rerun this cell to show the HTML representation or trust the notebook. <br />On GitHub, the HTML representation is unable to render, please try loading this page with nbviewer.org.</b></div><div class=\"sk-container\" hidden><div class=\"sk-item\"><div class=\"sk-estimator sk-toggleable\"><input class=\"sk-toggleable__control sk-hidden--visually\" id=\"sk-estimator-id-1\" type=\"checkbox\" checked><label for=\"sk-estimator-id-1\" class=\"sk-toggleable__label sk-toggleable__label-arrow\">DecisionTreeClassifier</label><div class=\"sk-toggleable__content\"><pre>DecisionTreeClassifier()</pre></div></div></div></div></div>"
      ],
      "text/plain": [
       "DecisionTreeClassifier()"
      ]
     },
     "execution_count": 5,
     "metadata": {},
     "output_type": "execute_result"
    }
   ],
   "source": [
    "# 의사결정나무 분류기 사용\n",
    "from sklearn.tree import DecisionTreeClassifier\n",
    "\n",
    "# 모델 객체 생성 - 모델의 각종 옵션(하이퍼 파라미터)을 설정한다\n",
    "dt_clf = DecisionTreeClassifier()\n",
    "\n",
    "# 모델 훈련 - 훈련이 다 끝나면, 학습된 모델이 Return 된다.\n",
    "dt_clf.fit(X_train, y_train)\n",
    "\n",
    "\n",
    "# 이 코드는 scikit-learn 라이브러리를 사용하여 결정 트리 분류 모델을 생성하고, 이를 학습하는 과정을 포함하고 있습니다.\n",
    "\n",
    "# 좀 더 구체적으로 설명드리자면:\n",
    "# DecisionTreeClassifier 클래스를 사용하여 결정 트리 분류 모델 객체를 생성합니다.\n",
    "# fit 메서드를 사용하여 생성된 결정 트리 모델을 학습 데이터에 맞추어 학습시킵니다.\n"
   ]
  },
  {
   "cell_type": "markdown",
   "id": "a7f69035",
   "metadata": {},
   "source": [
    "# 테스트 데이터 예측 수행"
   ]
  },
  {
   "cell_type": "code",
   "execution_count": 6,
   "id": "b85818b8",
   "metadata": {},
   "outputs": [
    {
     "name": "stdout",
     "output_type": "stream",
     "text": [
      "테스트 세트의 예측 결과 : [2 2 1 1 2 0 1 0 0 1 1 1 1 2 2 0 2 1 2 2 1 0 0 1 0 0 2 1 0 1]\n"
     ]
    }
   ],
   "source": [
    "pred = dt_clf.predict(X_test) \n",
    "# 예측 할 때는 Feature만 넣어주기. 테스트 데이터의 차원 = 훈련 데이터의 차원\n",
    "\n",
    "print(\"테스트 세트의 예측 결과 : {}\".format(pred))\n",
    "\n",
    "# 이 코드는 학습된 결정 트리 모델을 사용하여 테스트 세트에 대한 예측을 수행하고, 그 결과를 출력하는 과정입니다.\n",
    "\n",
    "# 좀 더 구체적으로 설명드리자면:\n",
    "# # dt_clf.predict(X_test): 학습된 결정 트리 모델을 사용하여 X_test 데이터에 대한 예측을 수행합니다. 결과는 테스트 세트에 대한 예측 레이블(타겟)을 담은 배열입니다.\n",
    "# print(f\"테스트 세트의 예측 결과 : {pred}\"): 예측 결과를 출력합니다.\n"
   ]
  },
  {
   "cell_type": "markdown",
   "id": "956f8ba0",
   "metadata": {},
   "source": [
    "# 평가\n",
    "\n",
    "예측 정확도(Accuracy) 평가"
   ]
  },
  {
   "cell_type": "code",
   "execution_count": 7,
   "id": "93a1444c-251e-4d58-be92-1f1b0c6d2545",
   "metadata": {},
   "outputs": [
    {
     "name": "stdout",
     "output_type": "stream",
     "text": [
      "예측 정확도 : 0.9333\n"
     ]
    }
   ],
   "source": [
    "from sklearn.metrics import accuracy_score\n",
    "\n",
    "acc_result = accuracy_score(y_test,pred)\n",
    "print(\"예측 정확도 : {:.4f}\".format(acc_result))\n",
    "\n",
    "# pred = dt_clf.predict(X_test): X_test 데이터에 대해 학습된 결정 트리 모델을 사용하여 예측합니다.\n",
    "\n",
    "# acc_result = accuracy_score(y_test, pred): y_test (실제 레이블)와 pred (예측 레이블)을 비교하여 예측 정확도를 계산합니다.\n",
    "# print(f\"예측 정확도 : {acc_result:.4f}\"): 계산된 예측 정확도를 소수점 네 자리까지 출력합니다.\n"
   ]
  },
  {
   "cell_type": "code",
   "execution_count": null,
   "id": "173283d5",
   "metadata": {},
   "outputs": [],
   "source": []
  }
 ],
 "metadata": {
  "kernelspec": {
   "display_name": "Python 3 (ipykernel)",
   "language": "python",
   "name": "python3"
  },
  "language_info": {
   "codemirror_mode": {
    "name": "ipython",
    "version": 3
   },
   "file_extension": ".py",
   "mimetype": "text/x-python",
   "name": "python",
   "nbconvert_exporter": "python",
   "pygments_lexer": "ipython3",
   "version": "3.8.19"
  }
 },
 "nbformat": 4,
 "nbformat_minor": 5
}
