{
 "cells": [
  {
   "cell_type": "code",
   "execution_count": 3,
   "metadata": {},
   "outputs": [
    {
     "name": "stdout",
     "output_type": "stream",
     "text": [
      "[0 0 0 0 0 0 0 0 0 0 0 0 0 0 0 0 0 0 0 0 0 0 0 0 0 0 0 0 0 0 0 0 0 0 0 0 0\n",
      " 0 0 0 0 0 0 0 0 0 0 0 0 0 1 1 1 1 1 1 1 1 1 1 1 1 1 1 1 1 1 1 1 1 1 1 1 1\n",
      " 1 1 1 1 1 1 1 1 1 1 1 1 1 1 1 1 1 1 1 1 1 1 1 1 1 1 2 2 2 2 2 2 2 2 2 2 2\n",
      " 2 2 2 2 2 2 2 2 2 2 2 2 2 2 2 2 2 2 2 2 2 2 2 2 2 2 2 2 2 2 2 2 2 2 2 2 2\n",
      " 2 2]\n"
     ]
    }
   ],
   "source": [
    "from sklearn.datasets import load_iris\n",
    "\n",
    "iris = load_iris()\n",
    "\n",
    "X = iris.data\n",
    "y = iris.target \n",
    "\n",
    "print(y)"
   ]
  },
  {
   "cell_type": "markdown",
   "metadata": {},
   "source": [
    "# 랜덤성을 부여하지 않고 잘라낸 경우\n",
    "\n",
    "- Suffle을 수행하지 않음"
   ]
  },
  {
   "cell_type": "code",
   "execution_count": 4,
   "metadata": {},
   "outputs": [
    {
     "name": "stdout",
     "output_type": "stream",
     "text": [
      "[0 0 0 0 0 0 0 0 0 0 0 0 0 0 0 0 0 0 0 0 0 0 0 0 0 0 0 0 0 0 0 0 0 0 0 0 0\n",
      " 0 0 0 0 0 0 0 0 0 0 0 0 0]\n"
     ]
    }
   ],
   "source": [
    "test_size = 50\n",
    "\n",
    "# X와 y는 항상 동일한 사이즈로 만들어야 한다\n",
    "X_test = X[: test_size]\n",
    "y_test = y[: test_size] \n",
    "\n",
    "# test 데이터로 0번만 사용하겠다\n",
    "print(y_test)\n",
    "\n",
    "# 해당 코드는 데이터셋의 처음 50개의 데이터 포인트를 테스트 세트로 할당하는 과정입니다. 이는 train_test_split 함수를 사용하지 않고 수동으로 데이터셋을 분할하는 방법 중 하나입니다.\n",
    "\n",
    "# 좀 더 구체적으로 설명드리자면:\n",
    "# test_size = 50: 테스트 세트의 크기를 50으로 설정합니다.\n",
    "# X_test = X[:test_size]: 특징 행렬 X의 처음 50개의 행을 X_test로 할당합니다.\n",
    "# y_test = y[:test_size]: 타겟 벡터 y의 처음 50개의 값을 y_test로 할당합니다.\n",
    "# 이렇게 하면 X_test와 y_test는 처음 50개의 데이터 포인트를 포함하게 됩니다.\n",
    "\n",
    "# 이 방법은 특정 크기의 테스트 세트를 지정하여 데이터를 수동으로 분할할 때 유용합니다. \n",
    "# 그러나 일반적으로는 train_test_split 함수를 사용하여 무작위로 데이터를 섞고 나누는 것이 더 좋습니다. 데이터의 분포를 고려하고, 모델의 성능을 일반화할 수 있기 때문입니다."
   ]
  },
  {
   "cell_type": "code",
   "execution_count": 5,
   "metadata": {},
   "outputs": [
    {
     "name": "stdout",
     "output_type": "stream",
     "text": [
      "[1 1 1 1 1 1 1 1 1 1 1 1 1 1 1 1 1 1 1 1 1 1 1 1 1 1 1 1 1 1 1 1 1 1 1 1 1\n",
      " 1 1 1 1 1 1 1 1 1 1 1 1 1 2 2 2 2 2 2 2 2 2 2 2 2 2 2 2 2 2 2 2 2 2 2 2 2\n",
      " 2 2 2 2 2 2 2 2 2 2 2 2 2 2 2 2 2 2 2 2 2 2 2 2 2 2]\n"
     ]
    }
   ],
   "source": [
    "X_train = X[test_size : ]\n",
    "y_train = y[test_size : ]\n",
    "\n",
    "print(y_train)\n",
    "\n",
    "# X_train = X[test_size :]: 특징 행렬 X의 51번째 데이터 포인트부터 끝까지를 X_train으로 할당합니다.\n",
    "# y_train = y[test_size :]: 타겟 벡터 y의 51번째 데이터 포인트부터 끝까지를 y_train으로 할당합니다.\n",
    "\n",
    "# 즉, 처음 50개의 데이터 포인트는 테스트 세트로, 나머지 데이터 포인트는 학습 세트로 할당됩니다."
   ]
  },
  {
   "cell_type": "code",
   "execution_count": 6,
   "metadata": {},
   "outputs": [
    {
     "name": "stdout",
     "output_type": "stream",
     "text": [
      "예측 스코어 : 0.0000\n"
     ]
    }
   ],
   "source": [
    "from sklearn.tree import DecisionTreeClassifier\n",
    "from sklearn.metrics import accuracy_score\n",
    "\n",
    "# 모델 훈련하는 코드\n",
    "# 평가하기 위한 Accuracy_score\n",
    "\n",
    "dt_clf = DecisionTreeClassifier() # 모델 객체 만들고\n",
    "\n",
    "dt_clf.fit(X_train, y_train) # 훈련하고 (훈련은 0번 class로 하고)\n",
    "\n",
    "pred = dt_clf.predict(X_test) # 예측하고 (예측은 1,2번class로 하니)\n",
    "\n",
    "acc_result = accuracy_score(y_test, pred) # 평가 (평가 점수는 0점): 따라서 데이터를 랜덤하게 섞어준 후 테스트 데이터와 트레이닝 데이터를 만들어야 한다.\n",
    "\n",
    "print(\"예측 스코어 : {:.4f}\".format(acc_result))\n",
    "\n",
    "# 예측 스코어가 0이 나오는 이유는 학습 데이터와 테스트 데이터가 서로 다른 분포를 가지고 있어서 모델이 학습한 내용을 테스트 데이터에 제대로 적용할 수 없기 때문일 가능성이 큽니다. \n",
    "# 특히, 데이터의 분포가 타겟 클래스별로 고르게 분포되지 않았을 가능성이 높습니다.\n",
    "\n",
    "# 아이리스 데이터셋의 타겟 클래스는 0, 1, 2 세 가지 종류로 나뉘어 있으며, 데이터셋이 순차적으로 정렬되어 있을 경우 처음 50개의 데이터 포인트는 모두 동일한 클래스일 가능성이 높습니다.\n",
    "# 이는 모델이 특정 클래스에 대해서만 학습하게 되고, 다른 클래스에 대한 예측을 전혀 할 수 없게 만듭니다.\n",
    "\n",
    "# 나은 방법은 train_test_split 함수를 사용하여 데이터를 무작위로 섞고 학습 및 테스트 세트로 나누는 것입니다. 이렇게 하면 데이터의 분포가 더 고르게 분할됩니다.\n",
    "# train_test_split 함수는 데이터를 무작위로 섞어서 분할하기 때문에 학습 데이터와 테스트 데이터의 분포가 더 균일해집니다.\n",
    "\n",
    "# 훈련 : dl_clf.fit(X_train, y_train)\n",
    "# 시험 : pred = dl_clf.predict(X_test) = 정답 마킹\n",
    "# 시험 점수 결과 확인 : acc_result = accuracy_score(y_test, pred)"
   ]
  },
  {
   "cell_type": "markdown",
   "metadata": {},
   "source": [
    "# train_test_split 활용하기"
   ]
  },
  {
   "cell_type": "code",
   "execution_count": 7,
   "metadata": {},
   "outputs": [],
   "source": [
    "from sklearn.model_selection import train_test_split\n",
    "\n",
    "# 데이터를 무작위로 섞어서 분할\n",
    "X_train, X_test, y_train, y_test = train_test_split(\n",
    "    X, # 특징 행렬\n",
    "    y, # 타겟 벡터\n",
    "    test_size=0.3, # 테스트 세트 비율 (30%)\n",
    "    random_state=121 # 랜덤 시드\n",
    ")\n",
    "\n",
    "\n",
    "# 이 코드는 train_test_split 함수를 사용하여 아이리스 데이터셋을 학습 세트와 테스트 세트로 분할합니다. \n",
    "\n",
    "\n",
    "# X_train, X_test, y_train, y_test = train_test_split(...):\n",
    "# train_test_split 함수를 사용하여 특징 행렬 X와 타겟 벡터 y를 학습 세트(X_train, y_train)와 테스트 세트(X_test, y_test)로 분할합니다.\n",
    "\n",
    "# X, y:\n",
    "# X는 특징 행렬(데이터 포인트의 입력 값)입니다.\n",
    "# y는 타겟 벡터(데이터 포인트의 출력 값 또는 라벨)입니다.\n",
    "\n",
    "# test_size = 0.3:\n",
    "# 테스트 세트의 비율을 전체 데이터의 30%로 설정합니다. 즉, 데이터의 30%는 테스트용으로, 나머지 70%는 학습용으로 사용됩니다.\n",
    "\n",
    "# random_state = 121:\n",
    "# 랜덤 시드를 121로 설정하여 데이터를 무작위로 섞은 후 분할합니다. 동일한 랜덤 시드를 사용하면, 같은 분할 결과를 얻을 수 있어 결과의 재현성을 보장합니다.\n",
    "# random_state에 설정된 121은 난수 생성기의 초기값을 설정하기 위한 숫자일 뿐 특별한 의미는 없습니다. \n"
   ]
  },
  {
   "cell_type": "code",
   "execution_count": 8,
   "metadata": {},
   "outputs": [],
   "source": [
    "import matplotlib.pyplot as plt\n",
    "import seaborn as sns\n",
    "\n",
    "# 랜덤하게 잘랐기 때문에 y_train이 잘 분포해있는지 확인하기 위한 시각화\n",
    "\n",
    "sns.set_theme()\n",
    "\n",
    "# sns.set_theme():\n",
    "# seaborn의 테마를 설정하여 그래프의 스타일을 지정합니다. 기본 테마는 깔끔한 스타일을 제공하며, 추가적인 설정 없이도 보기 좋은 그래프를 그릴 수 있습니다."
   ]
  },
  {
   "cell_type": "code",
   "execution_count": 9,
   "metadata": {},
   "outputs": [
    {
     "data": {
      "image/png": "[encoded data removed]",
      "text/plain": [
       "<Figure size 640x480 with 1 Axes>"
      ]
     },
     "metadata": {},
     "output_type": "display_data"
    }
   ],
   "source": [
    "sns.countplot(x = y_train)\n",
    "plt.show()\n",
    "\n",
    "# sns.countplot(x=y_train):\n",
    "# countplot 함수는 주어진 데이터의 각 고유 값의 개수를 세고, 이를 막대 그래프로 표시합니다. y_train의 각 클래스가 학습 세트에 얼마나 많이 있는지를 시각화합니다."
   ]
  },
  {
   "cell_type": "markdown",
   "metadata": {},
   "source": [
    "## stratify 옵션 활용하기"
   ]
  },
  {
   "cell_type": "code",
   "execution_count": 10,
   "metadata": {},
   "outputs": [],
   "source": [
    "from sklearn.model_selection import train_test_split\n",
    "\n",
    "X_train, X_test, y_train, y_test = train_test_split(\n",
    "    X, #feature\n",
    "    y, #target\n",
    "    test_size = 0.3,\n",
    "    random_state = 121,\n",
    "    stratify=y \n",
    ")\n",
    "\n",
    "# stratify: 정수,문자열 데이터만(카테고리 형식의 데이터만) 지정이 가능. 데이터의 절대적인 비율을 확인해줌. \n",
    "# stratify=y: 타겟 벡터 y를 기준으로 계층화 분할을 수행하여 각 클래스의 비율이 원본 데이터와 동일하게 유지되도록 합니다."
   ]
  },
  {
   "cell_type": "code",
   "execution_count": 11,
   "metadata": {},
   "outputs": [
    {
     "data": {
      "text/plain": [
       "<function matplotlib.pyplot.show(close=None, block=None)>"
      ]
     },
     "execution_count": 11,
     "metadata": {},
     "output_type": "execute_result"
    },
    {
     "data": {
      "image/png": "[encoded data removed]",
      "text/plain": [
       "<Figure size 640x480 with 1 Axes>"
      ]
     },
     "metadata": {},
     "output_type": "display_data"
    }
   ],
   "source": [
    "sns.countplot(x = y_train)\n",
    "plt.show"
   ]
  },
  {
   "cell_type": "markdown",
   "metadata": {},
   "source": [
    "# K-Fold, Stratified K-Fold"
   ]
  },
  {
   "cell_type": "code",
   "execution_count": 12,
   "metadata": {},
   "outputs": [],
   "source": [
    "# K-Fold\n",
    "from sklearn.model_selection import KFold\n",
    "import numpy as np"
   ]
  },
  {
   "cell_type": "code",
   "execution_count": 13,
   "metadata": {},
   "outputs": [
    {
     "name": "stdout",
     "output_type": "stream",
     "text": [
      "검증 세트의 인덱스 : [ 0  1  2  3  4  5  6  7  8  9 10 11 12 13 14 15 16 17 18 19 20 21 22 23\n",
      " 24 25 26 27 28 29 30 31 32 33 34 35 36 37 38 39 40 41 42 43 44 45 46 47\n",
      " 48 49]\n",
      "훈련 세트의 인덱스 : [ 50  51  52  53  54  55  56  57  58  59  60  61  62  63  64  65  66  67\n",
      "  68  69  70  71  72  73  74  75  76  77  78  79  80  81  82  83  84  85\n",
      "  86  87  88  89  90  91  92  93  94  95  96  97  98  99 100 101 102 103\n",
      " 104 105 106 107 108 109 110 111 112 113 114 115 116 117 118 119 120 121\n",
      " 122 123 124 125 126 127 128 129 130 131 132 133 134 135 136 137 138 139\n",
      " 140 141 142 143 144 145 146 147 148 149]\n",
      "\n",
      "\n",
      "\n",
      "검증 세트의 인덱스 : [50 51 52 53 54 55 56 57 58 59 60 61 62 63 64 65 66 67 68 69 70 71 72 73\n",
      " 74 75 76 77 78 79 80 81 82 83 84 85 86 87 88 89 90 91 92 93 94 95 96 97\n",
      " 98 99]\n",
      "훈련 세트의 인덱스 : [  0   1   2   3   4   5   6   7   8   9  10  11  12  13  14  15  16  17\n",
      "  18  19  20  21  22  23  24  25  26  27  28  29  30  31  32  33  34  35\n",
      "  36  37  38  39  40  41  42  43  44  45  46  47  48  49 100 101 102 103\n",
      " 104 105 106 107 108 109 110 111 112 113 114 115 116 117 118 119 120 121\n",
      " 122 123 124 125 126 127 128 129 130 131 132 133 134 135 136 137 138 139\n",
      " 140 141 142 143 144 145 146 147 148 149]\n",
      "\n",
      "\n",
      "\n",
      "검증 세트의 인덱스 : [100 101 102 103 104 105 106 107 108 109 110 111 112 113 114 115 116 117\n",
      " 118 119 120 121 122 123 124 125 126 127 128 129 130 131 132 133 134 135\n",
      " 136 137 138 139 140 141 142 143 144 145 146 147 148 149]\n",
      "훈련 세트의 인덱스 : [ 0  1  2  3  4  5  6  7  8  9 10 11 12 13 14 15 16 17 18 19 20 21 22 23\n",
      " 24 25 26 27 28 29 30 31 32 33 34 35 36 37 38 39 40 41 42 43 44 45 46 47\n",
      " 48 49 50 51 52 53 54 55 56 57 58 59 60 61 62 63 64 65 66 67 68 69 70 71\n",
      " 72 73 74 75 76 77 78 79 80 81 82 83 84 85 86 87 88 89 90 91 92 93 94 95\n",
      " 96 97 98 99]\n",
      "\n",
      "\n",
      "\n"
     ]
    }
   ],
   "source": [
    "# 3개의 폴드 세트로 분리하는 KFold 객체 생성\n",
    "kfold = KFold(n_splits=3)\n",
    "\n",
    "# n_splits=3은 데이터를 3개의 폴드로 나누겠다는 의미입니다.\n",
    "\n",
    "# KFold 객체의 split() 함수를 호출하면 폴드 별 학습용, 검증용 테스트의 인덱스를 array로 반환\n",
    "for train_indices, valid_indices in kfold.split(X):\n",
    "    print(\"검증 세트의 인덱스 : {}\".format(valid_indices))\n",
    "    print(\"훈련 세트의 인덱스 : {}\".format(train_indices))\n",
    "    print(\"\\n\\n\")\n",
    "\n",
    "# kfold.split(X):\n",
    "# X 데이터셋을 3개의 폴드로 분할합니다. 각 분할마다 학습 세트와 검증 세트의 인덱스를 생성합니다\n",
    "\n"
   ]
  },
  {
   "cell_type": "markdown",
   "metadata": {},
   "source": [
    "# 교차 검증 수행\n",
    "- 각 폴드 마다의 훈련 세트를 위한 인덱스를 활용해 훈련 데이터로 사용\n",
    "- 검증 세트를 위한 인덱스를 활용해 검증 데이터로 사용\n",
    "- 각 훈련, 검증의 결과를 저장했다가, 최종적으로 훈련이 끝나면 평균"
   ]
  },
  {
   "cell_type": "code",
   "execution_count": 31,
   "metadata": {},
   "outputs": [
    {
     "name": "stdout",
     "output_type": "stream",
     "text": [
      "1 번째 폴드에 대한 평가 결과 : 0.0000\n",
      "2 번째 폴드에 대한 평가 결과 : 0.0000\n",
      "3 번째 폴드에 대한 평가 결과 : 0.0000\n",
      "\n",
      "최종 결과 : 0.0\n"
     ]
    }
   ],
   "source": [
    "n_iter = 0\n",
    "cv_accuracy = [] # 각 폴드에서의 정확도를 담을 배열\n",
    "\n",
    "# n_iter: 폴드 번호를 저장하는 변수입니다.\n",
    "# cv_accuracy: 각 폴드의 정확도를 저장하는 리스트입니다.\n",
    "\n",
    "\n",
    "kfold = KFold(n_splits=3)\n",
    "\n",
    "# 데이터를 3개의 폴드로 나누는 KFold 객체를 생성합니다.\n",
    "\n",
    "for train_indices, valid_indices in kfold.split(X):\n",
    "\n",
    "# kfold.split(X)를 사용하여 데이터셋을 3개의 폴드로 나눕니다.\n",
    "# 각 반복에서 학습 세트와 검증 세트의 인덱스를 가져옵니다.\n",
    "    \n",
    "    # 반환된 인덱스를 이용해 학습용, 검증용 데이터를 추출\n",
    "    X_train, X_valid = X[train_indices], X[valid_indices]\n",
    "    y_train, y_valid = y[train_indices], y[valid_indices]\n",
    "    # 인덱스를 사용하여 학습 세트와 검증 세트를 나눕니다.\n",
    "\n",
    "    # 모델 생성 및 훈련\n",
    "    dt_clf = DecisionTreeClassifier().fit(X_train, y_train) # 모델 객체 생성과 동시에 훈련\n",
    "    #학습 세트를 사용하여 결정 트리 모델을 학습시킵니다.\n",
    "\n",
    "    # 예측\n",
    "    pred = dt_clf.predict(X_valid)\n",
    "    # 평가\n",
    "    acc = accuracy_score(y_valid, pred)\n",
    "    # # 검증 세트에 대해 예측을 수행하고, 정확도를 계산합니다.\n",
    "\n",
    "    # 해당 폴드의 평가 결과를 배열에 저장\n",
    "    cv_accuracy.append(acc)\n",
    "    # 검증 세트에 대해 예측을 수행하고, 정확도를 계산합니다.\n",
    "\n",
    "    n_iter += 1\n",
    "    print(\"{} 번째 폴드에 대한 평가 결과 : {:.4f}\".format(n_iter, acc))\n",
    "    # 폴드별 정확도를 리스트에 저장했으니, 폴드 번호를 증가시킵니다.\n",
    "    # 각 폴드의 정확도를 출력합니다.\n",
    "\n",
    "print()\n",
    "print(\"최종 결과 : {}\".format(np.mean(cv_accuracy)))\n",
    "\n",
    "\n",
    "# 모든 폴드에 대한 정확도가 0.0000으로 나오는 이유는 데이터셋이 타겟 레이블별로 정렬되어 있기 때문입니다. \n",
    "# 아이리스 데이터셋은 타겟 레이블별로 정렬되어 있어, KFold를 사용하여 분할할 때, 각 폴드가 특정 클래스의 데이터만 포함하게 됩니다. \n",
    "# 이는 모델이 각 폴드에서 모든 클래스에 대해 학습하지 못하게 하여, 검증 세트에서 올바른 예측을 할 수 없게 만듭니다.\n",
    "\n",
    "# 아이리스 데이터셋의 타겟 레이블이 어떻게 분포되어 있는지 확인해보면 더 이해가 쉬울 것입니다. \n",
    "# 아이리스 데이터셋의 타겟 레이블은 0, 1, 2 세 가지로, 각 클래스가 50개씩 정렬되어 있습니다.\n",
    "\n",
    "# 해결 방법:\n",
    "# 이를 해결하기 위해 StratifiedKFold를 사용해야 합니다. \n",
    "# StratifiedKFold는 각 폴드가 원본 데이터셋의 클래스 비율을 유지하도록 분할합니다. \n",
    "# 이를 통해 각 폴드가 모든 클래스를 포함하게 되어, 모델이 모든 클래스를 학습할 수 있게 됩니다."
   ]
  },
  {
   "cell_type": "code",
   "execution_count": 15,
   "metadata": {},
   "outputs": [
    {
     "name": "stdout",
     "output_type": "stream",
     "text": [
      "검증 세트의 인덱스 : [  0   1   2   3   4   5   6   7   8   9  10  11  12  13  14  15  16  50\n",
      "  51  52  53  54  55  56  57  58  59  60  61  62  63  64  65  66 100 101\n",
      " 102 103 104 105 106 107 108 109 110 111 112 113 114 115]\n",
      "\n",
      "클래스 0 : 17개 / 클래스 1 : 17개 / 클래스 2 : 16개\n",
      "==================================================\n",
      "\n",
      "검증 세트의 인덱스 : [ 17  18  19  20  21  22  23  24  25  26  27  28  29  30  31  32  33  67\n",
      "  68  69  70  71  72  73  74  75  76  77  78  79  80  81  82 116 117 118\n",
      " 119 120 121 122 123 124 125 126 127 128 129 130 131 132]\n",
      "\n",
      "클래스 0 : 17개 / 클래스 1 : 16개 / 클래스 2 : 17개\n",
      "==================================================\n",
      "\n",
      "검증 세트의 인덱스 : [ 34  35  36  37  38  39  40  41  42  43  44  45  46  47  48  49  83  84\n",
      "  85  86  87  88  89  90  91  92  93  94  95  96  97  98  99 133 134 135\n",
      " 136 137 138 139 140 141 142 143 144 145 146 147 148 149]\n",
      "\n",
      "클래스 0 : 16개 / 클래스 1 : 17개 / 클래스 2 : 17개\n",
      "==================================================\n",
      "\n"
     ]
    }
   ],
   "source": [
    "# Stratified K Fold\n",
    "from sklearn.model_selection import StratifiedKFold\n",
    "# StratifiedKFold는 데이터를 폴드로 나눌 때 각 폴드가 동일한 클래스 비율을 가지도록 해주는 교차 검증 기법입니다.\n",
    "\n",
    "skfold = StratifiedKFold(n_splits=3)\n",
    "# StratifiedKFold 객체를 생성합니다. n_splits=3은 데이터를 3개의 폴드로 나누겠다는 의미입니다. 각 폴드가 동일한 클래스 비율을 가지게 됩니다.\n",
    "\n",
    "for train_indices, valid_indices in skfold.split(X, y):\n",
    "    print(\"검증 세트의 인덱스 : {}\".format(valid_indices))\n",
    "    print()\n",
    "\n",
    "    class_, counts = np.unique(y[valid_indices], return_counts=True)\n",
    "    classes = dict(zip(class_, counts))\n",
    "    print(\"클래스 0 : {}개 / 클래스 1 : {}개 / 클래스 2 : {}개\".format(classes[0], classes[1], classes[2]))\n",
    "    print(\"=\"*50)\n",
    "    print()"
   ]
  },
  {
   "cell_type": "code",
   "execution_count": 16,
   "metadata": {},
   "outputs": [
    {
     "name": "stdout",
     "output_type": "stream",
     "text": [
      "1 번째 폴드에 대한 평가 결과 : 0.9800\n",
      "2 번째 폴드에 대한 평가 결과 : 0.9200\n",
      "3 번째 폴드에 대한 평가 결과 : 0.9800\n",
      "\n",
      "최종 결과 : 0.96\n"
     ]
    }
   ],
   "source": [
    "n_iter = 0\n",
    "cv_accuracy = [] # 각 폴드에서의 정확도를 담을 배열\n",
    "\n",
    "skfold = StratifiedKFold(n_splits=3)\n",
    "\n",
    "for train_indices, valid_indices in skfold.split(X, y):\n",
    "\n",
    "    # 반환된 인덱스를 이용해 학습용, 검증용 데이터를 추출\n",
    "    X_train, X_valid = X[train_indices], X[valid_indices]\n",
    "    y_train, y_valid = y[train_indices], y[valid_indices]\n",
    "\n",
    "    # 모델 생성 및 훈련\n",
    "    dt_clf = DecisionTreeClassifier().fit(X_train, y_train) # 모델 객체 생성과 동시에 훈련\n",
    "\n",
    "    # 예측\n",
    "    pred = dt_clf.predict(X_valid)\n",
    "\n",
    "    # 평가\n",
    "    acc = accuracy_score(y_valid, pred)\n",
    "\n",
    "    # 해당 폴드의 평가 결과를 배열에 저장\n",
    "    cv_accuracy.append(acc)\n",
    "\n",
    "    n_iter += 1\n",
    "    print(\"{} 번째 폴드에 대한 평가 결과 : {:.4f}\".format(n_iter, acc))\n",
    "\n",
    "print()\n",
    "print(\"최종 결과 : {}\".format(np.mean(cv_accuracy)))"
   ]
  },
  {
   "cell_type": "markdown",
   "metadata": {},
   "source": [
    "- 회귀 모델의 경우 : KFold 사용해서 교차검증\n",
    "- 분류 모델의 경우 : Stratified K Fold를 사용해서 교차검증"
   ]
  },
  {
   "cell_type": "markdown",
   "metadata": {},
   "source": [
    "# cross_val_score"
   ]
  },
  {
   "cell_type": "code",
   "execution_count": 17,
   "metadata": {},
   "outputs": [
    {
     "name": "stdout",
     "output_type": "stream",
     "text": [
      "폴드 별 정확도 확인 : [0.98 0.92 0.98]\n",
      "평균 정확도 확인 : 0.96\n"
     ]
    }
   ],
   "source": [
    "from sklearn.model_selection import cross_val_score\n",
    "\n",
    "scores = cross_val_score(\n",
    "    DecisionTreeClassifier(), # Classifier가 들어가면 자동으로 Stratifed KFold를 사용.\n",
    "    X,\n",
    "    y,\n",
    "    scoring='accuracy', # 성능 측정 방식. 여기서는 정확도를 사용\n",
    "    cv=3 # 폴드의 개수\n",
    ")\n",
    "\n",
    "print(\"폴드 별 정확도 확인 : {}\".format(scores))\n",
    "print(\"평균 정확도 확인 : {}\".format(np.mean(scores)))"
   ]
  },
  {
   "cell_type": "markdown",
   "metadata": {},
   "source": [
    "# GridSearch CV"
   ]
  },
  {
   "cell_type": "code",
   "execution_count": 18,
   "metadata": {},
   "outputs": [],
   "source": [
    "# 하이퍼 파라미터 튜닝에서는 다양한 하이퍼 파라미터 조합을 통해 최적의 조합을 찾는 것이 목표입니다. 이 과정에서 각 조합은 독립적인 모델을 생성하고 평가됩니다.\n",
    "\n",
    "# 모델에 사용할 하이퍼 파라미터 딕셔너리\n",
    "parameters = {\n",
    "    \"max_depth\": [1, 2, 3],\n",
    "    \"min_samples_split\": [2, 3]\n",
    "}"
   ]
  },
  {
   "cell_type": "code",
   "execution_count": 19,
   "metadata": {},
   "outputs": [],
   "source": [
    "from sklearn.model_selection import GridSearchCV\n",
    "\n",
    "grid_dt_clf = GridSearchCV(\n",
    "    DecisionTreeClassifier(),\n",
    "    param_grid=parameters,\n",
    "    return_train_score = True,\n",
    "    cv = 3, #각 하이퍼 파라미터의 조합으로 만드는 모델에서 사용할 폴드의 개수 (총 18개)\n",
    "    n_jobs = -1 # 사용 가능한 CPU 코어 갯수 지정: -1이면 모든 CPU 사용\n",
    ")"
   ]
  },
  {
   "cell_type": "code",
   "execution_count": 20,
   "metadata": {},
   "outputs": [],
   "source": [
    "X_train, X_test, y_train, y_test = train_test_split(\n",
    "    X, y,\n",
    "    test_size=0.2,\n",
    "    stratify=y,\n",
    "    random_state=121\n",
    ")"
   ]
  },
  {
   "cell_type": "code",
   "execution_count": 21,
   "metadata": {},
   "outputs": [
    {
     "data": {
      "text/plain": [
       "GridSearchCV(cv=3, estimator=DecisionTreeClassifier(), n_jobs=-1,\n",
       "             param_grid={'max_depth': [1, 2, 3], 'min_samples_split': [2, 3]},\n",
       "             return_train_score=True)"
      ]
     },
     "execution_count": 21,
     "metadata": {},
     "output_type": "execute_result"
    }
   ],
   "source": [
    "grid_dt_clf.fit(X_train, y_train)"
   ]
  },
  {
   "cell_type": "code",
   "execution_count": 22,
   "metadata": {},
   "outputs": [
    {
     "data": {
      "text/html": [
       "<div>\n",
       "<style scoped>\n",
       "    .dataframe tbody tr th:only-of-type {\n",
       "        vertical-align: middle;\n",
       "    }\n",
       "\n",
       "    .dataframe tbody tr th {\n",
       "        vertical-align: top;\n",
       "    }\n",
       "\n",
       "    .dataframe thead th {\n",
       "        text-align: right;\n",
       "    }\n",
       "</style>\n",
       "<table border=\"1\" class=\"dataframe\">\n",
       "  <thead>\n",
       "    <tr style=\"text-align: right;\">\n",
       "      <th></th>\n",
       "      <th>mean_fit_time</th>\n",
       "      <th>std_fit_time</th>\n",
       "      <th>mean_score_time</th>\n",
       "      <th>std_score_time</th>\n",
       "      <th>param_max_depth</th>\n",
       "      <th>param_min_samples_split</th>\n",
       "      <th>params</th>\n",
       "      <th>split0_test_score</th>\n",
       "      <th>split1_test_score</th>\n",
       "      <th>split2_test_score</th>\n",
       "      <th>mean_test_score</th>\n",
       "      <th>std_test_score</th>\n",
       "      <th>rank_test_score</th>\n",
       "      <th>split0_train_score</th>\n",
       "      <th>split1_train_score</th>\n",
       "      <th>split2_train_score</th>\n",
       "      <th>mean_train_score</th>\n",
       "      <th>std_train_score</th>\n",
       "    </tr>\n",
       "  </thead>\n",
       "  <tbody>\n",
       "    <tr>\n",
       "      <th>0</th>\n",
       "      <td>0.000393</td>\n",
       "      <td>0.000051</td>\n",
       "      <td>0.000158</td>\n",
       "      <td>0.000024</td>\n",
       "      <td>1</td>\n",
       "      <td>2</td>\n",
       "      <td>{'max_depth': 1, 'min_samples_split': 2}</td>\n",
       "      <td>0.650</td>\n",
       "      <td>0.675</td>\n",
       "      <td>0.65</td>\n",
       "      <td>0.658333</td>\n",
       "      <td>0.011785</td>\n",
       "      <td>5</td>\n",
       "      <td>0.6750</td>\n",
       "      <td>0.6625</td>\n",
       "      <td>0.6750</td>\n",
       "      <td>0.670833</td>\n",
       "      <td>0.005893</td>\n",
       "    </tr>\n",
       "    <tr>\n",
       "      <th>1</th>\n",
       "      <td>0.000318</td>\n",
       "      <td>0.000013</td>\n",
       "      <td>0.000123</td>\n",
       "      <td>0.000002</td>\n",
       "      <td>1</td>\n",
       "      <td>3</td>\n",
       "      <td>{'max_depth': 1, 'min_samples_split': 3}</td>\n",
       "      <td>0.650</td>\n",
       "      <td>0.675</td>\n",
       "      <td>0.65</td>\n",
       "      <td>0.658333</td>\n",
       "      <td>0.011785</td>\n",
       "      <td>5</td>\n",
       "      <td>0.6750</td>\n",
       "      <td>0.6625</td>\n",
       "      <td>0.6750</td>\n",
       "      <td>0.670833</td>\n",
       "      <td>0.005893</td>\n",
       "    </tr>\n",
       "    <tr>\n",
       "      <th>2</th>\n",
       "      <td>0.000320</td>\n",
       "      <td>0.000012</td>\n",
       "      <td>0.000117</td>\n",
       "      <td>0.000005</td>\n",
       "      <td>2</td>\n",
       "      <td>2</td>\n",
       "      <td>{'max_depth': 2, 'min_samples_split': 2}</td>\n",
       "      <td>0.975</td>\n",
       "      <td>0.950</td>\n",
       "      <td>0.85</td>\n",
       "      <td>0.925000</td>\n",
       "      <td>0.054006</td>\n",
       "      <td>3</td>\n",
       "      <td>0.9500</td>\n",
       "      <td>0.9625</td>\n",
       "      <td>0.9875</td>\n",
       "      <td>0.966667</td>\n",
       "      <td>0.015590</td>\n",
       "    </tr>\n",
       "    <tr>\n",
       "      <th>3</th>\n",
       "      <td>0.000256</td>\n",
       "      <td>0.000064</td>\n",
       "      <td>0.000105</td>\n",
       "      <td>0.000025</td>\n",
       "      <td>2</td>\n",
       "      <td>3</td>\n",
       "      <td>{'max_depth': 2, 'min_samples_split': 3}</td>\n",
       "      <td>0.975</td>\n",
       "      <td>0.950</td>\n",
       "      <td>0.85</td>\n",
       "      <td>0.925000</td>\n",
       "      <td>0.054006</td>\n",
       "      <td>3</td>\n",
       "      <td>0.9500</td>\n",
       "      <td>0.9625</td>\n",
       "      <td>0.9875</td>\n",
       "      <td>0.966667</td>\n",
       "      <td>0.015590</td>\n",
       "    </tr>\n",
       "    <tr>\n",
       "      <th>4</th>\n",
       "      <td>0.000899</td>\n",
       "      <td>0.000793</td>\n",
       "      <td>0.000185</td>\n",
       "      <td>0.000083</td>\n",
       "      <td>3</td>\n",
       "      <td>2</td>\n",
       "      <td>{'max_depth': 3, 'min_samples_split': 2}</td>\n",
       "      <td>1.000</td>\n",
       "      <td>0.950</td>\n",
       "      <td>0.85</td>\n",
       "      <td>0.933333</td>\n",
       "      <td>0.062361</td>\n",
       "      <td>1</td>\n",
       "      <td>0.9625</td>\n",
       "      <td>0.9875</td>\n",
       "      <td>0.9875</td>\n",
       "      <td>0.979167</td>\n",
       "      <td>0.011785</td>\n",
       "    </tr>\n",
       "    <tr>\n",
       "      <th>5</th>\n",
       "      <td>0.000216</td>\n",
       "      <td>0.000053</td>\n",
       "      <td>0.000084</td>\n",
       "      <td>0.000012</td>\n",
       "      <td>3</td>\n",
       "      <td>3</td>\n",
       "      <td>{'max_depth': 3, 'min_samples_split': 3}</td>\n",
       "      <td>1.000</td>\n",
       "      <td>0.950</td>\n",
       "      <td>0.85</td>\n",
       "      <td>0.933333</td>\n",
       "      <td>0.062361</td>\n",
       "      <td>1</td>\n",
       "      <td>0.9625</td>\n",
       "      <td>0.9875</td>\n",
       "      <td>0.9875</td>\n",
       "      <td>0.979167</td>\n",
       "      <td>0.011785</td>\n",
       "    </tr>\n",
       "  </tbody>\n",
       "</table>\n",
       "</div>"
      ],
      "text/plain": [
       "   mean_fit_time  std_fit_time  mean_score_time  std_score_time  \\\n",
       "0       0.000393      0.000051         0.000158        0.000024   \n",
       "1       0.000318      0.000013         0.000123        0.000002   \n",
       "2       0.000320      0.000012         0.000117        0.000005   \n",
       "3       0.000256      0.000064         0.000105        0.000025   \n",
       "4       0.000899      0.000793         0.000185        0.000083   \n",
       "5       0.000216      0.000053         0.000084        0.000012   \n",
       "\n",
       "  param_max_depth param_min_samples_split  \\\n",
       "0               1                       2   \n",
       "1               1                       3   \n",
       "2               2                       2   \n",
       "3               2                       3   \n",
       "4               3                       2   \n",
       "5               3                       3   \n",
       "\n",
       "                                     params  split0_test_score  \\\n",
       "0  {'max_depth': 1, 'min_samples_split': 2}              0.650   \n",
       "1  {'max_depth': 1, 'min_samples_split': 3}              0.650   \n",
       "2  {'max_depth': 2, 'min_samples_split': 2}              0.975   \n",
       "3  {'max_depth': 2, 'min_samples_split': 3}              0.975   \n",
       "4  {'max_depth': 3, 'min_samples_split': 2}              1.000   \n",
       "5  {'max_depth': 3, 'min_samples_split': 3}              1.000   \n",
       "\n",
       "   split1_test_score  split2_test_score  mean_test_score  std_test_score  \\\n",
       "0              0.675               0.65         0.658333        0.011785   \n",
       "1              0.675               0.65         0.658333        0.011785   \n",
       "2              0.950               0.85         0.925000        0.054006   \n",
       "3              0.950               0.85         0.925000        0.054006   \n",
       "4              0.950               0.85         0.933333        0.062361   \n",
       "5              0.950               0.85         0.933333        0.062361   \n",
       "\n",
       "   rank_test_score  split0_train_score  split1_train_score  \\\n",
       "0                5              0.6750              0.6625   \n",
       "1                5              0.6750              0.6625   \n",
       "2                3              0.9500              0.9625   \n",
       "3                3              0.9500              0.9625   \n",
       "4                1              0.9625              0.9875   \n",
       "5                1              0.9625              0.9875   \n",
       "\n",
       "   split2_train_score  mean_train_score  std_train_score  \n",
       "0              0.6750          0.670833         0.005893  \n",
       "1              0.6750          0.670833         0.005893  \n",
       "2              0.9875          0.966667         0.015590  \n",
       "3              0.9875          0.966667         0.015590  \n",
       "4              0.9875          0.979167         0.011785  \n",
       "5              0.9875          0.979167         0.011785  "
      ]
     },
     "execution_count": 22,
     "metadata": {},
     "output_type": "execute_result"
    }
   ],
   "source": [
    "# GridSearch 결과는 cv_results_ 변수에 들어있다.\n",
    "\n",
    "import pandas as pd\n",
    "\n",
    "pd.DataFrame(grid_dt_clf.cv_results_)"
   ]
  },
  {
   "cell_type": "code",
   "execution_count": 23,
   "metadata": {},
   "outputs": [
    {
     "name": "stdout",
     "output_type": "stream",
     "text": [
      "GridSearchCV 최적 하이퍼 파라미터 : {'max_depth': 3, 'min_samples_split': 2}\n",
      "GridSearchCV 최고 정확도 : 0.9333\n"
     ]
    }
   ],
   "source": [
    "print(\"GridSearchCV 최적 하이퍼 파라미터 : {}\".format(grid_dt_clf.best_params_))\n",
    "print(\"GridSearchCV 최고 정확도 : {:.4f}\".format(grid_dt_clf.best_score_)) # valid 세트에서의 최고 정확도"
   ]
  },
  {
   "cell_type": "code",
   "execution_count": 24,
   "metadata": {},
   "outputs": [
    {
     "name": "stdout",
     "output_type": "stream",
     "text": [
      "테스트 세트의 정확도 : 0.9667\n"
     ]
    }
   ],
   "source": [
    "# 최고의 결과를 냈었던 추정기(Estimator)로 예측\n",
    "pred = grid_dt_clf.predict(X_test)\n",
    "\n",
    "print(\"테스트 세트의 정확도 : {:.4f}\".format(accuracy_score(y_test, pred)))"
   ]
  },
  {
   "cell_type": "code",
   "execution_count": 25,
   "metadata": {},
   "outputs": [
    {
     "data": {
      "text/plain": [
       "DecisionTreeClassifier(max_depth=3)"
      ]
     },
     "execution_count": 25,
     "metadata": {},
     "output_type": "execute_result"
    }
   ],
   "source": [
    "# 학습이 완료된 최고 성능의 모델 객체 얻어내기\n",
    "best_dt_clf = grid_dt_clf.best_estimator_\n",
    "best_dt_clf"
   ]
  },
  {
   "cell_type": "code",
   "execution_count": 26,
   "metadata": {},
   "outputs": [],
   "source": [
    "# 최고의 결과를 냈었던 추정기(Estimator)로 예측\n",
    "pred = best_dt_clf.predict(X_test)\n"
   ]
  }
 ],
 "metadata": {
  "kernelspec": {
   "display_name": "ml-env",
   "language": "python",
   "name": "python3"
  },
  "language_info": {
   "codemirror_mode": {
    "name": "ipython",
    "version": 3
   },
   "file_extension": ".py",
   "mimetype": "text/x-python",
   "name": "python",
   "nbconvert_exporter": "python",
   "pygments_lexer": "ipython3",
   "version": "3.8.19"
  }
 },
 "nbformat": 4,
 "nbformat_minor": 2
}
