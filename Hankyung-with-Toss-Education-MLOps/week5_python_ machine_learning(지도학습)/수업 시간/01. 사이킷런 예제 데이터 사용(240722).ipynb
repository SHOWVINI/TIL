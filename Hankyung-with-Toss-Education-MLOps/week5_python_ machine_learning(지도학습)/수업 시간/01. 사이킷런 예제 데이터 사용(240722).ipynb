{
 "cells": [
  {
   "cell_type": "markdown",
   "id": "2918f0a1",
   "metadata": {},
   "source": [
    "\n",
    "scikit-learn (일반적으로 sklearn으로 불림)은 파이썬에서 가장 널리 사용되는 머신러닝 라이브러리 중 하나로, 다양한 머신러닝 알고리즘과 도구를 제공합니다. \n",
    "\n",
    "\n",
    "\n",
    "이 라이브러리를 사용하면 데이터 전처리, 모델 학습, 평가, 하이퍼파라미터 튜닝 등을 쉽게 수행할 수 있습니다. \n",
    "\n",
    "\n",
    "\n",
    "아래에 scikit-learn으로 할 수 있는 주요 기능들을 설명하겠습니다.\n",
    "\n",
    "\n",
    "\n",
    "1. 데이터 전처리\n",
    "\n",
    "\n",
    "scikit-learn은 데이터를 전처리하고 변환하는 다양한 도구를 제공합니다:\n",
    "\n",
    "\n",
    "\n",
    "스케일링 및 정규화: StandardScaler, MinMaxScaler, Normalizer 등\n",
    "\n",
    "\n",
    "결측값 처리: SimpleImputer를 사용하여 결측값을 대체\n",
    "\n",
    "\n",
    "인코딩: LabelEncoder, OneHotEncoder를 사용하여 범주형 데이터를 숫자로 변환\n",
    "\n",
    "\n",
    "\n",
    "\n",
    "2. 데이터셋 로드\n",
    "\n",
    "\n",
    "scikit-learn은 여러 가지 예제 데이터셋을 내장하고 있어 학습 및 테스트에 사용할 수 있습니다:\n",
    "\n",
    "\n",
    "\n",
    "데이터셋 로드 함수: load_iris(), load_digits(), load_wine() 등\n",
    "\n",
    "\n",
    "외부 데이터셋 로드: fetch_20newsgroups(), fetch_olivetti_faces() 등\n",
    "\n",
    "\n",
    "\n",
    "\n",
    "3. 모델 학습\n",
    "\n",
    "\n",
    "scikit-learn은 다양한 머신러닝 알고리즘을 제공합니다:\n",
    "\n",
    "\n",
    "\n",
    "회귀 분석: LinearRegression, Ridge, Lasso\n",
    "\n",
    "\n",
    "분류: LogisticRegression, KNeighborsClassifier, DecisionTreeClassifier, RandomForestClassifier, SVM\n",
    "\n",
    "\n",
    "군집화: KMeans, DBSCAN, AgglomerativeClustering\n",
    "\n",
    "\n",
    "차원 축소: PCA, t-SNE\n",
    "\n",
    "\n",
    "4. 모델 평가\n",
    "\n",
    "\n",
    "모델의 성능을 평가하기 위한 다양한 메트릭을 제공합니다:\n",
    "\n",
    "분류 평가: accuracy_score, precision_score, recall_score, f1_score, confusion_matrix\n",
    "\n",
    "\n",
    "회귀 평가: mean_squared_error, mean_absolute_error, r2_score\n",
    "\n",
    "\n",
    "교차 검증: cross_val_score, GridSearchCV, RandomizedSearchCV\n",
    "\n",
    "\n",
    "\n",
    "5. 모델 저장 및 로드\n",
    "\n",
    "\n",
    "학습된 모델을 저장하고 나중에 로드할 수 있습니다:\n",
    "\n",
    "\n",
    "\n",
    "모델 저장: joblib 또는 pickle을 사용하여 모델 저장\n",
    "\n",
    "\n",
    "모델 로드: 저장된 모델 파일을 로드하여 재사용\n",
    "\n",
    "\n",
    "\n",
    "\n",
    "6. 파이프라인\n",
    "\n",
    "\n",
    "복잡한 머신러닝 워크플로우를 단순화하기 위한 파이프라인을 제공합니다:\n",
    "\n",
    "\n",
    "\n",
    "Pipeline: 여러 단계의 변환기와 추정기를 연결하여 하나의 객체로 관리\n",
    "\n",
    "\n",
    "FeatureUnion: 여러 변환기를 병렬로 적용하여 피처를 결합\n",
    "\n",
    "\n",
    "\n",
    "\n",
    "7. 하이퍼파라미터 튜닝\n",
    "\n",
    "\n",
    "모델의 하이퍼파라미터를 자동으로 최적화할 수 있습니다:\n",
    "\n",
    "\n",
    "\n",
    "GridSearchCV: 모든 조합의 하이퍼파라미터를 시도하여 최적의 파라미터를 찾음\n",
    "\n",
    "\n",
    "RandomizedSearchCV: 랜덤하게 선택된 하이퍼파라미터 조합을 시도하여 최적의 파라미터를 찾음\n",
    "\n"
   ]
  },
  {
   "cell_type": "code",
   "execution_count": 9,
   "id": "8dce0842-637a-402d-b307-b382c0f32e88",
   "metadata": {},
   "outputs": [],
   "source": [
    "# datasets 모듈: 사이킷런 예제 데이터가 들어있다.\n",
    "\n",
    "from sklearn.datasets import load_iris\n",
    "\n",
    "# 마우스 커서 if 위에 두고 shift + tap 같이 누르면 도움말 나옴\n",
    "\n",
    "\n",
    "# 이 코드는 scikit-learn 라이브러리에서 제공하는 load_iris 함수를 사용하여 유명한 아이리스(iris) 데이터를 로드하는 역할을 합니다.\n",
    "\n",
    "# 좀 더 구체적으로 설명드리자면:\n",
    "\n",
    "# scikit-learn은 파이썬에서 가장 널리 사용되는 머신러닝 라이브러리 중 하나로, 다양한 머신러닝 알고리즘과 도구를 제공합니다.\n",
    "# load_iris 함수는 아이리스 꽃 데이터셋을 불러오는 함수입니다. 이 데이터셋은 머신러닝 교육과 예제에서 자주 사용되는 데이터셋으로, \n",
    "# 총 150개의 데이터 포인트가 있으며, 각 포인트는 4개의 특징(꽃받침 길이, 꽃받침 너비, 꽃잎 길이, 꽃잎 너비)으로 구성되어 있습니다. \n",
    "# 또한 3개의 서로 다른 아이리스 꽃 종류(세토사, 버시컬러, 버지니카)가 포함되어 있습니다.\n",
    "\n",
    "\n"
   ]
  },
  {
   "cell_type": "code",
   "execution_count": 10,
   "id": "de69a3d0-268e-4c77-b025-7c9f79ff00ce",
   "metadata": {},
   "outputs": [
    {
     "data": {
      "text/plain": [
       "sklearn.utils._bunch.Bunch"
      ]
     },
     "execution_count": 10,
     "metadata": {},
     "output_type": "execute_result"
    }
   ],
   "source": [
    "iris_data = load_iris()\n",
    "type(iris_data)\n",
    "\n",
    "\n",
    "\n",
    "# 이 코드는 load_iris() 함수를 호출하여 아이리스 데이터를 iris_data 변수에 저장하고, iris_data의 데이터 타입을 확인하는 코드입니다.\n",
    "\n",
    "# 좀 더 구체적으로 설명드리자면:\n",
    "\n",
    "# iris_data = load_iris(): load_iris 함수를 호출하여 아이리스 데이터를 불러오고, 그 결과를 iris_data 변수에 저장합니다.\n",
    "# type(iris_data): iris_data 변수의 데이터 타입을 확인하여 반환합니다.\n",
    "# iris_data의 타입은 sklearn.utils.Bunch 객체입니다. Bunch는 딕셔너리와 비슷한 자료구조로, 키-값 쌍으로 데이터를 저장합니다. \n",
    "\n",
    "# Bunch 객체는 다음과 같은 속성을 가집니다:\n",
    "\n",
    "# data: 특징 데이터를 담고 있는 배열 (shape: [150, 4])\n",
    "# target: 타겟 레이블을 담고 있는 배열 (shape: [150])\n",
    "# feature_names: 특징의 이름을 담고 있는 리스트\n",
    "# target_names: 타겟 레이블의 이름을 담고 있는 리스트\n",
    "# DESCR: 데이터셋에 대한 설명을 담고 있는 문자열\n",
    "\n",
    "# 따라서, iris_data의 타입은 sklearn.utils.Bunch 객체입니다."
   ]
  },
  {
   "cell_type": "code",
   "execution_count": null,
   "id": "a04072ac",
   "metadata": {},
   "outputs": [
    {
     "data": {
      "text/plain": [
       "['sepal length (cm)',\n",
       " 'sepal width (cm)',\n",
       " 'petal length (cm)',\n",
       " 'petal width (cm)']"
      ]
     },
     "metadata": {},
     "output_type": "display_data"
    }
   ],
   "source": [
    "# feature 이름 확인\n",
    "\n",
    "iris_data.feature_names\n",
    "\n",
    "# 이 코드는 iris_data 객체에서 특징(feature) 이름을 확인하는 코드입니다.\n",
    "\n",
    "# iris_data.feature_names는 아이리스 데이터셋의 각 특징의 이름을 담고 있는 리스트입니다.\n",
    "\n",
    "# 좀 더 구체적으로 설명드리자면:\n",
    "\n",
    "# iris_data.feature_names는 아이리스 데이터셋의 각 특징(속성)의 이름을 문자열 형태로 담고 있는 리스트입니다.\n",
    "# 이 리스트는 데이터셋의 각 열이 무엇을 나타내는지를 설명합니다."
   ]
  },
  {
   "cell_type": "code",
   "execution_count": 11,
   "id": "ec4afccb-7f78-4248-8eda-e28dd0c84d18",
   "metadata": {},
   "outputs": [
    {
     "data": {
      "text/plain": [
       "array([[5.1, 3.5, 1.4, 0.2],\n",
       "       [4.9, 3. , 1.4, 0.2],\n",
       "       [4.7, 3.2, 1.3, 0.2]])"
      ]
     },
     "execution_count": 11,
     "metadata": {},
     "output_type": "execute_result"
    }
   ],
   "source": [
    "iris_data.data[:3]\n",
    "\n",
    "# 이 코드는 iris_data 객체에서 첫 세 개의 데이터 포인트를 확인하는 코드입니다. \n",
    "# iris_data.data는 아이리스 데이터셋의 특징(feature) 데이터를 담고 있는 배열입니다.\n",
    "\n",
    "# 좀 더 구체적으로 설명드리자면:\n",
    "\n",
    "# iris_data.data는 아이리스 데이터셋의 특징 데이터를 포함하는 2차원 배열입니다. \n",
    "# 이 배열은 각 행이 하나의 데이터 포인트를 나타내며, 각 열은 특정 특징(꽃받침 길이, 꽃받침 너비, 꽃잎 길이, 꽃잎 너비)을 나타냅니다.\n",
    "# [:3]은 배열의 슬라이싱(slicing) 문법으로, 처음 세 개의 행을 선택합니다.\n",
    "# 즉, iris_data.data[:3]는 아이리스 데이터셋에서 처음 세 개의 데이터 포인트를 반환합니다."
   ]
  },
  {
   "cell_type": "code",
   "execution_count": 12,
   "id": "05d54880-1bf5-4e6b-af44-43000e756e21",
   "metadata": {},
   "outputs": [
    {
     "data": {
      "text/plain": [
       "(150, 4)"
      ]
     },
     "execution_count": 12,
     "metadata": {},
     "output_type": "execute_result"
    }
   ],
   "source": [
    "iris_data.data.shape\n",
    "\n",
    "# 이 코드는 iris_data.data 배열의 형태(shape)를 확인하는 코드입니다.\n",
    "\n",
    "# 좀 더 구체적으로 설명드리자면:\n",
    "\n",
    "# iris_data.data는 아이리스 데이터셋의 특징(feature) 데이터를 포함하는 2차원 배열입니다.\n",
    "# .shape 속성은 배열의 형태를 나타내는 튜플을 반환합니다. 이 튜플은 배열의 각 차원의 크기를 나타냅니다.\n",
    "# 아이리스 데이터셋의 경우, iris_data.data.shape는 (150, 4)가 됩니다. 이는 다음을 의미합니다:\n",
    "\n",
    "# 첫 번째 차원(행)의 크기는 150으로, 총 150개의 데이터 포인트가 있음을 나타냅니다.\n",
    "# 두 번째 차원(열)의 크기는 4로, 각 데이터 포인트는 4개의 특징(꽃받침 길이, 꽃받침 너비, 꽃잎 길이, 꽃잎 너비)을 가지고 있음을 나타냅니다."
   ]
  },
  {
   "cell_type": "code",
   "execution_count": 14,
   "id": "a4144102-457f-4312-8096-2a725f7975f0",
   "metadata": {},
   "outputs": [
    {
     "data": {
      "text/plain": [
       "array(['setosa', 'versicolor', 'virginica'], dtype='<U10')"
      ]
     },
     "execution_count": 14,
     "metadata": {},
     "output_type": "execute_result"
    }
   ],
   "source": [
    "# class 이름 확인\n",
    "iris_data.target_names\n",
    "\n",
    "# 인덱스의 위치가 클래스다\n",
    "# 0번 인덱스에 있는 setosa라는 클래스를 의미함\n",
    "# 위 iris_data.target에서 0은 setosa 클래스\n",
    "\n",
    "\n",
    "\n",
    "# 이 코드는 iris_data 객체에서 타겟 레이블의 이름을 확인하는 코드입니다.\n",
    "\n",
    "# iris_data.target_names는 아이리스 데이터셋에 포함된 클래스(타겟 레이블)의 이름을 담고 있는 배열입니다.\n",
    "\n",
    "# 좀 더 구체적으로 설명드리자면:\n",
    "\n",
    "# iris_data.target_names는 아이리스 꽃의 세 가지 종류의 이름을 담고 있습니다.\n",
    "# 이는 배열 형태로 제공되며, 각 클래스(종류)의 이름이 문자열로 저장되어 있습니다.\n"
   ]
  },
  {
   "cell_type": "code",
   "execution_count": 15,
   "id": "de71ad2a-d291-4f3c-b8ca-67d6c4059e9c",
   "metadata": {},
   "outputs": [
    {
     "data": {
      "text/plain": [
       "array([0, 0, 0, 0, 0, 0, 0, 0, 0, 0, 0, 0, 0, 0, 0, 0, 0, 0, 0, 0, 0, 0,\n",
       "       0, 0, 0, 0, 0, 0, 0, 0, 0, 0, 0, 0, 0, 0, 0, 0, 0, 0, 0, 0, 0, 0,\n",
       "       0, 0, 0, 0, 0, 0, 1, 1, 1, 1, 1, 1, 1, 1, 1, 1, 1, 1, 1, 1, 1, 1,\n",
       "       1, 1, 1, 1, 1, 1, 1, 1, 1, 1, 1, 1, 1, 1, 1, 1, 1, 1, 1, 1, 1, 1,\n",
       "       1, 1, 1, 1, 1, 1, 1, 1, 1, 1, 1, 1, 2, 2, 2, 2, 2, 2, 2, 2, 2, 2,\n",
       "       2, 2, 2, 2, 2, 2, 2, 2, 2, 2, 2, 2, 2, 2, 2, 2, 2, 2, 2, 2, 2, 2,\n",
       "       2, 2, 2, 2, 2, 2, 2, 2, 2, 2, 2, 2, 2, 2, 2, 2, 2, 2])"
      ]
     },
     "execution_count": 15,
     "metadata": {},
     "output_type": "execute_result"
    }
   ],
   "source": [
    "iris_data.target\n",
    "\n",
    "# 이 코드는 iris_data 객체에서 타겟 데이터를 확인하는 코드입니다.\n",
    "\n",
    "# iris_data.target은 아이리스 데이터셋의 타겟 레이블(클래스)을 담고 있는 배열입니다.\n",
    "\n",
    "# 좀 더 구체적으로 설명드리자면:\n",
    "\n",
    "# iris_data.target은 1차원 배열로, 각 요소는 해당 데이터 포인트의 클래스(종류)를 나타내는 정수입니다.\n",
    "# 이 배열은 데이터셋의 각 데이터 포인트에 대한 타겟 레이블을 포함하고 있으며, 레이블은 0, 1, 2로 표현됩니다.\n",
    "# 0은 setosa\n",
    "# 1은 versicolor\n",
    "# 2는 virginica를 나타냅니다.\n",
    "\n",
    "# 위 배열은 총 150개의 요소를 가지고 있으며, 각 요소는 해당 데이터 포인트의 클래스(종류)를 나타냅니다.\n",
    "\n"
   ]
  },
  {
   "cell_type": "markdown",
   "id": "d6f8c568-bca0-4cb7-bb58-83cc4bcf3499",
   "metadata": {},
   "source": [
    "# 데이터 프레임으로 정리하기"
   ]
  },
  {
   "cell_type": "code",
   "execution_count": 18,
   "id": "8d634dc2-cee5-4f00-9dbd-4c556271a054",
   "metadata": {},
   "outputs": [
    {
     "data": {
      "text/html": [
       "<div>\n",
       "<style scoped>\n",
       "    .dataframe tbody tr th:only-of-type {\n",
       "        vertical-align: middle;\n",
       "    }\n",
       "\n",
       "    .dataframe tbody tr th {\n",
       "        vertical-align: top;\n",
       "    }\n",
       "\n",
       "    .dataframe thead th {\n",
       "        text-align: right;\n",
       "    }\n",
       "</style>\n",
       "<table border=\"1\" class=\"dataframe\">\n",
       "  <thead>\n",
       "    <tr style=\"text-align: right;\">\n",
       "      <th></th>\n",
       "      <th>sepal length (cm)</th>\n",
       "      <th>sepal width (cm)</th>\n",
       "      <th>petal length (cm)</th>\n",
       "      <th>petal width (cm)</th>\n",
       "    </tr>\n",
       "  </thead>\n",
       "  <tbody>\n",
       "    <tr>\n",
       "      <th>0</th>\n",
       "      <td>5.1</td>\n",
       "      <td>3.5</td>\n",
       "      <td>1.4</td>\n",
       "      <td>0.2</td>\n",
       "    </tr>\n",
       "    <tr>\n",
       "      <th>1</th>\n",
       "      <td>4.9</td>\n",
       "      <td>3.0</td>\n",
       "      <td>1.4</td>\n",
       "      <td>0.2</td>\n",
       "    </tr>\n",
       "    <tr>\n",
       "      <th>2</th>\n",
       "      <td>4.7</td>\n",
       "      <td>3.2</td>\n",
       "      <td>1.3</td>\n",
       "      <td>0.2</td>\n",
       "    </tr>\n",
       "    <tr>\n",
       "      <th>3</th>\n",
       "      <td>4.6</td>\n",
       "      <td>3.1</td>\n",
       "      <td>1.5</td>\n",
       "      <td>0.2</td>\n",
       "    </tr>\n",
       "    <tr>\n",
       "      <th>4</th>\n",
       "      <td>5.0</td>\n",
       "      <td>3.6</td>\n",
       "      <td>1.4</td>\n",
       "      <td>0.2</td>\n",
       "    </tr>\n",
       "  </tbody>\n",
       "</table>\n",
       "</div>"
      ],
      "text/plain": [
       "   sepal length (cm)  sepal width (cm)  petal length (cm)  petal width (cm)\n",
       "0                5.1               3.5                1.4               0.2\n",
       "1                4.9               3.0                1.4               0.2\n",
       "2                4.7               3.2                1.3               0.2\n",
       "3                4.6               3.1                1.5               0.2\n",
       "4                5.0               3.6                1.4               0.2"
      ]
     },
     "execution_count": 18,
     "metadata": {},
     "output_type": "execute_result"
    }
   ],
   "source": [
    "import pandas as pd\n",
    "\n",
    "iris_df = pd.DataFrame(data=iris_data.data, columns=iris_data.feature_names)\n",
    "iris_df.head()\n",
    "\n",
    "\n",
    "# data=iris_data.data: 데이터프레임의 데이터를 설정합니다. 이는 아이리스 데이터셋의 특징 데이터를 포함합니다.\n",
    "# columns=iris_data.feature_names: 데이터프레임의 열 이름을 설정합니다. 이는 아이리스 데이터셋의 각 특징(속성)의 이름을 포함합니다."
   ]
  },
  {
   "cell_type": "code",
   "execution_count": 17,
   "id": "1a95c913",
   "metadata": {},
   "outputs": [
    {
     "data": {
      "text/html": [
       "<div>\n",
       "<style scoped>\n",
       "    .dataframe tbody tr th:only-of-type {\n",
       "        vertical-align: middle;\n",
       "    }\n",
       "\n",
       "    .dataframe tbody tr th {\n",
       "        vertical-align: top;\n",
       "    }\n",
       "\n",
       "    .dataframe thead th {\n",
       "        text-align: right;\n",
       "    }\n",
       "</style>\n",
       "<table border=\"1\" class=\"dataframe\">\n",
       "  <thead>\n",
       "    <tr style=\"text-align: right;\">\n",
       "      <th></th>\n",
       "      <th>sepal length (cm)</th>\n",
       "      <th>sepal width (cm)</th>\n",
       "      <th>petal length (cm)</th>\n",
       "      <th>petal width (cm)</th>\n",
       "      <th>target</th>\n",
       "    </tr>\n",
       "  </thead>\n",
       "  <tbody>\n",
       "    <tr>\n",
       "      <th>0</th>\n",
       "      <td>5.1</td>\n",
       "      <td>3.5</td>\n",
       "      <td>1.4</td>\n",
       "      <td>0.2</td>\n",
       "      <td>0</td>\n",
       "    </tr>\n",
       "    <tr>\n",
       "      <th>1</th>\n",
       "      <td>4.9</td>\n",
       "      <td>3.0</td>\n",
       "      <td>1.4</td>\n",
       "      <td>0.2</td>\n",
       "      <td>0</td>\n",
       "    </tr>\n",
       "    <tr>\n",
       "      <th>2</th>\n",
       "      <td>4.7</td>\n",
       "      <td>3.2</td>\n",
       "      <td>1.3</td>\n",
       "      <td>0.2</td>\n",
       "      <td>0</td>\n",
       "    </tr>\n",
       "    <tr>\n",
       "      <th>3</th>\n",
       "      <td>4.6</td>\n",
       "      <td>3.1</td>\n",
       "      <td>1.5</td>\n",
       "      <td>0.2</td>\n",
       "      <td>0</td>\n",
       "    </tr>\n",
       "    <tr>\n",
       "      <th>4</th>\n",
       "      <td>5.0</td>\n",
       "      <td>3.6</td>\n",
       "      <td>1.4</td>\n",
       "      <td>0.2</td>\n",
       "      <td>0</td>\n",
       "    </tr>\n",
       "  </tbody>\n",
       "</table>\n",
       "</div>"
      ],
      "text/plain": [
       "   sepal length (cm)  sepal width (cm)  petal length (cm)  petal width (cm)  \\\n",
       "0                5.1               3.5                1.4               0.2   \n",
       "1                4.9               3.0                1.4               0.2   \n",
       "2                4.7               3.2                1.3               0.2   \n",
       "3                4.6               3.1                1.5               0.2   \n",
       "4                5.0               3.6                1.4               0.2   \n",
       "\n",
       "   target  \n",
       "0       0  \n",
       "1       0  \n",
       "2       0  \n",
       "3       0  \n",
       "4       0  "
      ]
     },
     "execution_count": 17,
     "metadata": {},
     "output_type": "execute_result"
    }
   ],
   "source": [
    "iris_df['target'] = iris_data.target\n",
    "iris_df.head()\n",
    "\n",
    "# iris_df['target'] = iris_data.target\n",
    "# : iris_data.target 배열을 iris_df 데이터프레임에 새로운 열로 추가합니다. 이 열의 이름은 'target'입니다.\n",
    "# iris_data.target 배열은 각 데이터 포인트의 타겟 레이블을 포함하며, 이 배열의 각 값은 해당 데이터 포인트의 클래스(종류)를 나타냅니다.\n",
    "# 타겟 레이블은 0, 1, 2로 표현되며, 이는 각각 setosa, versicolor, virginica를 나타냅니다."
   ]
  }
 ],
 "metadata": {
  "kernelspec": {
   "display_name": "Python 3 (ipykernel)",
   "language": "python",
   "name": "python3"
  },
  "language_info": {
   "codemirror_mode": {
    "name": "ipython",
    "version": 3
   },
   "file_extension": ".py",
   "mimetype": "text/x-python",
   "name": "python",
   "nbconvert_exporter": "python",
   "pygments_lexer": "ipython3",
   "version": "3.8.19"
  }
 },
 "nbformat": 4,
 "nbformat_minor": 5
}
